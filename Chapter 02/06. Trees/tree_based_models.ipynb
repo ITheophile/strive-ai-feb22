{
 "cells": [
  {
   "cell_type": "markdown",
   "metadata": {},
   "source": [
    "# Useful libraries"
   ]
  },
  {
   "cell_type": "code",
   "execution_count": 41,
   "metadata": {},
   "outputs": [],
   "source": [
    "import pandas as pd\n",
    "import numpy as np\n",
    "import matplotlib.pyplot as plt\n",
    "import seaborn as sns\n",
    "\n",
    "\n",
    "from sklearn.model_selection import train_test_split\n",
    "from sklearn.preprocessing import OrdinalEncoder\n",
    "\n",
    "from sklearn.tree import DecisionTreeClassifier\n",
    "from sklearn.ensemble import RandomForestClassifier\n",
    "\n",
    "from sklearn.pipeline import make_pipeline\n",
    "\n",
    "from sklearn.model_selection import GridSearchCV\n",
    "from sklearn.model_selection import cross_val_score\n",
    "\n",
    "from sklearn.tree import plot_tree\n",
    "from sklearn.metrics import plot_confusion_matrix\n",
    "\n",
    "\n",
    "\n"
   ]
  },
  {
   "cell_type": "markdown",
   "metadata": {},
   "source": [
    "# Get the data"
   ]
  },
  {
   "cell_type": "code",
   "execution_count": 2,
   "metadata": {},
   "outputs": [],
   "source": [
    "car_link = 'https://archive.ics.uci.edu/ml/machine-learning-databases/car/car.data'"
   ]
  },
  {
   "cell_type": "code",
   "execution_count": 3,
   "metadata": {},
   "outputs": [
    {
     "data": {
      "text/html": [
       "<div>\n",
       "<style scoped>\n",
       "    .dataframe tbody tr th:only-of-type {\n",
       "        vertical-align: middle;\n",
       "    }\n",
       "\n",
       "    .dataframe tbody tr th {\n",
       "        vertical-align: top;\n",
       "    }\n",
       "\n",
       "    .dataframe thead th {\n",
       "        text-align: right;\n",
       "    }\n",
       "</style>\n",
       "<table border=\"1\" class=\"dataframe\">\n",
       "  <thead>\n",
       "    <tr style=\"text-align: right;\">\n",
       "      <th></th>\n",
       "      <th>0</th>\n",
       "      <th>1</th>\n",
       "      <th>2</th>\n",
       "      <th>3</th>\n",
       "      <th>4</th>\n",
       "      <th>5</th>\n",
       "      <th>6</th>\n",
       "    </tr>\n",
       "  </thead>\n",
       "  <tbody>\n",
       "    <tr>\n",
       "      <th>0</th>\n",
       "      <td>vhigh</td>\n",
       "      <td>vhigh</td>\n",
       "      <td>2</td>\n",
       "      <td>2</td>\n",
       "      <td>small</td>\n",
       "      <td>low</td>\n",
       "      <td>unacc</td>\n",
       "    </tr>\n",
       "    <tr>\n",
       "      <th>1</th>\n",
       "      <td>vhigh</td>\n",
       "      <td>vhigh</td>\n",
       "      <td>2</td>\n",
       "      <td>2</td>\n",
       "      <td>small</td>\n",
       "      <td>med</td>\n",
       "      <td>unacc</td>\n",
       "    </tr>\n",
       "    <tr>\n",
       "      <th>2</th>\n",
       "      <td>vhigh</td>\n",
       "      <td>vhigh</td>\n",
       "      <td>2</td>\n",
       "      <td>2</td>\n",
       "      <td>small</td>\n",
       "      <td>high</td>\n",
       "      <td>unacc</td>\n",
       "    </tr>\n",
       "    <tr>\n",
       "      <th>3</th>\n",
       "      <td>vhigh</td>\n",
       "      <td>vhigh</td>\n",
       "      <td>2</td>\n",
       "      <td>2</td>\n",
       "      <td>med</td>\n",
       "      <td>low</td>\n",
       "      <td>unacc</td>\n",
       "    </tr>\n",
       "    <tr>\n",
       "      <th>4</th>\n",
       "      <td>vhigh</td>\n",
       "      <td>vhigh</td>\n",
       "      <td>2</td>\n",
       "      <td>2</td>\n",
       "      <td>med</td>\n",
       "      <td>med</td>\n",
       "      <td>unacc</td>\n",
       "    </tr>\n",
       "  </tbody>\n",
       "</table>\n",
       "</div>"
      ],
      "text/plain": [
       "       0      1  2  3      4     5      6\n",
       "0  vhigh  vhigh  2  2  small   low  unacc\n",
       "1  vhigh  vhigh  2  2  small   med  unacc\n",
       "2  vhigh  vhigh  2  2  small  high  unacc\n",
       "3  vhigh  vhigh  2  2    med   low  unacc\n",
       "4  vhigh  vhigh  2  2    med   med  unacc"
      ]
     },
     "execution_count": 3,
     "metadata": {},
     "output_type": "execute_result"
    }
   ],
   "source": [
    "data = pd.read_csv(car_link, header=None)\n",
    "data.head()"
   ]
  },
  {
   "cell_type": "markdown",
   "metadata": {},
   "source": [
    "# EDA and cleaning"
   ]
  },
  {
   "cell_type": "markdown",
   "metadata": {},
   "source": [
    "Names of the columns are [buying, maint, doors, persons, lug_boot, safety, class values] where `class values` is the target represents the car evalution or acceptability.  \n",
    "Let's change the columns names for more readability."
   ]
  },
  {
   "cell_type": "code",
   "execution_count": 4,
   "metadata": {},
   "outputs": [
    {
     "data": {
      "text/html": [
       "<div>\n",
       "<style scoped>\n",
       "    .dataframe tbody tr th:only-of-type {\n",
       "        vertical-align: middle;\n",
       "    }\n",
       "\n",
       "    .dataframe tbody tr th {\n",
       "        vertical-align: top;\n",
       "    }\n",
       "\n",
       "    .dataframe thead th {\n",
       "        text-align: right;\n",
       "    }\n",
       "</style>\n",
       "<table border=\"1\" class=\"dataframe\">\n",
       "  <thead>\n",
       "    <tr style=\"text-align: right;\">\n",
       "      <th></th>\n",
       "      <th>buying</th>\n",
       "      <th>maint</th>\n",
       "      <th>doors</th>\n",
       "      <th>persons</th>\n",
       "      <th>lug_boot</th>\n",
       "      <th>safety</th>\n",
       "      <th>target</th>\n",
       "    </tr>\n",
       "  </thead>\n",
       "  <tbody>\n",
       "    <tr>\n",
       "      <th>0</th>\n",
       "      <td>vhigh</td>\n",
       "      <td>vhigh</td>\n",
       "      <td>2</td>\n",
       "      <td>2</td>\n",
       "      <td>small</td>\n",
       "      <td>low</td>\n",
       "      <td>unacc</td>\n",
       "    </tr>\n",
       "    <tr>\n",
       "      <th>1</th>\n",
       "      <td>vhigh</td>\n",
       "      <td>vhigh</td>\n",
       "      <td>2</td>\n",
       "      <td>2</td>\n",
       "      <td>small</td>\n",
       "      <td>med</td>\n",
       "      <td>unacc</td>\n",
       "    </tr>\n",
       "    <tr>\n",
       "      <th>2</th>\n",
       "      <td>vhigh</td>\n",
       "      <td>vhigh</td>\n",
       "      <td>2</td>\n",
       "      <td>2</td>\n",
       "      <td>small</td>\n",
       "      <td>high</td>\n",
       "      <td>unacc</td>\n",
       "    </tr>\n",
       "    <tr>\n",
       "      <th>3</th>\n",
       "      <td>vhigh</td>\n",
       "      <td>vhigh</td>\n",
       "      <td>2</td>\n",
       "      <td>2</td>\n",
       "      <td>med</td>\n",
       "      <td>low</td>\n",
       "      <td>unacc</td>\n",
       "    </tr>\n",
       "    <tr>\n",
       "      <th>4</th>\n",
       "      <td>vhigh</td>\n",
       "      <td>vhigh</td>\n",
       "      <td>2</td>\n",
       "      <td>2</td>\n",
       "      <td>med</td>\n",
       "      <td>med</td>\n",
       "      <td>unacc</td>\n",
       "    </tr>\n",
       "  </tbody>\n",
       "</table>\n",
       "</div>"
      ],
      "text/plain": [
       "  buying  maint doors persons lug_boot safety target\n",
       "0  vhigh  vhigh     2       2    small    low  unacc\n",
       "1  vhigh  vhigh     2       2    small    med  unacc\n",
       "2  vhigh  vhigh     2       2    small   high  unacc\n",
       "3  vhigh  vhigh     2       2      med    low  unacc\n",
       "4  vhigh  vhigh     2       2      med    med  unacc"
      ]
     },
     "execution_count": 4,
     "metadata": {},
     "output_type": "execute_result"
    }
   ],
   "source": [
    "names = [\"buying\", \"maint\", \"doors\", \"persons\", \"lug_boot\", \"safety\", \"target\"]\n",
    "\n",
    "data.columns = names\n",
    "data.head()"
   ]
  },
  {
   "cell_type": "code",
   "execution_count": 5,
   "metadata": {},
   "outputs": [
    {
     "data": {
      "text/plain": [
       "buying      object\n",
       "maint       object\n",
       "doors       object\n",
       "persons     object\n",
       "lug_boot    object\n",
       "safety      object\n",
       "target      object\n",
       "dtype: object"
      ]
     },
     "execution_count": 5,
     "metadata": {},
     "output_type": "execute_result"
    }
   ],
   "source": [
    "# What are the data types for each column ?\n",
    "data.dtypes"
   ]
  },
  {
   "cell_type": "code",
   "execution_count": 6,
   "metadata": {},
   "outputs": [
    {
     "data": {
      "image/png": "[encoded data removed]",
      "text/plain": [
       "<Figure size 432x288 with 1 Axes>"
      ]
     },
     "metadata": {
      "needs_background": "light"
     },
     "output_type": "display_data"
    },
    {
     "data": {
      "image/png": "[encoded data removed]",
      "text/plain": [
       "<Figure size 432x288 with 1 Axes>"
      ]
     },
     "metadata": {
      "needs_background": "light"
     },
     "output_type": "display_data"
    },
    {
     "data": {
      "image/png": "[encoded data removed]",
      "text/plain": [
       "<Figure size 432x288 with 1 Axes>"
      ]
     },
     "metadata": {
      "needs_background": "light"
     },
     "output_type": "display_data"
    },
    {
     "data": {
      "image/png": "[encoded data removed]",
      "text/plain": [
       "<Figure size 432x288 with 1 Axes>"
      ]
     },
     "metadata": {
      "needs_background": "light"
     },
     "output_type": "display_data"
    },
    {
     "data": {
      "image/png": "[encoded data removed]",
      "text/plain": [
       "<Figure size 432x288 with 1 Axes>"
      ]
     },
     "metadata": {
      "needs_background": "light"
     },
     "output_type": "display_data"
    },
    {
     "data": {
      "image/png": "[encoded data removed]",
      "text/plain": [
       "<Figure size 432x288 with 1 Axes>"
      ]
     },
     "metadata": {
      "needs_background": "light"
     },
     "output_type": "display_data"
    },
    {
     "data": {
      "image/png": "[encoded data removed]",
      "text/plain": [
       "<Figure size 432x288 with 1 Axes>"
      ]
     },
     "metadata": {
      "needs_background": "light"
     },
     "output_type": "display_data"
    }
   ],
   "source": [
    "# And what are the values frequencies of values in each column ?\n",
    "\n",
    "for column in data.columns:\n",
    "    data[column].value_counts().plot(kind = 'bar')\n",
    "    plt.title(column)\n",
    "    plt.show()\n",
    "    "
   ]
  },
  {
   "cell_type": "markdown",
   "metadata": {},
   "source": [
    "While all classes in each each feature seem to be well balanced, our target value is quite unbalanced. This should be taken into consideration when splitting the data into training and testing by sampling with stratification based on the target."
   ]
  },
  {
   "cell_type": "code",
   "execution_count": 7,
   "metadata": {},
   "outputs": [
    {
     "data": {
      "text/plain": [
       "buying      False\n",
       "maint       False\n",
       "doors       False\n",
       "persons     False\n",
       "lug_boot    False\n",
       "safety      False\n",
       "target      False\n",
       "dtype: bool"
      ]
     },
     "execution_count": 7,
     "metadata": {},
     "output_type": "execute_result"
    }
   ],
   "source": [
    "# Any missing values?\n",
    "\n",
    "pd.isna(data).any()\n",
    "\n",
    "# Dataset looks complete"
   ]
  },
  {
   "cell_type": "markdown",
   "metadata": {},
   "source": [
    "# Training and Test data sets"
   ]
  },
  {
   "cell_type": "code",
   "execution_count": 8,
   "metadata": {},
   "outputs": [
    {
     "data": {
      "text/plain": [
       "(  buying  maint doors persons lug_boot safety\n",
       " 0  vhigh  vhigh     2       2    small    low\n",
       " 1  vhigh  vhigh     2       2    small    med\n",
       " 2  vhigh  vhigh     2       2    small   high\n",
       " 3  vhigh  vhigh     2       2      med    low\n",
       " 4  vhigh  vhigh     2       2      med    med,\n",
       " 0    unacc\n",
       " 1    unacc\n",
       " 2    unacc\n",
       " 3    unacc\n",
       " 4    unacc\n",
       " Name: target, dtype: object)"
      ]
     },
     "execution_count": 8,
     "metadata": {},
     "output_type": "execute_result"
    }
   ],
   "source": [
    "# Features and target separation\n",
    "X = data.drop(columns= 'target')\n",
    "y = data.target\n",
    "X.head(), y.head()"
   ]
  },
  {
   "cell_type": "code",
   "execution_count": 9,
   "metadata": {},
   "outputs": [],
   "source": [
    "X_train, X_test, y_train, y_test = train_test_split(X, y, test_size = 0.3, stratify = y, random_state = 0)"
   ]
  },
  {
   "cell_type": "code",
   "execution_count": 10,
   "metadata": {},
   "outputs": [
    {
     "name": "stdout",
     "output_type": "stream",
     "text": [
      "(1209, 6) (1209,) (519, 6) (519,)\n"
     ]
    }
   ],
   "source": [
    "print(X_train.shape, y_train.shape, X_test.shape, y_test.shape)"
   ]
  },
  {
   "cell_type": "markdown",
   "metadata": {},
   "source": [
    "# Preprocessing\n",
    "All categorical features seem to have natural ordering. For example the `safety` feature has values of `low`, `med` and `high` which implies a rank from low to high.  \n",
    "Ordinal encoding in this case seems to be more appropriate."
   ]
  },
  {
   "cell_type": "code",
   "execution_count": 11,
   "metadata": {},
   "outputs": [
    {
     "data": {
      "text/plain": [
       "Index(['buying', 'maint', 'doors', 'persons', 'lug_boot', 'safety'], dtype='object')"
      ]
     },
     "execution_count": 11,
     "metadata": {},
     "output_type": "execute_result"
    }
   ],
   "source": [
    "# Let's remind ourselves of the columns names and the order in which they appear\n",
    "X_train.columns"
   ]
  },
  {
   "cell_type": "code",
   "execution_count": 12,
   "metadata": {},
   "outputs": [
    {
     "name": "stdout",
     "output_type": "stream",
     "text": [
      "['med' 'vhigh' 'high' 'low']\n"
     ]
    }
   ],
   "source": [
    "# Mapping values in columns to corresponding ordering\n",
    "# buying\n",
    "print(X_train.buying.unique())\n",
    "buying = ['low', 'med', 'high', 'vhigh']"
   ]
  },
  {
   "cell_type": "code",
   "execution_count": 13,
   "metadata": {},
   "outputs": [
    {
     "name": "stdout",
     "output_type": "stream",
     "text": [
      "['med' 'low' 'high' 'vhigh']\n"
     ]
    }
   ],
   "source": [
    "# maint\n",
    "print(X_train.maint.unique())\n",
    "maint = ['low', 'med', 'high', 'vhigh']"
   ]
  },
  {
   "cell_type": "code",
   "execution_count": 14,
   "metadata": {},
   "outputs": [
    {
     "name": "stdout",
     "output_type": "stream",
     "text": [
      "['2' '5more' '3' '4']\n"
     ]
    }
   ],
   "source": [
    "# doors\n",
    "print(X_train.doors.unique())\n",
    "doors = ['2', '3', '4', '5more']"
   ]
  },
  {
   "cell_type": "code",
   "execution_count": 15,
   "metadata": {},
   "outputs": [
    {
     "name": "stdout",
     "output_type": "stream",
     "text": [
      "['more' '2' '4']\n"
     ]
    }
   ],
   "source": [
    "# persons\n",
    "print(X_train.persons.unique())\n",
    "persons = ['2', '4', 'more']"
   ]
  },
  {
   "cell_type": "code",
   "execution_count": 16,
   "metadata": {},
   "outputs": [
    {
     "name": "stdout",
     "output_type": "stream",
     "text": [
      "['small' 'big' 'med']\n"
     ]
    }
   ],
   "source": [
    "# lug_boot\n",
    "print(X_train.lug_boot.unique())\n",
    "lug_b = ['small', 'med', 'big']"
   ]
  },
  {
   "cell_type": "code",
   "execution_count": 17,
   "metadata": {},
   "outputs": [
    {
     "name": "stdout",
     "output_type": "stream",
     "text": [
      "['med' 'low' 'high']\n"
     ]
    }
   ],
   "source": [
    "# safety\n",
    "print(X_train.safety.unique())\n",
    "safety = ['low', 'med', 'high']"
   ]
  },
  {
   "cell_type": "code",
   "execution_count": 18,
   "metadata": {},
   "outputs": [],
   "source": [
    "# Instatianting ordinal enconder\n",
    "oe = OrdinalEncoder(categories=[buying, maint, doors, persons, lug_b, safety])"
   ]
  },
  {
   "cell_type": "code",
   "execution_count": 19,
   "metadata": {},
   "outputs": [],
   "source": [
    "X_train_encoded = oe.fit_transform(X_train)\n",
    "X_test_encoded = oe.transform(X_test)"
   ]
  },
  {
   "cell_type": "markdown",
   "metadata": {},
   "source": [
    "# Decision Tree"
   ]
  },
  {
   "cell_type": "code",
   "execution_count": 20,
   "metadata": {},
   "outputs": [],
   "source": [
    "tree_clf = DecisionTreeClassifier(random_state=0)"
   ]
  },
  {
   "cell_type": "markdown",
   "metadata": {},
   "source": [
    "## Pipeline"
   ]
  },
  {
   "cell_type": "code",
   "execution_count": 21,
   "metadata": {},
   "outputs": [
    {
     "data": {
      "text/plain": [
       "Pipeline(steps=[('ordinalencoder',\n",
       "                 OrdinalEncoder(categories=[['low', 'med', 'high', 'vhigh'],\n",
       "                                            ['low', 'med', 'high', 'vhigh'],\n",
       "                                            ['2', '3', '4', '5more'],\n",
       "                                            ['2', '4', 'more'],\n",
       "                                            ['small', 'med', 'big'],\n",
       "                                            ['low', 'med', 'high']])),\n",
       "                ('decisiontreeclassifier',\n",
       "                 DecisionTreeClassifier(random_state=0))])"
      ]
     },
     "execution_count": 21,
     "metadata": {},
     "output_type": "execute_result"
    }
   ],
   "source": [
    "pipe = make_pipeline(oe, tree_clf)\n",
    "pipe"
   ]
  },
  {
   "cell_type": "markdown",
   "metadata": {},
   "source": [
    "## Fitting"
   ]
  },
  {
   "cell_type": "code",
   "execution_count": 23,
   "metadata": {},
   "outputs": [
    {
     "data": {
      "text/plain": [
       "Pipeline(steps=[('ordinalencoder',\n",
       "                 OrdinalEncoder(categories=[['low', 'med', 'high', 'vhigh'],\n",
       "                                            ['low', 'med', 'high', 'vhigh'],\n",
       "                                            ['2', '3', '4', '5more'],\n",
       "                                            ['2', '4', 'more'],\n",
       "                                            ['small', 'med', 'big'],\n",
       "                                            ['low', 'med', 'high']])),\n",
       "                ('decisiontreeclassifier',\n",
       "                 DecisionTreeClassifier(random_state=0))])"
      ]
     },
     "execution_count": 23,
     "metadata": {},
     "output_type": "execute_result"
    }
   ],
   "source": [
    "pipe.fit(X_train, y_train)"
   ]
  },
  {
   "cell_type": "code",
   "execution_count": 24,
   "metadata": {},
   "outputs": [
    {
     "data": {
      "image/png": "[encoded data removed]",
      "text/plain": [
       "<Figure size 1440x1080 with 1 Axes>"
      ]
     },
     "metadata": {
      "needs_background": "light"
     },
     "output_type": "display_data"
    }
   ],
   "source": [
    "plt.figure(figsize=(20, 15))\n",
    "plot_tree(pipe['decisiontreeclassifier'],\n",
    "          filled=True,\n",
    "          rounded=True,\n",
    "          class_names=y_train.unique(),\n",
    "         feature_names=X_train.columns, \n",
    "         max_depth=5)\n",
    "\n",
    "plt.show()"
   ]
  },
  {
   "cell_type": "markdown",
   "metadata": {},
   "source": [
    "## Performance"
   ]
  },
  {
   "cell_type": "code",
   "execution_count": 43,
   "metadata": {},
   "outputs": [
    {
     "name": "stdout",
     "output_type": "stream",
     "text": [
      "mean score: 0.97 | standard deviation: 0.01\n"
     ]
    },
    {
     "data": {
      "text/plain": [
       "array([0.98, 0.98, 0.98, 0.98, 0.95])"
      ]
     },
     "execution_count": 43,
     "metadata": {},
     "output_type": "execute_result"
    }
   ],
   "source": [
    "# Cross validation\n",
    "scores = cross_val_score(pipe, X_train, y_train)\n",
    "print('mean score: {:.2f} | standard deviation: {:.2f}'.format(scores.mean(), scores.std()))\n",
    "np.round(scores, 2)"
   ]
  },
  {
   "cell_type": "code",
   "execution_count": 44,
   "metadata": {},
   "outputs": [
    {
     "data": {
      "text/plain": [
       "0.97"
      ]
     },
     "execution_count": 44,
     "metadata": {},
     "output_type": "execute_result"
    }
   ],
   "source": [
    "# Score on test\n",
    "round(pipe.score(X_test, y_test), 2)"
   ]
  },
  {
   "cell_type": "code",
   "execution_count": 26,
   "metadata": {},
   "outputs": [
    {
     "data": {
      "text/plain": [
       "<sklearn.metrics._plot.confusion_matrix.ConfusionMatrixDisplay at 0x23bd0a157f0>"
      ]
     },
     "execution_count": 26,
     "metadata": {},
     "output_type": "execute_result"
    },
    {
     "data": {
      "image/png": "[encoded data removed]",
      "text/plain": [
       "<Figure size 720x720 with 2 Axes>"
      ]
     },
     "metadata": {
      "needs_background": "light"
     },
     "output_type": "display_data"
    }
   ],
   "source": [
    "# confusion matrix\n",
    "fig, ax = plt.subplots(figsize=(10, 10))\n",
    "plot_confusion_matrix(pipe, X_test, y_test, ax = ax)"
   ]
  },
  {
   "cell_type": "markdown",
   "metadata": {},
   "source": [
    "## Hyperparamater Tuning"
   ]
  },
  {
   "cell_type": "code",
   "execution_count": 27,
   "metadata": {},
   "outputs": [
    {
     "data": {
      "text/plain": [
       "13"
      ]
     },
     "execution_count": 27,
     "metadata": {},
     "output_type": "execute_result"
    }
   ],
   "source": [
    "pipe['decisiontreeclassifier'].get_depth()"
   ]
  },
  {
   "cell_type": "code",
   "execution_count": 28,
   "metadata": {},
   "outputs": [
    {
     "data": {
      "text/plain": [
       "dict_keys(['memory', 'steps', 'verbose', 'ordinalencoder', 'decisiontreeclassifier', 'ordinalencoder__categories', 'ordinalencoder__dtype', 'decisiontreeclassifier__ccp_alpha', 'decisiontreeclassifier__class_weight', 'decisiontreeclassifier__criterion', 'decisiontreeclassifier__max_depth', 'decisiontreeclassifier__max_features', 'decisiontreeclassifier__max_leaf_nodes', 'decisiontreeclassifier__min_impurity_decrease', 'decisiontreeclassifier__min_impurity_split', 'decisiontreeclassifier__min_samples_leaf', 'decisiontreeclassifier__min_samples_split', 'decisiontreeclassifier__min_weight_fraction_leaf', 'decisiontreeclassifier__presort', 'decisiontreeclassifier__random_state', 'decisiontreeclassifier__splitter'])"
      ]
     },
     "execution_count": 28,
     "metadata": {},
     "output_type": "execute_result"
    }
   ],
   "source": [
    "pipe.get_params().keys()"
   ]
  },
  {
   "cell_type": "code",
   "execution_count": 29,
   "metadata": {},
   "outputs": [],
   "source": [
    "params = {'decisiontreeclassifier__criterion': ['gini', 'entropy'], \n",
    "          'decisiontreeclassifier__max_depth': range(5, 14)}\n",
    "gscv = GridSearchCV(pipe, param_grid=params).fit(X_train, y_train)"
   ]
  },
  {
   "cell_type": "code",
   "execution_count": 30,
   "metadata": {},
   "outputs": [
    {
     "data": {
      "text/html": [
       "<div>\n",
       "<style scoped>\n",
       "    .dataframe tbody tr th:only-of-type {\n",
       "        vertical-align: middle;\n",
       "    }\n",
       "\n",
       "    .dataframe tbody tr th {\n",
       "        vertical-align: top;\n",
       "    }\n",
       "\n",
       "    .dataframe thead th {\n",
       "        text-align: right;\n",
       "    }\n",
       "</style>\n",
       "<table border=\"1\" class=\"dataframe\">\n",
       "  <thead>\n",
       "    <tr style=\"text-align: right;\">\n",
       "      <th></th>\n",
       "      <th>mean_fit_time</th>\n",
       "      <th>std_fit_time</th>\n",
       "      <th>mean_score_time</th>\n",
       "      <th>std_score_time</th>\n",
       "      <th>param_decisiontreeclassifier__criterion</th>\n",
       "      <th>param_decisiontreeclassifier__max_depth</th>\n",
       "      <th>params</th>\n",
       "      <th>split0_test_score</th>\n",
       "      <th>split1_test_score</th>\n",
       "      <th>split2_test_score</th>\n",
       "      <th>split3_test_score</th>\n",
       "      <th>split4_test_score</th>\n",
       "      <th>mean_test_score</th>\n",
       "      <th>std_test_score</th>\n",
       "      <th>rank_test_score</th>\n",
       "    </tr>\n",
       "  </thead>\n",
       "  <tbody>\n",
       "    <tr>\n",
       "      <th>17</th>\n",
       "      <td>0.008195</td>\n",
       "      <td>0.000744</td>\n",
       "      <td>0.002602</td>\n",
       "      <td>8.016240e-04</td>\n",
       "      <td>entropy</td>\n",
       "      <td>13</td>\n",
       "      <td>{'decisiontreeclassifier__criterion': 'entropy...</td>\n",
       "      <td>0.979339</td>\n",
       "      <td>0.987603</td>\n",
       "      <td>0.987603</td>\n",
       "      <td>0.979339</td>\n",
       "      <td>0.970954</td>\n",
       "      <td>0.980968</td>\n",
       "      <td>0.006223</td>\n",
       "      <td>1</td>\n",
       "    </tr>\n",
       "    <tr>\n",
       "      <th>15</th>\n",
       "      <td>0.007712</td>\n",
       "      <td>0.001797</td>\n",
       "      <td>0.002600</td>\n",
       "      <td>8.001928e-04</td>\n",
       "      <td>entropy</td>\n",
       "      <td>11</td>\n",
       "      <td>{'decisiontreeclassifier__criterion': 'entropy...</td>\n",
       "      <td>0.979339</td>\n",
       "      <td>0.987603</td>\n",
       "      <td>0.987603</td>\n",
       "      <td>0.979339</td>\n",
       "      <td>0.970954</td>\n",
       "      <td>0.980968</td>\n",
       "      <td>0.006223</td>\n",
       "      <td>1</td>\n",
       "    </tr>\n",
       "    <tr>\n",
       "      <th>16</th>\n",
       "      <td>0.007296</td>\n",
       "      <td>0.001164</td>\n",
       "      <td>0.002331</td>\n",
       "      <td>6.628812e-04</td>\n",
       "      <td>entropy</td>\n",
       "      <td>12</td>\n",
       "      <td>{'decisiontreeclassifier__criterion': 'entropy...</td>\n",
       "      <td>0.979339</td>\n",
       "      <td>0.987603</td>\n",
       "      <td>0.987603</td>\n",
       "      <td>0.979339</td>\n",
       "      <td>0.970954</td>\n",
       "      <td>0.980968</td>\n",
       "      <td>0.006223</td>\n",
       "      <td>1</td>\n",
       "    </tr>\n",
       "    <tr>\n",
       "      <th>14</th>\n",
       "      <td>0.007967</td>\n",
       "      <td>0.001098</td>\n",
       "      <td>0.002601</td>\n",
       "      <td>4.898072e-04</td>\n",
       "      <td>entropy</td>\n",
       "      <td>10</td>\n",
       "      <td>{'decisiontreeclassifier__criterion': 'entropy...</td>\n",
       "      <td>0.975207</td>\n",
       "      <td>0.987603</td>\n",
       "      <td>0.983471</td>\n",
       "      <td>0.987603</td>\n",
       "      <td>0.966805</td>\n",
       "      <td>0.980138</td>\n",
       "      <td>0.008058</td>\n",
       "      <td>4</td>\n",
       "    </tr>\n",
       "    <tr>\n",
       "      <th>7</th>\n",
       "      <td>0.006629</td>\n",
       "      <td>0.001178</td>\n",
       "      <td>0.002938</td>\n",
       "      <td>1.880365e-03</td>\n",
       "      <td>gini</td>\n",
       "      <td>12</td>\n",
       "      <td>{'decisiontreeclassifier__criterion': 'gini', ...</td>\n",
       "      <td>0.979339</td>\n",
       "      <td>0.983471</td>\n",
       "      <td>0.983471</td>\n",
       "      <td>0.979339</td>\n",
       "      <td>0.954357</td>\n",
       "      <td>0.975995</td>\n",
       "      <td>0.010976</td>\n",
       "      <td>5</td>\n",
       "    </tr>\n",
       "    <tr>\n",
       "      <th>6</th>\n",
       "      <td>0.006911</td>\n",
       "      <td>0.000931</td>\n",
       "      <td>0.002015</td>\n",
       "      <td>6.175082e-04</td>\n",
       "      <td>gini</td>\n",
       "      <td>11</td>\n",
       "      <td>{'decisiontreeclassifier__criterion': 'gini', ...</td>\n",
       "      <td>0.979339</td>\n",
       "      <td>0.983471</td>\n",
       "      <td>0.983471</td>\n",
       "      <td>0.979339</td>\n",
       "      <td>0.946058</td>\n",
       "      <td>0.974336</td>\n",
       "      <td>0.014259</td>\n",
       "      <td>6</td>\n",
       "    </tr>\n",
       "    <tr>\n",
       "      <th>8</th>\n",
       "      <td>0.008292</td>\n",
       "      <td>0.001534</td>\n",
       "      <td>0.002602</td>\n",
       "      <td>4.919496e-04</td>\n",
       "      <td>gini</td>\n",
       "      <td>13</td>\n",
       "      <td>{'decisiontreeclassifier__criterion': 'gini', ...</td>\n",
       "      <td>0.979339</td>\n",
       "      <td>0.983471</td>\n",
       "      <td>0.983471</td>\n",
       "      <td>0.979339</td>\n",
       "      <td>0.946058</td>\n",
       "      <td>0.974336</td>\n",
       "      <td>0.014259</td>\n",
       "      <td>6</td>\n",
       "    </tr>\n",
       "    <tr>\n",
       "      <th>13</th>\n",
       "      <td>0.009195</td>\n",
       "      <td>0.001170</td>\n",
       "      <td>0.003197</td>\n",
       "      <td>1.164307e-03</td>\n",
       "      <td>entropy</td>\n",
       "      <td>9</td>\n",
       "      <td>{'decisiontreeclassifier__criterion': 'entropy...</td>\n",
       "      <td>0.971074</td>\n",
       "      <td>0.979339</td>\n",
       "      <td>0.975207</td>\n",
       "      <td>0.971074</td>\n",
       "      <td>0.950207</td>\n",
       "      <td>0.969380</td>\n",
       "      <td>0.010064</td>\n",
       "      <td>8</td>\n",
       "    </tr>\n",
       "    <tr>\n",
       "      <th>5</th>\n",
       "      <td>0.007739</td>\n",
       "      <td>0.001330</td>\n",
       "      <td>0.002209</td>\n",
       "      <td>3.892488e-04</td>\n",
       "      <td>gini</td>\n",
       "      <td>10</td>\n",
       "      <td>{'decisiontreeclassifier__criterion': 'gini', ...</td>\n",
       "      <td>0.979339</td>\n",
       "      <td>0.971074</td>\n",
       "      <td>0.975207</td>\n",
       "      <td>0.979339</td>\n",
       "      <td>0.941909</td>\n",
       "      <td>0.969373</td>\n",
       "      <td>0.014070</td>\n",
       "      <td>9</td>\n",
       "    </tr>\n",
       "    <tr>\n",
       "      <th>12</th>\n",
       "      <td>0.007991</td>\n",
       "      <td>0.001419</td>\n",
       "      <td>0.003247</td>\n",
       "      <td>1.243871e-03</td>\n",
       "      <td>entropy</td>\n",
       "      <td>8</td>\n",
       "      <td>{'decisiontreeclassifier__criterion': 'entropy...</td>\n",
       "      <td>0.958678</td>\n",
       "      <td>0.979339</td>\n",
       "      <td>0.958678</td>\n",
       "      <td>0.971074</td>\n",
       "      <td>0.966805</td>\n",
       "      <td>0.966915</td>\n",
       "      <td>0.007841</td>\n",
       "      <td>10</td>\n",
       "    </tr>\n",
       "    <tr>\n",
       "      <th>4</th>\n",
       "      <td>0.009199</td>\n",
       "      <td>0.001472</td>\n",
       "      <td>0.003201</td>\n",
       "      <td>7.493136e-04</td>\n",
       "      <td>gini</td>\n",
       "      <td>9</td>\n",
       "      <td>{'decisiontreeclassifier__criterion': 'gini', ...</td>\n",
       "      <td>0.975207</td>\n",
       "      <td>0.971074</td>\n",
       "      <td>0.971074</td>\n",
       "      <td>0.962810</td>\n",
       "      <td>0.937759</td>\n",
       "      <td>0.963585</td>\n",
       "      <td>0.013526</td>\n",
       "      <td>11</td>\n",
       "    </tr>\n",
       "    <tr>\n",
       "      <th>3</th>\n",
       "      <td>0.008342</td>\n",
       "      <td>0.003390</td>\n",
       "      <td>0.003218</td>\n",
       "      <td>1.495199e-03</td>\n",
       "      <td>gini</td>\n",
       "      <td>8</td>\n",
       "      <td>{'decisiontreeclassifier__criterion': 'gini', ...</td>\n",
       "      <td>0.971074</td>\n",
       "      <td>0.946281</td>\n",
       "      <td>0.962810</td>\n",
       "      <td>0.966942</td>\n",
       "      <td>0.925311</td>\n",
       "      <td>0.954484</td>\n",
       "      <td>0.016841</td>\n",
       "      <td>12</td>\n",
       "    </tr>\n",
       "    <tr>\n",
       "      <th>11</th>\n",
       "      <td>0.006960</td>\n",
       "      <td>0.000813</td>\n",
       "      <td>0.002000</td>\n",
       "      <td>3.568323e-07</td>\n",
       "      <td>entropy</td>\n",
       "      <td>7</td>\n",
       "      <td>{'decisiontreeclassifier__criterion': 'entropy...</td>\n",
       "      <td>0.925620</td>\n",
       "      <td>0.946281</td>\n",
       "      <td>0.942149</td>\n",
       "      <td>0.917355</td>\n",
       "      <td>0.933610</td>\n",
       "      <td>0.933003</td>\n",
       "      <td>0.010580</td>\n",
       "      <td>13</td>\n",
       "    </tr>\n",
       "    <tr>\n",
       "      <th>2</th>\n",
       "      <td>0.008653</td>\n",
       "      <td>0.002465</td>\n",
       "      <td>0.002201</td>\n",
       "      <td>9.797848e-04</td>\n",
       "      <td>gini</td>\n",
       "      <td>7</td>\n",
       "      <td>{'decisiontreeclassifier__criterion': 'gini', ...</td>\n",
       "      <td>0.929752</td>\n",
       "      <td>0.917355</td>\n",
       "      <td>0.933884</td>\n",
       "      <td>0.925620</td>\n",
       "      <td>0.904564</td>\n",
       "      <td>0.922235</td>\n",
       "      <td>0.010390</td>\n",
       "      <td>14</td>\n",
       "    </tr>\n",
       "    <tr>\n",
       "      <th>1</th>\n",
       "      <td>0.008996</td>\n",
       "      <td>0.002281</td>\n",
       "      <td>0.003200</td>\n",
       "      <td>1.469644e-03</td>\n",
       "      <td>gini</td>\n",
       "      <td>6</td>\n",
       "      <td>{'decisiontreeclassifier__criterion': 'gini', ...</td>\n",
       "      <td>0.925620</td>\n",
       "      <td>0.921488</td>\n",
       "      <td>0.913223</td>\n",
       "      <td>0.917355</td>\n",
       "      <td>0.900415</td>\n",
       "      <td>0.915620</td>\n",
       "      <td>0.008653</td>\n",
       "      <td>15</td>\n",
       "    </tr>\n",
       "    <tr>\n",
       "      <th>10</th>\n",
       "      <td>0.006447</td>\n",
       "      <td>0.000558</td>\n",
       "      <td>0.002399</td>\n",
       "      <td>4.912484e-04</td>\n",
       "      <td>entropy</td>\n",
       "      <td>6</td>\n",
       "      <td>{'decisiontreeclassifier__criterion': 'entropy...</td>\n",
       "      <td>0.884298</td>\n",
       "      <td>0.925620</td>\n",
       "      <td>0.913223</td>\n",
       "      <td>0.900826</td>\n",
       "      <td>0.900415</td>\n",
       "      <td>0.904876</td>\n",
       "      <td>0.013855</td>\n",
       "      <td>16</td>\n",
       "    </tr>\n",
       "    <tr>\n",
       "      <th>0</th>\n",
       "      <td>0.011852</td>\n",
       "      <td>0.001783</td>\n",
       "      <td>0.004208</td>\n",
       "      <td>1.598177e-03</td>\n",
       "      <td>gini</td>\n",
       "      <td>5</td>\n",
       "      <td>{'decisiontreeclassifier__criterion': 'gini', ...</td>\n",
       "      <td>0.880165</td>\n",
       "      <td>0.896694</td>\n",
       "      <td>0.847107</td>\n",
       "      <td>0.859504</td>\n",
       "      <td>0.879668</td>\n",
       "      <td>0.872628</td>\n",
       "      <td>0.017373</td>\n",
       "      <td>17</td>\n",
       "    </tr>\n",
       "    <tr>\n",
       "      <th>9</th>\n",
       "      <td>0.008637</td>\n",
       "      <td>0.000991</td>\n",
       "      <td>0.002396</td>\n",
       "      <td>4.918632e-04</td>\n",
       "      <td>entropy</td>\n",
       "      <td>5</td>\n",
       "      <td>{'decisiontreeclassifier__criterion': 'entropy...</td>\n",
       "      <td>0.855372</td>\n",
       "      <td>0.871901</td>\n",
       "      <td>0.847107</td>\n",
       "      <td>0.847107</td>\n",
       "      <td>0.887967</td>\n",
       "      <td>0.861891</td>\n",
       "      <td>0.015873</td>\n",
       "      <td>18</td>\n",
       "    </tr>\n",
       "  </tbody>\n",
       "</table>\n",
       "</div>"
      ],
      "text/plain": [
       "    mean_fit_time  std_fit_time  mean_score_time  std_score_time  \\\n",
       "17       0.008195      0.000744         0.002602    8.016240e-04   \n",
       "15       0.007712      0.001797         0.002600    8.001928e-04   \n",
       "16       0.007296      0.001164         0.002331    6.628812e-04   \n",
       "14       0.007967      0.001098         0.002601    4.898072e-04   \n",
       "7        0.006629      0.001178         0.002938    1.880365e-03   \n",
       "6        0.006911      0.000931         0.002015    6.175082e-04   \n",
       "8        0.008292      0.001534         0.002602    4.919496e-04   \n",
       "13       0.009195      0.001170         0.003197    1.164307e-03   \n",
       "5        0.007739      0.001330         0.002209    3.892488e-04   \n",
       "12       0.007991      0.001419         0.003247    1.243871e-03   \n",
       "4        0.009199      0.001472         0.003201    7.493136e-04   \n",
       "3        0.008342      0.003390         0.003218    1.495199e-03   \n",
       "11       0.006960      0.000813         0.002000    3.568323e-07   \n",
       "2        0.008653      0.002465         0.002201    9.797848e-04   \n",
       "1        0.008996      0.002281         0.003200    1.469644e-03   \n",
       "10       0.006447      0.000558         0.002399    4.912484e-04   \n",
       "0        0.011852      0.001783         0.004208    1.598177e-03   \n",
       "9        0.008637      0.000991         0.002396    4.918632e-04   \n",
       "\n",
       "   param_decisiontreeclassifier__criterion  \\\n",
       "17                                 entropy   \n",
       "15                                 entropy   \n",
       "16                                 entropy   \n",
       "14                                 entropy   \n",
       "7                                     gini   \n",
       "6                                     gini   \n",
       "8                                     gini   \n",
       "13                                 entropy   \n",
       "5                                     gini   \n",
       "12                                 entropy   \n",
       "4                                     gini   \n",
       "3                                     gini   \n",
       "11                                 entropy   \n",
       "2                                     gini   \n",
       "1                                     gini   \n",
       "10                                 entropy   \n",
       "0                                     gini   \n",
       "9                                  entropy   \n",
       "\n",
       "   param_decisiontreeclassifier__max_depth  \\\n",
       "17                                      13   \n",
       "15                                      11   \n",
       "16                                      12   \n",
       "14                                      10   \n",
       "7                                       12   \n",
       "6                                       11   \n",
       "8                                       13   \n",
       "13                                       9   \n",
       "5                                       10   \n",
       "12                                       8   \n",
       "4                                        9   \n",
       "3                                        8   \n",
       "11                                       7   \n",
       "2                                        7   \n",
       "1                                        6   \n",
       "10                                       6   \n",
       "0                                        5   \n",
       "9                                        5   \n",
       "\n",
       "                                               params  split0_test_score  \\\n",
       "17  {'decisiontreeclassifier__criterion': 'entropy...           0.979339   \n",
       "15  {'decisiontreeclassifier__criterion': 'entropy...           0.979339   \n",
       "16  {'decisiontreeclassifier__criterion': 'entropy...           0.979339   \n",
       "14  {'decisiontreeclassifier__criterion': 'entropy...           0.975207   \n",
       "7   {'decisiontreeclassifier__criterion': 'gini', ...           0.979339   \n",
       "6   {'decisiontreeclassifier__criterion': 'gini', ...           0.979339   \n",
       "8   {'decisiontreeclassifier__criterion': 'gini', ...           0.979339   \n",
       "13  {'decisiontreeclassifier__criterion': 'entropy...           0.971074   \n",
       "5   {'decisiontreeclassifier__criterion': 'gini', ...           0.979339   \n",
       "12  {'decisiontreeclassifier__criterion': 'entropy...           0.958678   \n",
       "4   {'decisiontreeclassifier__criterion': 'gini', ...           0.975207   \n",
       "3   {'decisiontreeclassifier__criterion': 'gini', ...           0.971074   \n",
       "11  {'decisiontreeclassifier__criterion': 'entropy...           0.925620   \n",
       "2   {'decisiontreeclassifier__criterion': 'gini', ...           0.929752   \n",
       "1   {'decisiontreeclassifier__criterion': 'gini', ...           0.925620   \n",
       "10  {'decisiontreeclassifier__criterion': 'entropy...           0.884298   \n",
       "0   {'decisiontreeclassifier__criterion': 'gini', ...           0.880165   \n",
       "9   {'decisiontreeclassifier__criterion': 'entropy...           0.855372   \n",
       "\n",
       "    split1_test_score  split2_test_score  split3_test_score  \\\n",
       "17           0.987603           0.987603           0.979339   \n",
       "15           0.987603           0.987603           0.979339   \n",
       "16           0.987603           0.987603           0.979339   \n",
       "14           0.987603           0.983471           0.987603   \n",
       "7            0.983471           0.983471           0.979339   \n",
       "6            0.983471           0.983471           0.979339   \n",
       "8            0.983471           0.983471           0.979339   \n",
       "13           0.979339           0.975207           0.971074   \n",
       "5            0.971074           0.975207           0.979339   \n",
       "12           0.979339           0.958678           0.971074   \n",
       "4            0.971074           0.971074           0.962810   \n",
       "3            0.946281           0.962810           0.966942   \n",
       "11           0.946281           0.942149           0.917355   \n",
       "2            0.917355           0.933884           0.925620   \n",
       "1            0.921488           0.913223           0.917355   \n",
       "10           0.925620           0.913223           0.900826   \n",
       "0            0.896694           0.847107           0.859504   \n",
       "9            0.871901           0.847107           0.847107   \n",
       "\n",
       "    split4_test_score  mean_test_score  std_test_score  rank_test_score  \n",
       "17           0.970954         0.980968        0.006223                1  \n",
       "15           0.970954         0.980968        0.006223                1  \n",
       "16           0.970954         0.980968        0.006223                1  \n",
       "14           0.966805         0.980138        0.008058                4  \n",
       "7            0.954357         0.975995        0.010976                5  \n",
       "6            0.946058         0.974336        0.014259                6  \n",
       "8            0.946058         0.974336        0.014259                6  \n",
       "13           0.950207         0.969380        0.010064                8  \n",
       "5            0.941909         0.969373        0.014070                9  \n",
       "12           0.966805         0.966915        0.007841               10  \n",
       "4            0.937759         0.963585        0.013526               11  \n",
       "3            0.925311         0.954484        0.016841               12  \n",
       "11           0.933610         0.933003        0.010580               13  \n",
       "2            0.904564         0.922235        0.010390               14  \n",
       "1            0.900415         0.915620        0.008653               15  \n",
       "10           0.900415         0.904876        0.013855               16  \n",
       "0            0.879668         0.872628        0.017373               17  \n",
       "9            0.887967         0.861891        0.015873               18  "
      ]
     },
     "execution_count": 30,
     "metadata": {},
     "output_type": "execute_result"
    }
   ],
   "source": [
    "\n",
    "pd.DataFrame(gscv.cv_results_).sort_values(by = \"rank_test_score\")"
   ]
  },
  {
   "cell_type": "code",
   "execution_count": 45,
   "metadata": {},
   "outputs": [
    {
     "data": {
      "text/plain": [
       "0.9672447013487476"
      ]
     },
     "execution_count": 45,
     "metadata": {},
     "output_type": "execute_result"
    }
   ],
   "source": [
    "# Test with model ranked 4\n",
    "new_pipe_tree = make_pipeline(oe, DecisionTreeClassifier(random_state=0, criterion='entropy', max_depth=10))\n",
    "new_pipe_tree.fit(X_train, y_train).score(X_test, y_test)"
   ]
  },
  {
   "cell_type": "code",
   "execution_count": 46,
   "metadata": {},
   "outputs": [
    {
     "data": {
      "text/plain": [
       "<sklearn.metrics._plot.confusion_matrix.ConfusionMatrixDisplay at 0x23bd02739d0>"
      ]
     },
     "execution_count": 46,
     "metadata": {},
     "output_type": "execute_result"
    },
    {
     "data": {
      "image/png": "[encoded data removed]",
      "text/plain": [
       "<Figure size 432x288 with 2 Axes>"
      ]
     },
     "metadata": {
      "needs_background": "light"
     },
     "output_type": "display_data"
    }
   ],
   "source": [
    "plot_confusion_matrix(new_pipe_tree, X_test, y_test)"
   ]
  },
  {
   "cell_type": "markdown",
   "metadata": {},
   "source": [
    "# Random Forest"
   ]
  },
  {
   "cell_type": "code",
   "execution_count": 33,
   "metadata": {},
   "outputs": [],
   "source": [
    "forest = RandomForestClassifier()"
   ]
  },
  {
   "cell_type": "markdown",
   "metadata": {},
   "source": [
    "## Pipeline"
   ]
  },
  {
   "cell_type": "code",
   "execution_count": 34,
   "metadata": {},
   "outputs": [],
   "source": [
    "pipe2 = make_pipeline(oe, forest)"
   ]
  },
  {
   "cell_type": "markdown",
   "metadata": {},
   "source": [
    "## Fitting"
   ]
  },
  {
   "cell_type": "code",
   "execution_count": 36,
   "metadata": {},
   "outputs": [
    {
     "data": {
      "text/plain": [
       "Pipeline(steps=[('ordinalencoder',\n",
       "                 OrdinalEncoder(categories=[['low', 'med', 'high', 'vhigh'],\n",
       "                                            ['low', 'med', 'high', 'vhigh'],\n",
       "                                            ['2', '3', '4', '5more'],\n",
       "                                            ['2', '4', 'more'],\n",
       "                                            ['small', 'med', 'big'],\n",
       "                                            ['low', 'med', 'high']])),\n",
       "                ('randomforestclassifier', RandomForestClassifier())])"
      ]
     },
     "execution_count": 36,
     "metadata": {},
     "output_type": "execute_result"
    }
   ],
   "source": [
    "pipe2.fit(X_train, y_train)"
   ]
  },
  {
   "cell_type": "markdown",
   "metadata": {},
   "source": [
    "## Performance"
   ]
  },
  {
   "cell_type": "code",
   "execution_count": 39,
   "metadata": {},
   "outputs": [
    {
     "name": "stdout",
     "output_type": "stream",
     "text": [
      "mean score: 0.98 | standard deviation: 0.01\n"
     ]
    },
    {
     "data": {
      "text/plain": [
       "array([0.97933884, 0.98347107, 0.98347107, 0.96694215, 0.96680498])"
      ]
     },
     "execution_count": 39,
     "metadata": {},
     "output_type": "execute_result"
    }
   ],
   "source": [
    "scores = cross_val_score(pipe2, X_train, y_train)\n",
    "print('mean score: {:.2f} | standard deviation: {:.2f}'.format(scores.mean(), scores.std()))\n",
    "scores"
   ]
  }
 ],
 "metadata": {
  "interpreter": {
   "hash": "db4d94f7962dcc818ea238f62a69636fa41bd28f5daf8a9f9234f6ae986cf5d4"
  },
  "kernelspec": {
   "display_name": "Python 3.8.12 ('strive')",
   "language": "python",
   "name": "python3"
  },
  "language_info": {
   "codemirror_mode": {
    "name": "ipython",
    "version": 3
   },
   "file_extension": ".py",
   "mimetype": "text/x-python",
   "name": "python",
   "nbconvert_exporter": "python",
   "pygments_lexer": "ipython3",
   "version": "3.8.12"
  },
  "orig_nbformat": 4
 },
 "nbformat": 4,
 "nbformat_minor": 2
}
