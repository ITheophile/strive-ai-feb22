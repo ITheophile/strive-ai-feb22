{
 "cells": [
  {
   "cell_type": "markdown",
   "metadata": {
    "deletable": false,
    "editable": false,
    "nbgrader": {
     "cell_type": "markdown",
     "checksum": "fbfaeccba7c78624daa81efaeac3384d",
     "grade": false,
     "grade_id": "cell-9bac3e2eaf76d09a",
     "locked": true,
     "schema_version": 3,
     "solution": false,
     "task": false
    }
   },
   "source": [
    "# Linear Regression From Scratch\n",
    "In this notebook you will implement linear regression using the least squares method.\n",
    "\n",
    "The notebook will guide you in the general steps. You may use only numpy, pandas, and matplotlib for this exercise.\n",
    "\n",
    "#### Math Background\n",
    "The task is to solve linear regression for the data set of ```x``` and ```y```. That is, fit a line y to the data such that ```y = a + bx + e```. Where a and b are coefficents and e is an error term.\n",
    "\n",
    "We know that ```b = SUM ( xi - x_mean) * (yi - y_mean) / SUM (xi - x_mean)^2``` where ```xi```, and ```yi``` are the indivdual observations and ```x_mean```, ```y_mean``` are means of all ```xi``` and ```yi```.\n",
    "\n",
    "So a reasonable solution then for a fit is ```a = y_mean - b * x_mean```.\n",
    "\n",
    "\n",
    "#### Implementation Steps\n",
    "1. Load the file ```reg_data.csv```\n",
    "2. Display the data with a scatter plot. Write a markdown cell and comment on the structure of the data and what kind of line you think will fit the data. \n",
    "3. Implement a function of the least squares method.\n",
    "4. Plot the predictions from your function.\n",
    "5. Comment on the output of your function. Does it make sense? Can it be made better? If yes, how?"
   ]
  },
  {
   "cell_type": "code",
   "execution_count": 1,
   "metadata": {},
   "outputs": [],
   "source": [
    "#import the minimum packages\n",
    "import numpy as np\n",
    "import pandas as pd\n",
    "import matplotlib.pyplot as plt\n",
    "from sklearn.model_selection import train_test_split"
   ]
  },
  {
   "cell_type": "markdown",
   "metadata": {},
   "source": [
    "#### Loading data and inspection"
   ]
  },
  {
   "cell_type": "code",
   "execution_count": 2,
   "metadata": {
    "deletable": false,
    "nbgrader": {
     "cell_type": "code",
     "checksum": "2c551326ada620ac865e47a09cfd6e88",
     "grade": false,
     "grade_id": "cell-4104816f50e4844b",
     "locked": false,
     "schema_version": 3,
     "solution": true,
     "task": false
    }
   },
   "outputs": [
    {
     "data": {
      "text/html": [
       "<div>\n",
       "<style scoped>\n",
       "    .dataframe tbody tr th:only-of-type {\n",
       "        vertical-align: middle;\n",
       "    }\n",
       "\n",
       "    .dataframe tbody tr th {\n",
       "        vertical-align: top;\n",
       "    }\n",
       "\n",
       "    .dataframe thead th {\n",
       "        text-align: right;\n",
       "    }\n",
       "</style>\n",
       "<table border=\"1\" class=\"dataframe\">\n",
       "  <thead>\n",
       "    <tr style=\"text-align: right;\">\n",
       "      <th></th>\n",
       "      <th>X</th>\n",
       "      <th>Y</th>\n",
       "    </tr>\n",
       "  </thead>\n",
       "  <tbody>\n",
       "    <tr>\n",
       "      <th>0</th>\n",
       "      <td>32.502345</td>\n",
       "      <td>31.707006</td>\n",
       "    </tr>\n",
       "    <tr>\n",
       "      <th>1</th>\n",
       "      <td>53.426804</td>\n",
       "      <td>68.777596</td>\n",
       "    </tr>\n",
       "    <tr>\n",
       "      <th>2</th>\n",
       "      <td>61.530358</td>\n",
       "      <td>62.562382</td>\n",
       "    </tr>\n",
       "    <tr>\n",
       "      <th>3</th>\n",
       "      <td>47.475640</td>\n",
       "      <td>71.546632</td>\n",
       "    </tr>\n",
       "    <tr>\n",
       "      <th>4</th>\n",
       "      <td>59.813208</td>\n",
       "      <td>87.230925</td>\n",
       "    </tr>\n",
       "  </tbody>\n",
       "</table>\n",
       "</div>"
      ],
      "text/plain": [
       "           X          Y\n",
       "0  32.502345  31.707006\n",
       "1  53.426804  68.777596\n",
       "2  61.530358  62.562382\n",
       "3  47.475640  71.546632\n",
       "4  59.813208  87.230925"
      ]
     },
     "execution_count": 2,
     "metadata": {},
     "output_type": "execute_result"
    }
   ],
   "source": [
    "#load and inspect the data\n",
    "df = 0\n",
    "\n",
    "df = pd.read_csv('reg_data.csv')\n",
    "\n",
    "df.head()"
   ]
  },
  {
   "cell_type": "code",
   "execution_count": 3,
   "metadata": {},
   "outputs": [
    {
     "data": {
      "text/html": [
       "<div>\n",
       "<style scoped>\n",
       "    .dataframe tbody tr th:only-of-type {\n",
       "        vertical-align: middle;\n",
       "    }\n",
       "\n",
       "    .dataframe tbody tr th {\n",
       "        vertical-align: top;\n",
       "    }\n",
       "\n",
       "    .dataframe thead th {\n",
       "        text-align: right;\n",
       "    }\n",
       "</style>\n",
       "<table border=\"1\" class=\"dataframe\">\n",
       "  <thead>\n",
       "    <tr style=\"text-align: right;\">\n",
       "      <th></th>\n",
       "      <th>X</th>\n",
       "      <th>Y</th>\n",
       "    </tr>\n",
       "  </thead>\n",
       "  <tbody>\n",
       "    <tr>\n",
       "      <th>count</th>\n",
       "      <td>100.000000</td>\n",
       "      <td>100.000000</td>\n",
       "    </tr>\n",
       "    <tr>\n",
       "      <th>mean</th>\n",
       "      <td>48.958341</td>\n",
       "      <td>72.735051</td>\n",
       "    </tr>\n",
       "    <tr>\n",
       "      <th>std</th>\n",
       "      <td>9.746379</td>\n",
       "      <td>16.658187</td>\n",
       "    </tr>\n",
       "    <tr>\n",
       "      <th>min</th>\n",
       "      <td>25.128485</td>\n",
       "      <td>31.707006</td>\n",
       "    </tr>\n",
       "    <tr>\n",
       "      <th>25%</th>\n",
       "      <td>41.526164</td>\n",
       "      <td>60.788586</td>\n",
       "    </tr>\n",
       "    <tr>\n",
       "      <th>50%</th>\n",
       "      <td>49.634970</td>\n",
       "      <td>72.179542</td>\n",
       "    </tr>\n",
       "    <tr>\n",
       "      <th>75%</th>\n",
       "      <td>56.762631</td>\n",
       "      <td>83.215080</td>\n",
       "    </tr>\n",
       "    <tr>\n",
       "      <th>max</th>\n",
       "      <td>70.346076</td>\n",
       "      <td>118.591217</td>\n",
       "    </tr>\n",
       "  </tbody>\n",
       "</table>\n",
       "</div>"
      ],
      "text/plain": [
       "                X           Y\n",
       "count  100.000000  100.000000\n",
       "mean    48.958341   72.735051\n",
       "std      9.746379   16.658187\n",
       "min     25.128485   31.707006\n",
       "25%     41.526164   60.788586\n",
       "50%     49.634970   72.179542\n",
       "75%     56.762631   83.215080\n",
       "max     70.346076  118.591217"
      ]
     },
     "execution_count": 3,
     "metadata": {},
     "output_type": "execute_result"
    }
   ],
   "source": [
    "df.describe()"
   ]
  },
  {
   "cell_type": "code",
   "execution_count": 4,
   "metadata": {
    "deletable": false,
    "editable": false,
    "nbgrader": {
     "cell_type": "code",
     "checksum": "5a44bd6c555f034b17e8b48663c46fbf",
     "grade": true,
     "grade_id": "cell-3676b87d8fc79bbd",
     "locked": true,
     "points": 1,
     "schema_version": 3,
     "solution": false,
     "task": false
    }
   },
   "outputs": [],
   "source": [
    "assert df.shape == (100,2)"
   ]
  },
  {
   "cell_type": "code",
   "execution_count": 5,
   "metadata": {
    "deletable": false,
    "nbgrader": {
     "cell_type": "code",
     "checksum": "ec83d674d316f06d99e4a62881fe0d91",
     "grade": false,
     "grade_id": "cell-7f576e50392bc5e9",
     "locked": false,
     "schema_version": 3,
     "solution": true,
     "task": false
    }
   },
   "outputs": [
    {
     "data": {
      "text/plain": [
       "<matplotlib.collections.PathCollection at 0x1dac4eebbe0>"
      ]
     },
     "execution_count": 5,
     "metadata": {},
     "output_type": "execute_result"
    },
    {
     "data": {
      "image/png": "[encoded data removed]",
      "text/plain": [
       "<Figure size 576x432 with 1 Axes>"
      ]
     },
     "metadata": {
      "needs_background": "light"
     },
     "output_type": "display_data"
    }
   ],
   "source": [
    "#plot the data (scatter)\n",
    "plt.figure(figsize=(8, 6))\n",
    "plt.scatter(df.X, df.Y)"
   ]
  },
  {
   "cell_type": "markdown",
   "metadata": {},
   "source": [
    "#### Splitting the data"
   ]
  },
  {
   "cell_type": "code",
   "execution_count": 6,
   "metadata": {},
   "outputs": [],
   "source": [
    "from sklearn.model_selection import train_test_split\n",
    "\n",
    "x_train, x_test, y_train, y_test = train_test_split(df.X.values, df.Y.values, test_size = 0.2, random_state = 0)"
   ]
  },
  {
   "cell_type": "code",
   "execution_count": 7,
   "metadata": {},
   "outputs": [],
   "source": [
    "assert x_train.shape == (80,)\n",
    "assert x_test.shape == (20,)\n",
    "assert y_train.shape == (80,)\n",
    "assert y_test.shape == (20,)"
   ]
  },
  {
   "cell_type": "markdown",
   "metadata": {},
   "source": [
    "#### Defining and training the model"
   ]
  },
  {
   "cell_type": "code",
   "execution_count": 8,
   "metadata": {
    "deletable": false,
    "nbgrader": {
     "cell_type": "code",
     "checksum": "7f783828630939c2e095a32479fa8a95",
     "grade": false,
     "grade_id": "cell-d5e750d407949b20",
     "locked": false,
     "schema_version": 3,
     "solution": true,
     "task": false
    }
   },
   "outputs": [
    {
     "name": "stdout",
     "output_type": "stream",
     "text": [
      "6.687439682550163\n",
      "1.3450919020620422\n"
     ]
    }
   ],
   "source": [
    "#implement a least squares function to find a, b\n",
    "\n",
    "x_mean = 0\n",
    "y_mean = 0\n",
    "b_upper = 0\n",
    "b_lower = 0\n",
    "b = 0\n",
    "a = 0\n",
    "\n",
    "def least_squares(x, y):\n",
    "    \"\"\"\n",
    "    Calculate and return the parameters a (intercept) and b (slope) of a linear regression model\n",
    "\n",
    "    Input:\n",
    "    dataset of X(first column) and Y(second column). Both floats\n",
    "\n",
    "    Output:\n",
    "    b and a as a tuple (dtype == float)\n",
    "\n",
    "    \"\"\"\n",
    "    \n",
    "\n",
    "    b = np.sum( (y - y.mean()) * (x - x.mean()) ) / np.sum( (x - x.mean())**2 )\n",
    "\n",
    "    a = y.mean() - b*x.mean()\n",
    "\n",
    "    return b, a\n",
    "\n",
    "    \n",
    "b, a = least_squares(x_train, y_train)\n",
    "\n",
    "print(a)\n",
    "print(b)"
   ]
  },
  {
   "cell_type": "code",
   "execution_count": 9,
   "metadata": {},
   "outputs": [],
   "source": [
    "# y_hat = x_train*b + a\n",
    "# plt.figure(figsize=(8, 6))\n",
    "# plt.scatter(x_train, y_train)\n",
    "# plt.scatter(x_train, y_hat, c = 'r')\n",
    "\n"
   ]
  },
  {
   "cell_type": "markdown",
   "metadata": {},
   "source": [
    "Trying with [matrix approach](https://www.ctspedia.org/do/view/CTSpedia/LinearRegression)  \n",
    "\n",
    "$\\beta = (X^TX)^{-1}X^TY$  \n",
    "$\\beta$ contains the linear model's parameters (coefficients)"
   ]
  },
  {
   "cell_type": "code",
   "execution_count": 10,
   "metadata": {},
   "outputs": [
    {
     "name": "stdout",
     "output_type": "stream",
     "text": [
      "1.3450919020620422 6.687439682550163\n"
     ]
    },
    {
     "data": {
      "text/plain": [
       "array([[1.3450919 ],\n",
       "       [6.68743968]])"
      ]
     },
     "execution_count": 10,
     "metadata": {},
     "output_type": "execute_result"
    }
   ],
   "source": [
    "\n",
    "X = np.concatenate([x_train.reshape(-1, 1), np.ones((x_train.shape[0], 1))], axis= 1 )\n",
    "Y = y_train.reshape((-1, 1))\n",
    "\n",
    "X_t_X_inverse = np.linalg.inv( X.T.dot(X) )\n",
    "X_t_Y = X.T.dot(Y)\n",
    "Beta = X_t_X_inverse.dot(X_t_Y)\n",
    "\n",
    "\n",
    "\n",
    "# comparing with a and b from the least_squares function\n",
    "print(b, a)\n",
    "Beta\n",
    "\n"
   ]
  },
  {
   "cell_type": "code",
   "execution_count": 11,
   "metadata": {},
   "outputs": [],
   "source": [
    "assert abs(a - 6.68) <=0.03\n",
    "assert abs(b - 1.34) <=0.03"
   ]
  },
  {
   "cell_type": "code",
   "execution_count": 12,
   "metadata": {
    "deletable": false,
    "nbgrader": {
     "cell_type": "code",
     "checksum": "3dfec453f61e443318a83756c5d376ed",
     "grade": false,
     "grade_id": "cell-721384e1a2152077",
     "locked": false,
     "schema_version": 3,
     "solution": true,
     "task": false
    }
   },
   "outputs": [
    {
     "data": {
      "text/plain": [
       "[<matplotlib.lines.Line2D at 0x1dac5ba79d0>]"
      ]
     },
     "execution_count": 12,
     "metadata": {},
     "output_type": "execute_result"
    },
    {
     "data": {
      "image/png": "[encoded data removed]",
      "text/plain": [
       "<Figure size 432x288 with 1 Axes>"
      ]
     },
     "metadata": {
      "needs_background": "light"
     },
     "output_type": "display_data"
    }
   ],
   "source": [
    "# line code\n",
    "x = np.linspace(df.X.min(), df.Y.max(), 100)\n",
    "line = b*x + a\n",
    "\n",
    "plt.plot(x, line)"
   ]
  },
  {
   "cell_type": "code",
   "execution_count": 13,
   "metadata": {
    "deletable": false,
    "editable": false,
    "nbgrader": {
     "cell_type": "code",
     "checksum": "08b1f875272b06a1c8562f53f455ad9a",
     "grade": true,
     "grade_id": "cell-71f1201b79ff7e44",
     "locked": true,
     "points": 5,
     "schema_version": 3,
     "solution": false,
     "task": false
    }
   },
   "outputs": [],
   "source": [
    "assert abs(a +3*b - 10.75) <= 0.09\n",
    "assert abs(a +100*b - 140) <= 2"
   ]
  },
  {
   "cell_type": "markdown",
   "metadata": {},
   "source": [
    "#### Evaluation"
   ]
  },
  {
   "cell_type": "code",
   "execution_count": 14,
   "metadata": {
    "deletable": false,
    "nbgrader": {
     "cell_type": "code",
     "checksum": "de2e61e7563de9bf967c643b32565f9a",
     "grade": false,
     "grade_id": "cell-8b80d3f35ea3b407",
     "locked": false,
     "schema_version": 3,
     "solution": true,
     "task": false
    }
   },
   "outputs": [
    {
     "name": "stdout",
     "output_type": "stream",
     "text": [
      "(11, 2)\n",
      "(9, 2)\n"
     ]
    }
   ],
   "source": [
    "\n",
    "# Use the line function\n",
    "# Classify your test data in to classes\n",
    "# if the Y value for a certain X is lower than the line then the class is 0\n",
    "\n",
    "\n",
    "\n",
    "class_0 = []\n",
    "class_1 = []\n",
    "\n",
    "for i in range(x_test.shape[0]):\n",
    "    x_t = x_test[i]\n",
    "    y_t = y_test[i]\n",
    "\n",
    "    y_pred = b*x_t + a\n",
    "\n",
    "    if y_t < y_pred:\n",
    "        class_0.append([x_t, y_t])\n",
    "\n",
    "    else:\n",
    "        class_1.append([x_t, y_t])\n",
    "# YOUR CODE HERE\n",
    "# df['error'] = df.Y - y_hat\n",
    "\n",
    "# df['class_'] = df['error'].apply(lambda x: 0 if x < 0 else 1)\n",
    "\n",
    "        \n",
    "class_0 = np.array(class_0)\n",
    "class_1 = np.array(class_1)\n",
    "print(class_0.shape)\n",
    "print(class_1.shape)"
   ]
  },
  {
   "cell_type": "code",
   "execution_count": 15,
   "metadata": {},
   "outputs": [
    {
     "data": {
      "text/plain": [
       "<matplotlib.legend.Legend at 0x1dac5c19e80>"
      ]
     },
     "execution_count": 15,
     "metadata": {},
     "output_type": "execute_result"
    },
    {
     "data": {
      "image/png": "[encoded data removed]",
      "text/plain": [
       "<Figure size 576x432 with 1 Axes>"
      ]
     },
     "metadata": {
      "needs_background": "light"
     },
     "output_type": "display_data"
    }
   ],
   "source": [
    "plt.figure(figsize=(8, 6))\n",
    "plt.scatter(class_0[:, 0], class_0[:, 1], label = 'class 0')\n",
    "plt.scatter(class_1[:, 0], class_1[:, 1], label = 'class 1')\n",
    "plt.plot(x, line)\n",
    "plt.legend()"
   ]
  },
  {
   "cell_type": "code",
   "execution_count": 16,
   "metadata": {
    "deletable": false,
    "editable": false,
    "nbgrader": {
     "cell_type": "code",
     "checksum": "1486f3e73b7a9925bfc840c4f84432e7",
     "grade": true,
     "grade_id": "cell-73e31e3494663d82",
     "locked": true,
     "points": 5,
     "schema_version": 3,
     "solution": false,
     "task": false
    }
   },
   "outputs": [],
   "source": [
    "assert 9 < class_0.shape[0] < 13\n",
    "assert 7 < class_1.shape[0] < 11"
   ]
  },
  {
   "cell_type": "markdown",
   "metadata": {},
   "source": [
    "evaluation with coefficient of determination. \n",
    " \n",
    "$R^2 = 1 - \\frac{\\sum_{i = 1}^n(y{i} - \\hat{y}{i})^2}{\\sum_{i = 1}^n(y{i} - \\bar{y})^2}$"
   ]
  },
  {
   "cell_type": "code",
   "execution_count": 30,
   "metadata": {
    "deletable": false,
    "nbgrader": {
     "cell_type": "code",
     "checksum": "e91f4d245601ab07416f3122d23f9f89",
     "grade": false,
     "grade_id": "cell-db81fd9fa3a21bdf",
     "locked": false,
     "schema_version": 3,
     "solution": true,
     "task": false
    }
   },
   "outputs": [
    {
     "data": {
      "text/plain": [
       "0.700090334327918"
      ]
     },
     "execution_count": 30,
     "metadata": {},
     "output_type": "execute_result"
    }
   ],
   "source": [
    "\n",
    "def r_squared(x, y, slope, intercept):\n",
    "    \"\"\"\n",
    "    computes and returns the coefficient of determination\n",
    "\n",
    "    Input:\n",
    "    x and y as array of floats\n",
    "\n",
    "    Output:\n",
    "    coefficient of determination (float)\n",
    "    \"\"\"\n",
    "    numerator = 0\n",
    "    denominator = 0\n",
    "    for i in range(x.shape[0]):\n",
    "        x_i = x[i]\n",
    "        y_i = y[i]\n",
    "        y_hat = slope*x_i + intercept\n",
    "\n",
    "\n",
    "    numerator += (y_i - y_hat)**2\n",
    "    denominator += (y_i - y.mean())**2\n",
    "    return 1 - (numerator/denominator)\n",
    "\n",
    "\n",
    "\n",
    "\n",
    "r_squared(x_train, y_train, b, a)"
   ]
  }
 ],
 "metadata": {
  "kernelspec": {
   "display_name": "Python 3",
   "language": "python",
   "name": "python3"
  },
  "language_info": {
   "codemirror_mode": {
    "name": "ipython",
    "version": 3
   },
   "file_extension": ".py",
   "mimetype": "text/x-python",
   "name": "python",
   "nbconvert_exporter": "python",
   "pygments_lexer": "ipython3",
   "version": "3.8.12"
  }
 },
 "nbformat": 4,
 "nbformat_minor": 2
}
