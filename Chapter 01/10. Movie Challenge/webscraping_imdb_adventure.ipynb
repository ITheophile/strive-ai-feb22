{
 "cells": [
  {
   "cell_type": "markdown",
   "metadata": {},
   "source": [
    "# Webscraping of top 100 adventure movies on IMDb\n",
    "\n",
    "Needed information:\n",
    "* Movie name\n",
    "* Description\n",
    "* Release Date\n",
    "* Director Name\n",
    "* Rating\n",
    "* Duration\n",
    "* Genre\n",
    "* Stars (Actors)\n",
    "* Filming Dates\n"
   ]
  },
  {
   "cell_type": "code",
   "execution_count": 1,
   "metadata": {},
   "outputs": [],
   "source": [
    "import requests\n",
    "from bs4  import BeautifulSoup\n",
    "import pandas as pd"
   ]
  },
  {
   "cell_type": "markdown",
   "metadata": {},
   "source": [
    "### Webpage\n",
    "Each page can be through the `start=` filter in the url. E.g. `start=1` will list movies from 1 to 50 and `start=51` will show the next page (i.e., 51 to 100 top movies)\n"
   ]
  },
  {
   "cell_type": "code",
   "execution_count": 9,
   "metadata": {},
   "outputs": [
    {
     "name": "stdout",
     "output_type": "stream",
     "text": [
      "<Response [200]>\n",
      "<Response [200]>\n"
     ]
    }
   ],
   "source": [
    "page_filter = [1, 51]\n",
    "\n",
    "soup = {}\n",
    "for start_num in page_filter:\n",
    "    url = f\"https://www.imdb.com/search/title/?genres=adventure&start={start_num}&explore=title_type,genres&ref_=adv_prv\"\n",
    "    response = requests.get(url)\n",
    "    print(response)\n",
    "    page = BeautifulSoup(response.content, 'html.parser')\n",
    "    soup[start_num] = page\n"
   ]
  },
  {
   "cell_type": "code",
   "execution_count": 34,
   "metadata": {},
   "outputs": [
    {
     "data": {
      "text/plain": [
       "['The Adam Project',\n",
       " 'Obi-Wan Kenobi',\n",
       " 'Rot',\n",
       " 'Vikings: Valhalla',\n",
       " 'Spider-Man: No Way Home']"
      ]
     },
     "execution_count": 34,
     "metadata": {},
     "output_type": "execute_result"
    }
   ],
   "source": [
    "# movie name\n",
    "movie_name = []\n",
    "\n",
    "for key in soup:\n",
    "    for tag in soup[key].find_all(class_ = 'lister-item-header'):\n",
    "\n",
    "        movie_name.append( tag.a.text )\n",
    "\n",
    "\n",
    "movie_name[:5]"
   ]
  },
  {
   "cell_type": "code",
   "execution_count": 35,
   "metadata": {},
   "outputs": [
    {
     "data": {
      "text/plain": [
       "['(2022)', '(2022– )', '(2022)', '(2022– )', '(2021)']"
      ]
     },
     "execution_count": 35,
     "metadata": {},
     "output_type": "execute_result"
    }
   ],
   "source": [
    "# Release date\n",
    "release_date = []\n",
    "for key in soup:\n",
    "    for tag in soup[key].find_all(class_ = 'lister-item-year'):\n",
    "        release_date.append(tag.text)\n",
    "\n",
    "\n",
    "release_date[:5]\n"
   ]
  }
 ],
 "metadata": {
  "interpreter": {
   "hash": "db4d94f7962dcc818ea238f62a69636fa41bd28f5daf8a9f9234f6ae986cf5d4"
  },
  "kernelspec": {
   "display_name": "Python 3.8.12 ('strive')",
   "language": "python",
   "name": "python3"
  },
  "language_info": {
   "codemirror_mode": {
    "name": "ipython",
    "version": 3
   },
   "file_extension": ".py",
   "mimetype": "text/x-python",
   "name": "python",
   "nbconvert_exporter": "python",
   "pygments_lexer": "ipython3",
   "version": "3.8.12"
  },
  "orig_nbformat": 4
 },
 "nbformat": 4,
 "nbformat_minor": 2
}
