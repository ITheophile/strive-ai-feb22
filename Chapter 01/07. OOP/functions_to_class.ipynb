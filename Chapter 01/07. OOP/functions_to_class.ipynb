{
 "cells": [
  {
   "cell_type": "code",
   "execution_count": 11,
   "metadata": {},
   "outputs": [],
   "source": [
    "\n",
    "\n",
    "class Pyramid():\n",
    "    \"\"\"\n",
    "    Pyramid class for drawing a normal and an inverted pyramid.draw_pyramid\n",
    "\n",
    "    Attribute:\n",
    "        height(integer) represents the height as well as the baseline of the pyramid\n",
    "    \"\"\"\n",
    "    def __init__(self, height):\n",
    "        self.height = height\n",
    "\n",
    "    def draw_pyramid(self):\n",
    "        for i in range(1, self.height + 1):\n",
    "            print(i*\"#\")\n",
    "\n",
    "\n",
    "    def invert_pyramid(self):\n",
    "        for i in range(1, self.height + 1):\n",
    "            hashs = i * \"#\"\n",
    "            space = ( (self.height + 1) - i ) * \" \"\n",
    "            print( \"{}{}\".format(space,hashs) )\n",
    "    \n",
    "\n"
   ]
  },
  {
   "cell_type": "code",
   "execution_count": 12,
   "metadata": {},
   "outputs": [
    {
     "data": {
      "text/plain": [
       "10"
      ]
     },
     "execution_count": 12,
     "metadata": {},
     "output_type": "execute_result"
    }
   ],
   "source": [
    "pyramid = Pyramid(10)\n",
    "\n",
    "pyramid.height"
   ]
  },
  {
   "cell_type": "code",
   "execution_count": 13,
   "metadata": {},
   "outputs": [
    {
     "name": "stdout",
     "output_type": "stream",
     "text": [
      "#\n",
      "##\n",
      "###\n",
      "####\n",
      "#####\n",
      "######\n",
      "#######\n",
      "########\n",
      "#########\n",
      "##########\n"
     ]
    }
   ],
   "source": [
    "pyramid.draw_pyramid()"
   ]
  },
  {
   "cell_type": "code",
   "execution_count": 14,
   "metadata": {},
   "outputs": [
    {
     "name": "stdout",
     "output_type": "stream",
     "text": [
      "          #\n",
      "         ##\n",
      "        ###\n",
      "       ####\n",
      "      #####\n",
      "     ######\n",
      "    #######\n",
      "   ########\n",
      "  #########\n",
      " ##########\n"
     ]
    }
   ],
   "source": [
    "pyramid.invert_pyramid()"
   ]
  }
 ],
 "metadata": {
  "interpreter": {
   "hash": "db4d94f7962dcc818ea238f62a69636fa41bd28f5daf8a9f9234f6ae986cf5d4"
  },
  "kernelspec": {
   "display_name": "Python 3.8.12 ('strive')",
   "language": "python",
   "name": "python3"
  },
  "language_info": {
   "codemirror_mode": {
    "name": "ipython",
    "version": 3
   },
   "file_extension": ".py",
   "mimetype": "text/x-python",
   "name": "python",
   "nbconvert_exporter": "python",
   "pygments_lexer": "ipython3",
   "version": "3.8.12"
  },
  "orig_nbformat": 4
 },
 "nbformat": 4,
 "nbformat_minor": 2
}
