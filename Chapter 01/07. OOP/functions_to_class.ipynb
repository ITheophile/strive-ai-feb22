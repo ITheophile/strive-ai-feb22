{
 "cells": [
  {
   "cell_type": "code",
   "execution_count": 11,
   "metadata": {},
   "outputs": [],
   "source": [
    "\n",
    "\n",
    "class Pyramid():\n",
    "    \"\"\"\n",
    "    Pyramid class for drawing a normal and an inverted pyramid.draw_pyramid\n",
    "\n",
    "    Attribute:\n",
    "        height(integer) represents the height as well as the baseline of the pyramid\n",
    "    \"\"\"\n",
    "    def __init__(self, height):\n",
    "        self.height = height\n",
    "\n",
    "    def draw_pyramid(self):\n",
    "        for i in range(1, self.height + 1):\n",
    "            print(i*\"#\")\n",
    "\n",
    "\n",
    "    def invert_pyramid(self):\n",
    "        for i in range(1, self.height + 1):\n",
    "            hashs = i * \"#\"\n",
    "            space = ( (self.height + 1) - i ) * \" \"\n",
    "            print( \"{}{}\".format(space,hashs) )\n",
    "    \n",
    "\n"
   ]
  },
  {
   "cell_type": "code",
   "execution_count": 12,
   "metadata": {},
   "outputs": [
    {
     "data": {
      "text/plain": [
       "10"
      ]
     },
     "execution_count": 12,
     "metadata": {},
     "output_type": "execute_result"
    }
   ],
   "source": [
    "pyramid = Pyramid(10)\n",
    "\n",
    "pyramid.height"
   ]
  },
  {
   "cell_type": "code",
   "execution_count": 13,
   "metadata": {},
   "outputs": [
    {
     "name": "stdout",
     "output_type": "stream",
     "text": [
      "#\n",
      "##\n",
      "###\n",
      "####\n",
      "#####\n",
      "######\n",
      "#######\n",
      "########\n",
      "#########\n",
      "##########\n"
     ]
    }
   ],
   "source": [
    "pyramid.draw_pyramid()"
   ]
  },
  {
   "cell_type": "code",
   "execution_count": 14,
   "metadata": {},
   "outputs": [
    {
     "name": "stdout",
     "output_type": "stream",
     "text": [
      "          #\n",
      "         ##\n",
      "        ###\n",
      "       ####\n",
      "      #####\n",
      "     ######\n",
      "    #######\n",
      "   ########\n",
      "  #########\n",
      " ##########\n"
     ]
    }
   ],
   "source": [
    "pyramid.invert_pyramid()"
   ]
  },
  {
   "cell_type": "code",
   "execution_count": 57,
   "metadata": {},
   "outputs": [],
   "source": [
    "class ListFrequencies:\n",
    "    \n",
    "    \"\"\"\n",
    "    ListFrequencies class for computing counts of each element, top n of the most or least frequent numbers\n",
    "\n",
    "    Attribute:\n",
    "        lenght(integer) represents the number of elements in the list\n",
    "    \n",
    "    \"\"\"\n",
    "\n",
    "    def __init__(self, collection):\n",
    "        self.__collection = collection\n",
    "        self.lenght = len(collection)\n",
    "\n",
    "\n",
    "    def count_elements(self):\n",
    "        \"\"\"\n",
    "        given a collection (list) of numbers, return dictionary of those numbers with their counts\n",
    "        \"\"\"\n",
    "        counts_dict = {}\n",
    "        \n",
    "        for number in self.__collection:\n",
    "            if number in counts_dict:\n",
    "                counts_dict[number] += 1\n",
    "            else:\n",
    "                counts_dict[number] = 1\n",
    "        \n",
    "        return counts_dict\n",
    "\n",
    "\n",
    "\n",
    "\n",
    "    def topKNumbers(self, k, most = True):\n",
    "        \"\"\"\n",
    "        given a list of numbers, return the top k most frequent numbers if 'most' is True, otherwise\n",
    "        return the top k least frequent.\n",
    "        \"\"\"\n",
    "        \n",
    "        # dictionary of numbers frequencies\n",
    "        freq_dict = self.count_elements()\n",
    "        \n",
    "        # flipping number:count pairs to count:number\n",
    "        flipped_pairs = []\n",
    "        \n",
    "        for number, count in freq_dict.items():\n",
    "            flipped_pairs.append((count,number))\n",
    "\n",
    "        # sorting on first element (count) in the tuple, from highest to lowest counts\n",
    "        sorted_flipped_pairs = sorted(flipped_pairs, reverse = True)\n",
    "\n",
    "        # extracting corresponding k most frequent numbers\n",
    "        sorted_numbers = []\n",
    "        if most:\n",
    "            for i in range(k):\n",
    "                number  = sorted_flipped_pairs[i][1]\n",
    "                sorted_numbers.append(number)\n",
    "            \n",
    "            \n",
    "            return sorted(sorted_numbers)\n",
    "\n",
    "        else:\n",
    "            for i in range(-1, -k -1, -1):\n",
    "                number  = sorted_flipped_pairs[i][1]\n",
    "                sorted_numbers.append(number)\n",
    "                    \n",
    "            return sorted(sorted_numbers)"
   ]
  },
  {
   "cell_type": "code",
   "execution_count": 60,
   "metadata": {},
   "outputs": [
    {
     "data": {
      "text/plain": [
       "15"
      ]
     },
     "execution_count": 60,
     "metadata": {},
     "output_type": "execute_result"
    }
   ],
   "source": [
    "a_list = [1,1,2,3,4,4,4,4,1,5,5,5,3,5,5]\n",
    "\n",
    "frequencies = ListFrequencies(a_list)\n",
    "\n",
    "# number of elements in the collection\n",
    "frequencies.lenght"
   ]
  },
  {
   "cell_type": "code",
   "execution_count": 61,
   "metadata": {},
   "outputs": [
    {
     "ename": "AttributeError",
     "evalue": "'ListFrequencies' object has no attribute '__collection'",
     "output_type": "error",
     "traceback": [
      "\u001b[1;31m---------------------------------------------------------------------------\u001b[0m",
      "\u001b[1;31mAttributeError\u001b[0m                            Traceback (most recent call last)",
      "\u001b[1;32m<ipython-input-61-a0fbfefaf91a>\u001b[0m in \u001b[0;36m<module>\u001b[1;34m\u001b[0m\n\u001b[0;32m      1\u001b[0m \u001b[1;31m# Test hidden attributes (should not be accessible)\u001b[0m\u001b[1;33m\u001b[0m\u001b[1;33m\u001b[0m\u001b[1;33m\u001b[0m\u001b[0m\n\u001b[0;32m      2\u001b[0m \u001b[1;33m\u001b[0m\u001b[0m\n\u001b[1;32m----> 3\u001b[1;33m \u001b[0mfrequencies\u001b[0m\u001b[1;33m.\u001b[0m\u001b[0m__collection\u001b[0m\u001b[1;33m\u001b[0m\u001b[1;33m\u001b[0m\u001b[0m\n\u001b[0m",
      "\u001b[1;31mAttributeError\u001b[0m: 'ListFrequencies' object has no attribute '__collection'"
     ]
    }
   ],
   "source": [
    "# Test hidden attributes (should not be accessible)\n",
    "\n",
    "frequencies.__collection"
   ]
  },
  {
   "cell_type": "code",
   "execution_count": 62,
   "metadata": {},
   "outputs": [
    {
     "data": {
      "text/plain": [
       "{1: 3, 2: 1, 3: 2, 4: 4, 5: 5}"
      ]
     },
     "execution_count": 62,
     "metadata": {},
     "output_type": "execute_result"
    }
   ],
   "source": [
    "# counts of each element in the collection\n",
    "frequencies.count_elements()"
   ]
  },
  {
   "cell_type": "code",
   "execution_count": 63,
   "metadata": {},
   "outputs": [
    {
     "name": "stdout",
     "output_type": "stream",
     "text": [
      "[1, 4, 5]\n",
      "[1, 2, 3]\n"
     ]
    }
   ],
   "source": [
    "# top k most and least frequent numbers\n",
    "k = 3\n",
    "print(frequencies.topKNumbers(3))\n",
    "print(frequencies.topKNumbers(3, False))"
   ]
  }
 ],
 "metadata": {
  "interpreter": {
   "hash": "db4d94f7962dcc818ea238f62a69636fa41bd28f5daf8a9f9234f6ae986cf5d4"
  },
  "kernelspec": {
   "display_name": "Python 3.8.12 ('strive')",
   "language": "python",
   "name": "python3"
  },
  "language_info": {
   "codemirror_mode": {
    "name": "ipython",
    "version": 3
   },
   "file_extension": ".py",
   "mimetype": "text/x-python",
   "name": "python",
   "nbconvert_exporter": "python",
   "pygments_lexer": "ipython3",
   "version": "3.8.12"
  },
  "orig_nbformat": 4
 },
 "nbformat": 4,
 "nbformat_minor": 2
}
