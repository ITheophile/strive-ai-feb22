{
 "cells": [
  {
   "cell_type": "code",
   "execution_count": 444,
   "metadata": {},
   "outputs": [],
   "source": [
    "import numpy as np\n",
    "import matplotlib.pyplot as plt\n",
    "\n",
    "class BankAccount:\n",
    "    \"\"\"\n",
    "    `BankAccount` class for managing a bank account but also blocking an existing one.\n",
    "    The bank account name can only be opened either at ABank, BBank or CBank.\n",
    "    At ABank, starting balance of 100 € is offered, at BBank 50 € and CBank 25 €.\n",
    "\n",
    "    Methods: See docstring on each method for detailed informations.\n",
    "        get_status: \n",
    "        get_balance: \n",
    "        receive_money:\n",
    "        send_money:\n",
    "        overiew:\n",
    "        block:\n",
    "        reactivate: \n",
    "\n",
    "    Attributes:\n",
    "        bank_name (str): one of [ABank, BBank, CBank]\n",
    "        iban (str): Alphanumeric (first 2 letters of bank name + 6 random digits)\n",
    "        owner (str): Name of account owner\n",
    "        status(str): One of [active, blocked]\n",
    "\n",
    "    Dependencies: numpy and matplotlib\n",
    "    \"\"\"\n",
    "\n",
    "    def __init__(self, bank_name, account_owner):\n",
    "\n",
    "        self.__available_banks = ['ABank','BBank', 'CBank']\n",
    "\n",
    "        # Handling wrong bank name entry\n",
    "        if bank_name not in self.__available_banks:\n",
    "            raise ValueError(f'Bank name must be one of {self.__available_banks}')\n",
    "\n",
    "\n",
    "        self.__status = 'active'\n",
    "\n",
    "        self.bank_name = bank_name\n",
    "\n",
    "        self.owner = account_owner\n",
    "\n",
    "        iban = self.bank_name[:2] + ''.join( [str(number) for number in np.random.randint(9, size=6)] )\n",
    "        self.iban = iban\n",
    "\n",
    "        # dataset for storing transactions\n",
    "        self.__ins_outs = {'amount_received': [], \n",
    "                           'amount_sent': []\n",
    "                           }\n",
    "        \n",
    "        # start balance (will be updated when money is received or sent)\n",
    "        if self.bank_name == self.__available_banks[0]:\n",
    "            self.__balance = 100.00\n",
    "        elif self.bank_name == self.__available_banks[1]:\n",
    "            self.__balance = 50.00\n",
    "        else:\n",
    "            self.__balance = 25.00\n",
    "\n",
    "\n",
    "\n",
    "\n",
    "\n",
    "\n",
    "    \n",
    "\n",
    "    # GETTERS\n",
    "    # get status\n",
    "    def get_status(self):\n",
    "        \"\"\"\n",
    "        No input, return the current account status (str). One of ['active', 'blocked'].\n",
    "        \"\"\"\n",
    "        return self.__status\n",
    "\n",
    "\n",
    "    # get balance\n",
    "    def get_balance(self):\n",
    "        \"\"\"\n",
    "        No inputs, return the balance as float. Only works for an active account!\n",
    "        \"\"\"\n",
    "        if self.__status == 'active':\n",
    "            return self.__balance\n",
    "        else:\n",
    "            raise ConnectionRefusedError(self.__error_message)\n",
    "\n",
    "\n",
    "\n",
    "    # get account report\n",
    "    def overview(self, chart = False):\n",
    "        \"\"\"\n",
    "        Give information about account details such as IBAN, name of account owner, bank name as well as balance.\n",
    "        If input is `True`, a graph showing money transactions (ins and outs ) is included in the account overview.\n",
    "        Only works if account is active!\n",
    "        \"\"\"\n",
    "\n",
    "        if self.__status == 'active':\n",
    "            print(\"-\" * 100)\n",
    "            print(f'Welcome { self.owner }', '\\t' * 7, f'BALANCE:  { round(self.__balance, 2) } €')\n",
    "            print(f'{ self.iban } \\n{ self.bank_name }')\n",
    "            print(\"-\" * 100)\n",
    "            \n",
    "\n",
    "            if chart:\n",
    "                plt.plot(self.__ins_outs['amount_received'], c = 'green', linewidth = 2, label = 'amount_received')\n",
    "\n",
    "                plt.plot(self.__ins_outs['amount_sent'], c = 'red', linewidth = 2, label = 'amount_sent')\n",
    "\n",
    "                plt.legend()\n",
    "\n",
    "                plt.title('Transactions')\n",
    "                plt.xlabel('Order of transaction')\n",
    "                plt.ylabel('Amount (EUR)')\n",
    "\n",
    "                plt.show()\n",
    "\n",
    "\n",
    "        \n",
    "        else:\n",
    "            raise ConnectionRefusedError(self.__error_message)\n",
    "        \n",
    "        \n",
    "        \n",
    "\n",
    "    \n",
    "\n",
    "\n",
    "    # SETTERS\n",
    "    # blocking account \n",
    "    def block(self):\n",
    "        \"\"\"\n",
    "        No input. Set the account status to 'blocked' and create an error message that is displayed when trying to access\n",
    "        following methods: get_balance, receive_money, send_money and overiew.\n",
    "        \"\"\"\n",
    "        self.__error_message = 'Account is blocked!!! Another Account muss be opened or the current account reactivated.'\n",
    "        self.__status = 'blocked'\n",
    "\n",
    "\n",
    "\n",
    "    # reactivate account\n",
    "    def reactivate(self):\n",
    "        \"\"\"\n",
    "        No input. Reset account status to 'active' when the account is blocked and display a confirmation message\n",
    "        \"\"\"\n",
    "        if self.__status == 'blocked':\n",
    "            self.__status = 'active'\n",
    "            print( f\"Account {self.iban} is reactivated.\" )\n",
    "\n",
    "        else:\n",
    "            print( f\"Account {self.iban} already active !\")\n",
    "\n",
    "\n",
    "\n",
    "    # outgoing money\n",
    "    def send_money(self, amount):\n",
    "        \"\"\"\n",
    "        Input is the amount of money (float | integer) to deposit in the account. Print a confirmation message.\n",
    "        Add amount to self.__ins_outs database and update balance. Only works if account is active!\n",
    "\n",
    "        \"\"\"\n",
    "        if self.__status == 'active':\n",
    "            print(f\"{amount} € sent\")\n",
    "\n",
    "            # update database\n",
    "            self.__ins_outs['amount_sent'].append(amount)\n",
    "\n",
    "            # update balance\n",
    "            self.__balance -= amount \n",
    "        else:\n",
    "            raise ConnectionRefusedError(self.__error_message)\n",
    "\n",
    "\n",
    "\n",
    "    # incoming money\n",
    "    def receive_money(self, amount):\n",
    "        \"\"\"\n",
    "        Input is the amount of money (float | integer) to deposit in the account. Print a confirmation message.\n",
    "        Add amount to self.__ins_outs database and update balance. Only works if account is active!\n",
    "\n",
    "        \"\"\"\n",
    "        if self.__status == 'active':\n",
    "            print(f\"{amount} € received\")\n",
    "\n",
    "            # update database\n",
    "            self.__ins_outs['amount_received'].append(amount)\n",
    "\n",
    "            # update balance\n",
    "            self.__balance += amount \n",
    "        else:\n",
    "            raise ConnectionRefusedError(self.__error_message)\n",
    "\n"
   ]
  },
  {
   "cell_type": "code",
   "execution_count": 452,
   "metadata": {},
   "outputs": [
    {
     "name": "stdout",
     "output_type": "stream",
     "text": [
      "Theo\n",
      "ABank\n",
      "AB857176\n",
      "active\n",
      "100.0\n"
     ]
    }
   ],
   "source": [
    "# instantiation\n",
    "theo_account = BankAccount('ABank','Theo')\n",
    "\n",
    "# accessing attributes and getting account status\n",
    "\n",
    "print( theo_account.owner )\n",
    "print( theo_account.bank_name )\n",
    "print( theo_account.iban )\n",
    "print( theo_account.get_status() ) \n",
    "print( theo_account.get_balance() )"
   ]
  },
  {
   "cell_type": "code",
   "execution_count": 463,
   "metadata": {},
   "outputs": [
    {
     "name": "stdout",
     "output_type": "stream",
     "text": [
      "50 € received\n",
      "-50.0\n",
      "100 € received\n",
      "50.0\n",
      "10 € received\n",
      "60.0\n",
      "25 € received\n",
      "85.0\n",
      "15 € received\n",
      "100.0\n"
     ]
    }
   ],
   "source": [
    "# receive money\n",
    "money_received = [50, 100, 10, 25, 15]\n",
    "for amount in money_received:\n",
    "    theo_account.receive_money(amount)\n",
    "    print( theo_account.get_balance() )\n"
   ]
  },
  {
   "cell_type": "code",
   "execution_count": 462,
   "metadata": {},
   "outputs": [
    {
     "name": "stdout",
     "output_type": "stream",
     "text": [
      "0 € sent\n",
      "100.0\n",
      "50 € sent\n",
      "50.0\n",
      "10 € sent\n",
      "40.0\n",
      "40 € sent\n",
      "0.0\n",
      "100 € sent\n",
      "-100.0\n"
     ]
    }
   ],
   "source": [
    "# sent/transfer money\n",
    "money_sent = [0, 50, 10, 40, 100]\n",
    "for amount in money_sent:\n",
    "    theo_account.send_money(amount)\n",
    "    print( theo_account.get_balance() )\n"
   ]
  },
  {
   "cell_type": "code",
   "execution_count": 461,
   "metadata": {},
   "outputs": [
    {
     "name": "stdout",
     "output_type": "stream",
     "text": [
      "----------------------------------------------------------------------------------------------------\n",
      "Welcome Theo \t\t\t\t\t\t\t BALANCE:  100.0 €\n",
      "AB857176 \n",
      "ABank\n",
      "----------------------------------------------------------------------------------------------------\n"
     ]
    }
   ],
   "source": [
    "# report\n",
    "theo_account.overview()"
   ]
  },
  {
   "cell_type": "code",
   "execution_count": 457,
   "metadata": {},
   "outputs": [
    {
     "name": "stdout",
     "output_type": "stream",
     "text": [
      "blocked\n"
     ]
    },
    {
     "ename": "ConnectionRefusedError",
     "evalue": "Account is blocked!!! Another Account muss be opened or the current account reactivated.",
     "output_type": "error",
     "traceback": [
      "\u001b[1;31m---------------------------------------------------------------------------\u001b[0m",
      "\u001b[1;31mConnectionRefusedError\u001b[0m                    Traceback (most recent call last)",
      "\u001b[1;32m<ipython-input-457-81f3b96d0f3c>\u001b[0m in \u001b[0;36m<module>\u001b[1;34m\u001b[0m\n\u001b[0;32m      6\u001b[0m \u001b[1;33m\u001b[0m\u001b[0m\n\u001b[0;32m      7\u001b[0m \u001b[1;31m# trying to get access to account balance when account is blocked.\u001b[0m\u001b[1;33m\u001b[0m\u001b[1;33m\u001b[0m\u001b[1;33m\u001b[0m\u001b[0m\n\u001b[1;32m----> 8\u001b[1;33m \u001b[0mtheo_account\u001b[0m\u001b[1;33m.\u001b[0m\u001b[0mget_balance\u001b[0m\u001b[1;33m(\u001b[0m\u001b[1;33m)\u001b[0m\u001b[1;33m\u001b[0m\u001b[1;33m\u001b[0m\u001b[0m\n\u001b[0m",
      "\u001b[1;32m<ipython-input-444-34a8de54f0bd>\u001b[0m in \u001b[0;36mget_balance\u001b[1;34m(self)\u001b[0m\n\u001b[0;32m     81\u001b[0m             \u001b[1;32mreturn\u001b[0m \u001b[0mself\u001b[0m\u001b[1;33m.\u001b[0m\u001b[0m__balance\u001b[0m\u001b[1;33m\u001b[0m\u001b[1;33m\u001b[0m\u001b[0m\n\u001b[0;32m     82\u001b[0m         \u001b[1;32melse\u001b[0m\u001b[1;33m:\u001b[0m\u001b[1;33m\u001b[0m\u001b[1;33m\u001b[0m\u001b[0m\n\u001b[1;32m---> 83\u001b[1;33m             \u001b[1;32mraise\u001b[0m \u001b[0mConnectionRefusedError\u001b[0m\u001b[1;33m(\u001b[0m\u001b[0mself\u001b[0m\u001b[1;33m.\u001b[0m\u001b[0m__error_message\u001b[0m\u001b[1;33m)\u001b[0m\u001b[1;33m\u001b[0m\u001b[1;33m\u001b[0m\u001b[0m\n\u001b[0m\u001b[0;32m     84\u001b[0m \u001b[1;33m\u001b[0m\u001b[0m\n\u001b[0;32m     85\u001b[0m \u001b[1;33m\u001b[0m\u001b[0m\n",
      "\u001b[1;31mConnectionRefusedError\u001b[0m: Account is blocked!!! Another Account muss be opened or the current account reactivated."
     ]
    }
   ],
   "source": [
    "# block method\n",
    "theo_account.block()\n",
    "\n",
    "# getting account status\n",
    "print( theo_account.get_status() )\n",
    "\n",
    "# trying to get access to account balance when account is blocked.\n",
    "theo_account.get_balance()\n"
   ]
  },
  {
   "cell_type": "code",
   "execution_count": 460,
   "metadata": {},
   "outputs": [
    {
     "name": "stdout",
     "output_type": "stream",
     "text": [
      "Account AB857176 is reactivated.\n",
      "active\n",
      "100.0\n"
     ]
    }
   ],
   "source": [
    "# reactivating account and trying again to get  balance\n",
    "theo_account.reactivate()\n",
    "print( theo_account.get_status() )\n",
    "print( theo_account.get_balance() )\n"
   ]
  }
 ],
 "metadata": {
  "interpreter": {
   "hash": "db4d94f7962dcc818ea238f62a69636fa41bd28f5daf8a9f9234f6ae986cf5d4"
  },
  "kernelspec": {
   "display_name": "Python 3.8.12 ('strive')",
   "language": "python",
   "name": "python3"
  },
  "language_info": {
   "codemirror_mode": {
    "name": "ipython",
    "version": 3
   },
   "file_extension": ".py",
   "mimetype": "text/x-python",
   "name": "python",
   "nbconvert_exporter": "python",
   "pygments_lexer": "ipython3",
   "version": "3.8.12"
  },
  "orig_nbformat": 4
 },
 "nbformat": 4,
 "nbformat_minor": 2
}
