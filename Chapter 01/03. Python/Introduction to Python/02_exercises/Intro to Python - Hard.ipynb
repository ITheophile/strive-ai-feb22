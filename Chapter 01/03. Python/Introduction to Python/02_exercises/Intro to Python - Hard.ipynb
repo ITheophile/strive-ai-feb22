{
 "cells": [
  {
   "cell_type": "markdown",
   "metadata": {},
   "source": [
    "**Exercise 4.1 (🌶️🌶️):** Define a function that receives a string parameter, and returns an integer indicating the count for all the letters of the alphabet that there are in the string. The expected output format is in a **dictionary** with the relevant keys and values. The capital version of a lower case letter is considered to be the same letter.\n",
    "\n",
    "This should sound quite familiar, try to do it without looking at your old code ;)\n",
    "\n",
    "**What is the challenge?**: Don't code 27 times the same line of code, learn how to do things that scale well."
   ]
  },
  {
   "cell_type": "code",
   "execution_count": 75,
   "metadata": {},
   "outputs": [],
   "source": [
    "# Count letters in a string\n",
    "\n",
    "def count_letters(a_string):\n",
    "    \"\"\"\n",
    "    Take in a string and output a dictionary of the constituent letters together with their counts.\n",
    "    Numbers and ponctuation marks are not taken into consideration. \n",
    "    \"\"\"\n",
    "\n",
    "    letters_freq = {}\n",
    "\n",
    "    for char in a_string:\n",
    "        char = char.lower()        # upper and lower case versions are the same\n",
    "        \n",
    "        if not char.isalpha():     # don't process non alphabetical letters\n",
    "            continue\n",
    "        \n",
    "\n",
    "        elif char not in letters_freq:\n",
    "            letters_freq[char] = 1     # if char is not yet in the dict letters_freq, set its count to 1\n",
    "\n",
    "        else:\n",
    "            letters_freq[char] += 1    # if char is already in letters_freq, then increase its count by 1\n",
    "\n",
    "\n",
    "    return letters_freq\n",
    "        \n"
   ]
  },
  {
   "cell_type": "code",
   "execution_count": 76,
   "metadata": {},
   "outputs": [
    {
     "name": "stdout",
     "output_type": "stream",
     "text": [
      "{'c': 5, 'o': 6, 'u': 5, 'n': 8, 't': 9, 'h': 3, 'w': 1, 'm': 4, 'a': 6, 'y': 1, 'i': 5, 'e': 9, 's': 6, 'l': 2, 'r': 5, 'g': 3, 'v': 1, 'b': 1, 'd': 1, 'p': 1, 'k': 1}\n"
     ]
    }
   ],
   "source": [
    "# Test\n",
    "eg_string = \"\"\"\n",
    "            Count how many times each letter occurs in this string. \n",
    "            Leave out numbers (e.g. 1234) and ponctuation marks (e.g.!,;:).\n",
    "            \n",
    "           \"\"\"\n",
    "print( count_letters(eg_string) )"
   ]
  },
  {
   "cell_type": "markdown",
   "metadata": {},
   "source": [
    "**Exercise 5.6 (🌶️🌶️):** A prime number is a positive integer that is dividable by exactly two different numbers, namely 1 and itself. The lowest (and only even) prime number is 2. The first 10 prime numbers are 2, 3, 5, 7, 11, 13, 17, 19, 23, and 29. Write a function that returns a **list off all prime numbers** below a given number.\n",
    "\n",
    "Hint: In a loop where you test the possible dividers of the number, you can conclude that the number is not prime as soon as you encounter a number other than 1 or the number itself that divides it. However, you can *only* conclude that it actually *is* prime after you have tested all possible dividers.\n",
    "\n",
    "**What is the challenge here? You have to try to optimize your code and try to make it work for the highest prime number you can encounter before you run out of memory. For low numbers you should know how to do it already**"
   ]
  },
  {
   "cell_type": "code",
   "execution_count": 77,
   "metadata": {},
   "outputs": [],
   "source": [
    "# Prime numbers\n",
    "\n",
    "def prime_numbers_below(number):\n",
    "    \"\"\"\n",
    "    Take in a positive integer and return in a list all prime numbers below the input number\n",
    "    \"\"\"\n",
    "\n",
    "    primes = []\n",
    "\n",
    "    for potential_prime in range(2,number):             # 1 is definitely not a prime number, so start the loop at 2\n",
    "        for divider in range(2, potential_prime + 1):   # all numbers are dividable by 1, so start also the loop at 2\n",
    "\n",
    "\n",
    "            # if the potential_prime is dividable by divider and divider is different\n",
    "            # from potential_prime, we can conclude than potential_prime is definitely not a prime number,\n",
    "            # (i.e dividable by another number than itself). So, break directly the inner loop and go to the next\n",
    "            # potential_prime in the outer loop.\n",
    "\n",
    "            if potential_prime % divider == 0 and divider != potential_prime:\n",
    "                break\n",
    "\n",
    "        else:\n",
    "            primes.append(potential_prime)\n",
    "\n",
    "\n",
    "    return primes\n",
    "             "
   ]
  },
  {
   "cell_type": "code",
   "execution_count": 84,
   "metadata": {},
   "outputs": [
    {
     "name": "stdout",
     "output_type": "stream",
     "text": [
      "[2, 3, 5, 7, 11, 13, 17, 19, 23, 29, 31, 37, 41, 43, 47]\n"
     ]
    }
   ],
   "source": [
    "# Test\n",
    "print( prime_numbers_below(50) )"
   ]
  },
  {
   "cell_type": "markdown",
   "metadata": {},
   "source": [
    "I tried to optimize the function prime_numbers_below, based on some facts about prime numbers at [splashlearn](https://www.splashlearn.com/math-vocabulary/algebra/prime-number).\n",
    "  \n",
    "*The only even prime number is 2.  \n",
    "*No prime number greater than 5  ends in a 5"
   ]
  },
  {
   "cell_type": "code",
   "execution_count": 80,
   "metadata": {},
   "outputs": [],
   "source": [
    "def v2_prime_numbers_below(number):\n",
    "\n",
    "    primes = []\n",
    "\n",
    "    for potential_prime in range(2,number):\n",
    "\n",
    "        # no even number greater > 2 is a prime number.\n",
    "        if potential_prime > 2 and potential_prime % 2 == 0:\n",
    "            continue\n",
    "\n",
    "\n",
    "        # no prime number greater than 5  ends in a 5\n",
    "        elif potential_prime > 5 and potential_prime % 10 == 5:\n",
    "            continue  \n",
    "\n",
    "\n",
    "        for divider in range(2, potential_prime + 1):\n",
    "\n",
    "            if potential_prime % divider == 0 and divider != potential_prime:\n",
    "                break\n",
    "\n",
    "\n",
    "        else:\n",
    "            primes.append(potential_prime)\n",
    "\n",
    "\n",
    "    return primes"
   ]
  },
  {
   "cell_type": "code",
   "execution_count": 98,
   "metadata": {},
   "outputs": [
    {
     "name": "stdout",
     "output_type": "stream",
     "text": [
      "[2, 3, 5, 7, 11, 13, 17, 19, 23, 29, 31, 37, 41, 43, 47]\n"
     ]
    }
   ],
   "source": [
    "# Test\n",
    "print( v2_prime_numbers_below(50) )"
   ]
  },
  {
   "cell_type": "markdown",
   "metadata": {},
   "source": [
    "**Exercise 5.7 (🌶️🌶️):** Write a function that prints all integers between the parameters `a` and `b` that can be written as the sum of two squares. Produce output in the form of `z = x**2 + y**2`, e.g., `58 = 3**2 + 7**2`. If a number occurs on the list with multiple *different* ways of writing it as the sum of two squares, that is acceptable. "
   ]
  },
  {
   "cell_type": "code",
   "execution_count": 49,
   "metadata": {},
   "outputs": [],
   "source": [
    "\n",
    "def sum_squares(a, b):\n",
    "\n",
    "    \"\"\"\n",
    "    with z belonging to the intervall [a,b], find all x and y such that the expression z = x**2 + y**2 holds true.\n",
    "    The expression is then printed. \n",
    "    \"\"\"\n",
    "     \n",
    "    for z in range(a, b + 1):\n",
    "        for x in range(b + 1):\n",
    "            if x**2 > z:                # if x**2 gets bigger than z, no need to check for the values of y\n",
    "                break\n",
    "            for y in range(b + 1):\n",
    "                \n",
    "                s_quares = x**2 + y**2\n",
    "                if s_quares > z:        # if x**2 + y**2 gets bigger than z, stop the loop and check for the next value of x\n",
    "                    break\n",
    "                elif s_quares == z:\n",
    "                    print(f\"{z} = {x}**2  +  {y}**2\")\n",
    "                    break\n",
    "\n"
   ]
  },
  {
   "cell_type": "code",
   "execution_count": 51,
   "metadata": {},
   "outputs": [
    {
     "name": "stdout",
     "output_type": "stream",
     "text": [
      "2 = 1**2  +  1**2\n",
      "4 = 0**2  +  2**2\n",
      "4 = 2**2  +  0**2\n",
      "5 = 1**2  +  2**2\n",
      "5 = 2**2  +  1**2\n",
      "8 = 2**2  +  2**2\n",
      "9 = 0**2  +  3**2\n",
      "9 = 3**2  +  0**2\n"
     ]
    }
   ],
   "source": [
    "# def sum_squares():\n",
    "#     \"\"\"\n",
    "#     2 = 1**2 + 1**2\n",
    "#     4 = 0**2 + 2**2\n",
    "#     4 = 2**2 + 0**2\n",
    "#     5 = 1**2 + 2**2\n",
    "#     5 = 2**2 + 1**2\n",
    "#     8 = 2**2 + 2**2\n",
    "#     9 = 0**2 + 3**2\n",
    "#     9 = 3**2 + 0**2\n",
    "\n",
    "\n",
    "# Test\n",
    "a, b = 2, 9\n",
    "sum_squares(a, b)"
   ]
  }
 ],
 "metadata": {
  "kernelspec": {
   "display_name": "Python 3",
   "language": "python",
   "name": "python3"
  },
  "language_info": {
   "codemirror_mode": {
    "name": "ipython",
    "version": 3
   },
   "file_extension": ".py",
   "mimetype": "text/x-python",
   "name": "python",
   "nbconvert_exporter": "python",
   "pygments_lexer": "ipython3",
   "version": "3.8.12"
  }
 },
 "nbformat": 4,
 "nbformat_minor": 4
}
