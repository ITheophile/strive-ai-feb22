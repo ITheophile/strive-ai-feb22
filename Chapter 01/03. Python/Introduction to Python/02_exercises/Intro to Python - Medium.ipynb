{
 "cells": [
  {
   "cell_type": "markdown",
   "metadata": {},
   "source": [
    "Here you have a collection of guided exercises for the first class on Python. <br>\n",
    "The exercises are divided by topic, following the topics reviewed during the theory session, and for each topic you have some mandatory exercises, and other optional exercises, which you are invited to do if you still have time after the mandatory exercises. <br>\n",
    "\n",
    "Remember that you have 5 hours to solve these exercises, after which we will review the most interesting exercises together. If you don't finish all the exercises, you can work on them tonightor tomorrow. \n",
    "\n",
    "At the end of the class, we will upload the code with the solutions of the exercises so that you can review them again if needed. If you still have not finished some exercises, try to do them first by yourself, before taking a look at the solutions: you are doing these exercises for yourself, so it is always the best to do them your way first, as it is the fastest way to learn!"
   ]
  },
  {
   "cell_type": "markdown",
   "metadata": {},
   "source": [
    "**Exercise 5.3 (🌶️):** You look at the clock and see that it is currently 14.00h. You set an alarm to go off 535 hours later. At what time will the alarm go off? Write a program that prints the answer. Hint: for the best solution, you will need the modulo operator. Second hint: The answer is 21.00h, but of course, this exercise is not about the answer, but about how you get it."
   ]
  },
  {
   "cell_type": "code",
   "execution_count": 1,
   "metadata": {},
   "outputs": [
    {
     "name": "stdout",
     "output_type": "stream",
     "text": [
      "21:00h\n"
     ]
    }
   ],
   "source": [
    "# After 24 hours, the clock starts again at 14h. So I need to find how many '24 hours' fit in 535 hours and the remaing hours\n",
    "# will be added to the previously defined \"CURRENT_TIME\" to exactly when the alarm will go off.\n",
    "\n",
    "CURRENT_TIME = 14\n",
    "NUMBER_HOURS_AFTER_CURRENT_TIME  = 535\n",
    "\n",
    "# Number of hours to add to the current time\n",
    "hours_to_add = NUMBER_HOURS_AFTER_CURRENT_TIME % 24\n",
    "\n",
    "# What time alarm goes off\n",
    "\n",
    "alarm_time = CURRENT_TIME + hours_to_add\n",
    "\n",
    "\n",
    "print(f\"{alarm_time}:00h\")"
   ]
  },
  {
   "cell_type": "markdown",
   "metadata": {},
   "source": [
    "**Exercise 5.4 (🌶️):** \"99 bottles of beer\" is a traditional song in the United States and Canada. It is popular to sing on long trips, as it has a very repetitive format which is easy to memorize, and can take a long time to sing. The song's simple lyrics are as follows: \"99 bottles of beer on the wall, 99 bottles of beer. Take one down, pass it around, 98 bottles of beer on the wall.\" The same verse is repeated, each time with one fewer bottle. The song is completed when the singer or singers reach zero. Write a function that generates and prints all the verses of the song (though you might start a bit lower, for instance with 10 bottles). Make sure that your loop is not endless, and that you use the proper inflection for the word \"bottle\"."
   ]
  },
  {
   "cell_type": "code",
   "execution_count": 2,
   "metadata": {},
   "outputs": [
    {
     "name": "stdout",
     "output_type": "stream",
     "text": [
      "5 bottles of beer on the wall, 5 bottles of beer. Take one down, pass it around, 4 bottles of beer in the wall\n",
      "4 bottles of beer on the wall, 4 bottles of beer. Take one down, pass it around, 3 bottles of beer in the wall\n",
      "3 bottles of beer on the wall, 3 bottles of beer. Take one down, pass it around, 2 bottles of beer in the wall\n",
      "2 bottles of beer on the wall, 2 bottles of beer. Take one down, pass it around, 1 bottles of beer in the wall\n",
      "1 bottles of beer on the wall, 1 bottles of beer. Take one down, pass it around, 0 bottles of beer in the wall\n"
     ]
    }
   ],
   "source": [
    "\n",
    "def beersong(number_of_bottles):\n",
    "    \n",
    "    for i in range(number_of_bottles,0,-1):\n",
    "        song = f\"{i} bottles of beer on the wall, {i} bottles of beer. Take one down, pass it around, {i - 1} bottles of beer in the wall\"\n",
    "        print(song)\n",
    " \n",
    "        \n",
    "# Test        \n",
    "beersong(5)"
   ]
  },
  {
   "cell_type": "markdown",
   "metadata": {},
   "source": [
    "**Exercise 5.5 (🌶️):** The Fibonacci sequence is a sequence of numbers that starts with 1, followed by 1 again. Every next number is the sum of the two previous numbers. I.e., the sequence starts with 1, 1, 2, 3, 5, 8, 13, 21,... Write a function that calculates and prints the Fibonacci sequence until the numbers get higher than a `maximum`."
   ]
  },
  {
   "cell_type": "code",
   "execution_count": 14,
   "metadata": {},
   "outputs": [
    {
     "name": "stdout",
     "output_type": "stream",
     "text": [
      "[1, 1, 2, 3, 5, 8, 13, 21]\n"
     ]
    }
   ],
   "source": [
    "def fibonacci(maximum):\n",
    "    \"\"\"\n",
    "    Calculate and print the fibonacci sequence up to a given maximum\n",
    "    \"\"\"\n",
    "    fib = [1, 1]\n",
    "    while fib[-1] < maximum:\n",
    "        next_item = fib[-2] + fib[-1]  # add the last 2 elements in the fib list\n",
    "        fib.append(next_item)\n",
    "    \n",
    "    # remove the last element (> maximum) that was appended in the last loop\n",
    "    fib.pop() \n",
    "\n",
    "    print(fib) \n",
    "\n",
    "\n",
    "\n",
    "# Test\n",
    "fibonacci(22)\n"
   ]
  },
  {
   "cell_type": "markdown",
   "metadata": {},
   "source": [
    "**Exercise 5.8 (🌶️):** A, B, C, and D are all different digits. The number DCBA is equal to 4 times the number ABCD. What are the digits? Note: to make ABCD and DCBA conventional numbers, neither A nor D can be zero. Use a quadruple-nested loop."
   ]
  },
  {
   "cell_type": "code",
   "execution_count": 34,
   "metadata": {},
   "outputs": [
    {
     "data": {
      "text/plain": [
       "2178"
      ]
     },
     "execution_count": 34,
     "metadata": {},
     "output_type": "execute_result"
    }
   ],
   "source": [
    "\n",
    "# Solve 4*ABCD == DCBA    (A = 2, B = 1, C = 7, D = 8)\n",
    "def nested_nest():\n",
    "    \n",
    "    \"\"\"\n",
    "    Return a 4 digit number ABCD so that 4*ABCD == DCBA. \n",
    "    All digits are different from each other; A and D are different from 0.\n",
    "\n",
    "    \"\"\"\n",
    "\n",
    "    for A in range(1,10): # A can't take the value 0\n",
    "        for B in range(10):\n",
    "            for C in range(10):\n",
    "                for D in range(1, 10): # D can't take the value 0\n",
    "                    if (A != B) and (B != C) and (C != D):\n",
    "                        # print((A,B,C,D))\n",
    "                        ABCD = int( str(A) + str(B) + str(C) + str(D) )\n",
    "                        DCBA = int( str(D) + str(C) + str(B) + str(A) )\n",
    "\n",
    "                        if DCBA == 4 * ABCD:\n",
    "                            return ABCD\n",
    "\n",
    "    "
   ]
  },
  {
   "cell_type": "code",
   "execution_count": 46,
   "metadata": {},
   "outputs": [
    {
     "name": "stdout",
     "output_type": "stream",
     "text": [
      "2178\n"
     ]
    }
   ],
   "source": [
    "# Test\n",
    "print( nested_nest() )"
   ]
  }
 ],
 "metadata": {
  "kernelspec": {
   "display_name": "Python 3",
   "language": "python",
   "name": "python3"
  },
  "language_info": {
   "codemirror_mode": {
    "name": "ipython",
    "version": 3
   },
   "file_extension": ".py",
   "mimetype": "text/x-python",
   "name": "python",
   "nbconvert_exporter": "python",
   "pygments_lexer": "ipython3",
   "version": "3.8.12"
  }
 },
 "nbformat": 4,
 "nbformat_minor": 4
}
