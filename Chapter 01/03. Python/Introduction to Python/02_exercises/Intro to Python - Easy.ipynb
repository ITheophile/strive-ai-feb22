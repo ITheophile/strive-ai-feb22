{
 "cells": [
  {
   "cell_type": "markdown",
   "metadata": {},
   "source": [
    "Here you have a collection of guided exercises for the first class on Python. <br>\n",
    "The exercises are divided by topic, following the topics reviewed during the theory session, and for each topic you have some mandatory exercises, and other optional exercises, which you are invited to do if you still have time after the mandatory exercises. <br>\n",
    "\n",
    "Remember that you have 5 hours to solve these exercises, after which we will review the most interesting exercises together. If you don't finish all the exercises, you can work on them tonightor tomorrow. \n",
    "\n",
    "At the end of the class, we will upload the code with the solutions of the exercises so that you can review them again if needed. If you still have not finished some exercises, try to do them first by yourself, before taking a look at the solutions: you are doing these exercises for yourself, so it is always the best to do them your way first, as it is the fastest way to learn!"
   ]
  },
  {
   "cell_type": "markdown",
   "metadata": {},
   "source": [
    "**Exercise 1.1:** The cover price of a book is 24.95 EUR, but bookstores get a 40 percent discount. Shipping costs 3 EUR for the first copy and 75 cents for each additional copy. **Calculate the total wholesale costs for 60 copies**. "
   ]
  },
  {
   "cell_type": "code",
   "execution_count": 4,
   "metadata": {},
   "outputs": [
    {
     "data": {
      "text/plain": [
       "646.0500000000001"
      ]
     },
     "execution_count": 4,
     "metadata": {},
     "output_type": "execute_result"
    }
   ],
   "source": [
    "NUMBER_COPIES = 60\n",
    "BOOK_PRICE_IN_EURO = 24.95\n",
    "DISCOUNT = 40/100\n",
    "\n",
    "price_after_discount = BOOK_PRICE_IN_EURO * DISCOUNT\n",
    "total_cost_without_shipping = price_after_discount*NUMBER_COPIES \n",
    "total_shipping_costs = 3 + 0.75*(NUMBER_COPIES - 1)\n",
    "\n",
    "total_wholesale_costs = total_cost_without_shipping + total_shipping_costs\n",
    "total_wholesale_costs\n"
   ]
  },
  {
   "cell_type": "markdown",
   "metadata": {},
   "source": [
    "**Exercise 1.2:** When something is wrong with your code, Python will raise errors. Often these will be \"syntax errors\" that signal that something is wrong with the form of your code (e.g., the code in the previous exercise raised a `SyntaxError`). There are also \"runtime errors\", which signal that your code was in itself formally correct, but that something went wrong during the code's execution. A good example is the `ZeroDivisionError`, which indicates that you tried to divide a number by zero (which, as you may know, is not allowed). Try to make Python **raise such a `ZeroDivisionError`.**"
   ]
  },
  {
   "cell_type": "code",
   "execution_count": 5,
   "metadata": {},
   "outputs": [
    {
     "ename": "ZeroDivisionError",
     "evalue": "division by zero",
     "output_type": "error",
     "traceback": [
      "\u001b[1;31m---------------------------------------------------------------------------\u001b[0m",
      "\u001b[1;31mZeroDivisionError\u001b[0m                         Traceback (most recent call last)",
      "\u001b[1;32m<ipython-input-5-c0e97929ec9d>\u001b[0m in \u001b[0;36m<module>\u001b[1;34m\u001b[0m\n\u001b[0;32m      1\u001b[0m \u001b[1;31m#Your Code Here\u001b[0m\u001b[1;33m\u001b[0m\u001b[1;33m\u001b[0m\u001b[1;33m\u001b[0m\u001b[0m\n\u001b[1;32m----> 2\u001b[1;33m \u001b[1;36m1\u001b[0m \u001b[1;33m/\u001b[0m \u001b[1;36m0\u001b[0m\u001b[1;33m\u001b[0m\u001b[1;33m\u001b[0m\u001b[0m\n\u001b[0m",
      "\u001b[1;31mZeroDivisionError\u001b[0m: division by zero"
     ]
    }
   ],
   "source": [
    "#Your Code Here\n",
    "1 / 0"
   ]
  },
  {
   "cell_type": "markdown",
   "metadata": {},
   "source": [
    "**Exercise 5.1**: Create a countdown function that starts at a certain count, and counts down to zero. Instead of zero, print \"Blast off!\". Use a `for` loop. \n"
   ]
  },
  {
   "cell_type": "code",
   "execution_count": 11,
   "metadata": {},
   "outputs": [
    {
     "name": "stdout",
     "output_type": "stream",
     "text": [
      "10\n",
      "9\n",
      "8\n",
      "7\n",
      "6\n",
      "5\n",
      "4\n",
      "3\n",
      "2\n",
      "1\n",
      "Blast off!\n"
     ]
    }
   ],
   "source": [
    "# Countdown\n",
    "def countdown(number):\n",
    "    for i in range(number):\n",
    "        print(number)\n",
    "        number -= 1\n",
    "    print(\"Blast off!\")\n",
    "\n",
    "\n",
    "# test the function\n",
    "countdown(10)"
   ]
  },
  {
   "cell_type": "markdown",
   "metadata": {},
   "source": [
    "**Exercise 5.2:** Write and test three functions that return the largest, the smallest, and the number of dividables by 3 in a given collection of numbers. Use the algorithm described earlier in the Part 5 lecture :)"
   ]
  },
  {
   "cell_type": "code",
   "execution_count": 25,
   "metadata": {},
   "outputs": [
    {
     "name": "stdout",
     "output_type": "stream",
     "text": [
      "599\n",
      "1\n",
      "5\n"
     ]
    }
   ],
   "source": [
    "# Your functions\n",
    "# def main()\n",
    "#     \"\"\"\n",
    "#     a = [2, 4, 6, 12, 15, 99, 100]\n",
    "#     100\n",
    "#     2\n",
    "#     4\n",
    "#     \"\"\"\n",
    "#     return\n",
    "\n",
    "\n",
    "# largest number\n",
    "def largest_number(collection):\n",
    "\n",
    "    # setting the last element in the collection as benchmark for first comparison\n",
    "    benchmark = collection[-1] \n",
    "    \n",
    "    for i in range(len(collection) - 1):\n",
    "        element = collection[i]\n",
    "        # if a given element is greater than the actual benchmark, then it will be set as the new benchmark\n",
    "        if element > benchmark:\n",
    "            benchmark = element #\n",
    "#         else:\n",
    "#             continue\n",
    "    return benchmark\n",
    "\n",
    "\n",
    "# smallest number\n",
    "# same logic as for largest number\n",
    "def smallest_number(collection):\n",
    "    benchmark = collection[-1] \n",
    "    \n",
    "    for i in range(len(collection) - 1):\n",
    "        element = collection[i]\n",
    "        # if a given element is lesser than the actual benchmark, then it will be set as the new benchmark\n",
    "        if element < benchmark:\n",
    "            benchmark = element #\n",
    "#         else:\n",
    "#             continue\n",
    "    return benchmark\n",
    "\n",
    "# number of dividables by 3\n",
    "def n_dividables_by_3(collection):\n",
    "    number_elements_dividables_by_3 = 0\n",
    "    \n",
    "    for element in collection:\n",
    "        if element%3 == 0:\n",
    "            number_elements_dividables_by_3 += 1\n",
    "    \n",
    "    return number_elements_dividables_by_3\n",
    "    \n",
    "            \n",
    "    \n",
    "\n",
    " # Testing the functions   \n",
    "collection = [2, 4, 6, 12, 599, 15, 99, 1, 100, 30]\n",
    "print(largest_number(collection))\n",
    "print(smallest_number(collection))\n",
    "print(n_dividables_by_3(collection))\n"
   ]
  }
 ],
 "metadata": {
  "kernelspec": {
   "display_name": "Python 3",
   "language": "python",
   "name": "python3"
  },
  "language_info": {
   "codemirror_mode": {
    "name": "ipython",
    "version": 3
   },
   "file_extension": ".py",
   "mimetype": "text/x-python",
   "name": "python",
   "nbconvert_exporter": "python",
   "pygments_lexer": "ipython3",
   "version": "3.8.12"
  }
 },
 "nbformat": 4,
 "nbformat_minor": 4
}
