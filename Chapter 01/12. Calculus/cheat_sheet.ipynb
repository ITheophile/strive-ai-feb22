{
 "cells": [
  {
   "cell_type": "code",
   "execution_count": 14,
   "metadata": {},
   "outputs": [],
   "source": [
    "import numpy as np\n",
    "import matplotlib.pyplot as plt\n",
    "import sympy as sy"
   ]
  },
  {
   "cell_type": "markdown",
   "metadata": {},
   "source": [
    "# Calculus\n"
   ]
  },
  {
   "cell_type": "markdown",
   "metadata": {},
   "source": [
    "## Intro    \n",
    "* A function maps (relates) a set of number to another set and each input yields only one output.\n",
    "\n",
    "* Absolute values can be when computing distances, because they also return positive values and ignore the direction.\n",
    "\n",
    "* Exponent properties\n",
    "    \n",
    "$ X{^\\frac{a}{b}} = \\sqrt[b]{X^a} $ \n",
    "\n",
    "$ X^{-a} = \\frac{1}{X^a}$\n",
    "   \n",
    "$ X^a * X^b = X^{a+b} $\n",
    "\n",
    "$ (X^{a})^b = X^{a * b}$"
   ]
  },
  {
   "cell_type": "markdown",
   "metadata": {},
   "source": [
    "## Limits\n",
    "\n",
    "$\\lim_{x \\to 0} \\frac{1}{x} = \\infty$  \n",
    "\n",
    "$\\lim_{x \\to \\infty} \\frac{1}{x} = 0 $  \n",
    "\n",
    "When we have higher-degree polynomials and we want to compute the limit of x -> oo, what matters in the function is the x with the highest degree.  \n",
    "$\\lim_{x \\to \\infty} \\frac{3x^2 + 3x + 1}{2x^2 + 2x + 2} = \\lim_{x \\to \\infty} \\frac{3x^2}{2x^2} = \\frac{3}{2}$  \n",
    "\n",
    "\n",
    "Who goes slower to infinity?  \n",
    "$ y = c $,  $c$ is a constant.  \n",
    "$\\log(x)$  \n",
    "$x$  \n",
    "$x * \\log(x) $  \n",
    "$x < x^{2} < x^{3} \\cdots < x^{n}$\n"
   ]
  },
  {
   "cell_type": "code",
   "execution_count": 28,
   "metadata": {},
   "outputs": [
    {
     "name": "stdout",
     "output_type": "stream",
     "text": [
      "oo\n",
      "0\n"
     ]
    }
   ],
   "source": [
    "x, y = sy.symbols('x y')\n",
    "\n",
    "y = 1/x\n",
    "\n",
    "print(sy.limit(y, x, 0))\n",
    "print(sy.limit(y, x, sy.oo))"
   ]
  },
  {
   "cell_type": "markdown",
   "metadata": {},
   "source": [
    "## Lines\n",
    "\n"
   ]
  },
  {
   "cell_type": "markdown",
   "metadata": {},
   "source": [
    "## Derivatives"
   ]
  },
  {
   "cell_type": "code",
   "execution_count": 5,
   "metadata": {},
   "outputs": [
    {
     "data": {
      "text/plain": [
       "0"
      ]
     },
     "execution_count": 5,
     "metadata": {},
     "output_type": "execute_result"
    }
   ],
   "source": []
  }
 ],
 "metadata": {
  "interpreter": {
   "hash": "db4d94f7962dcc818ea238f62a69636fa41bd28f5daf8a9f9234f6ae986cf5d4"
  },
  "kernelspec": {
   "display_name": "Python 3.8.12 ('strive')",
   "language": "python",
   "name": "python3"
  },
  "language_info": {
   "codemirror_mode": {
    "name": "ipython",
    "version": 3
   },
   "file_extension": ".py",
   "mimetype": "text/x-python",
   "name": "python",
   "nbconvert_exporter": "python",
   "pygments_lexer": "ipython3",
   "version": "3.8.12"
  },
  "orig_nbformat": 4
 },
 "nbformat": 4,
 "nbformat_minor": 2
}
