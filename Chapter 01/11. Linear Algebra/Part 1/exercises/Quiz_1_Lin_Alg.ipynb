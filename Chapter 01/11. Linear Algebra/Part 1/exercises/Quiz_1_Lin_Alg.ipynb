{
 "cells": [
  {
   "cell_type": "markdown",
   "metadata": {},
   "source": [
    "## Linear Algebra Quiz #1\n",
    "\n",
    "We strongly suggest working with numpy :)"
   ]
  },
  {
   "cell_type": "code",
   "execution_count": 18,
   "metadata": {},
   "outputs": [],
   "source": [
    "import numpy as np"
   ]
  },
  {
   "cell_type": "code",
   "execution_count": 19,
   "metadata": {},
   "outputs": [
    {
     "data": {
      "text/plain": [
       "3.7416573867739413"
      ]
     },
     "execution_count": 19,
     "metadata": {},
     "output_type": "execute_result"
    }
   ],
   "source": [
    "# type a function that given a 3_dimensional vector it is able to calculate its magnitude\n",
    "\n",
    "def magnitude_3(a,b,c):\n",
    "\n",
    "# type a function that given a n_dimensional vector it is able to calculate its magnitude\n",
    "# if you want to try this from python (not jupyter notebook) https://docs.python.org/3/library/argparse.html would be a good addition\n",
    "# if you are doing this from a jupyter notebook only, you can try to prompt the user for an input  \n",
    "    arr = np.array([a, b, c])\n",
    "    return np.linalg.norm(arr)\n",
    "\n",
    "\n",
    "def magnitude_complete(user_input):\n",
    "    pass\n",
    "\n",
    "\n",
    "# checK\n",
    "magnitude_3(1, 2, 3)\n",
    "    "
   ]
  },
  {
   "cell_type": "markdown",
   "metadata": {},
   "source": [
    "uncomment the following line when you are ready to test"
   ]
  },
  {
   "cell_type": "code",
   "execution_count": 20,
   "metadata": {},
   "outputs": [],
   "source": [
    "# assert magnitude_complete(1) == 1.0\n",
    "# assert magnitude_complete(1,2) >= 2.236\n",
    "# assert magnitude_complete(1,2,3) >= 3.741\n",
    "# assert magnitude_complete(1,2,3,4,5) >= 5.477\n",
    "# assert magnitude_complete(1,2,3,4,5) >= 7.416"
   ]
  },
  {
   "cell_type": "markdown",
   "metadata": {},
   "source": [
    "![title](./img/1_2.png)"
   ]
  },
  {
   "cell_type": "code",
   "execution_count": 21,
   "metadata": {},
   "outputs": [
    {
     "data": {
      "text/plain": [
       "1.0"
      ]
     },
     "execution_count": 21,
     "metadata": {},
     "output_type": "execute_result"
    }
   ],
   "source": [
    "def magnitude_vectors(a, b):\n",
    "    \"\"\"\n",
    "    compute the magnitude of the sum between two vectors a and b. \n",
    "    Vectors must of the same size.\n",
    "    \"\"\"\n",
    "\n",
    "    if a.size == b.size:\n",
    "        return np.linalg.norm(a + b)\n",
    "\n",
    "    else:\n",
    "        raise ValueError('Vectors must be of the same size!')\n",
    "        \n",
    "\n",
    "# check\n",
    "x = np.array([5, 1])\n",
    "y = np.array([-4, -1])\n",
    "\n",
    "magnitude_vectors(x, y)    "
   ]
  },
  {
   "cell_type": "markdown",
   "metadata": {},
   "source": [
    "![title](./img/1_3.png)"
   ]
  },
  {
   "cell_type": "code",
   "execution_count": 23,
   "metadata": {},
   "outputs": [
    {
     "name": "stdout",
     "output_type": "stream",
     "text": [
      "The magnitude of [5 1] + [-4 -1] is 1.0 and the direction is 177.27°\n"
     ]
    }
   ],
   "source": [
    "def direction_vectors(a, b):\n",
    "    pass\n",
    "    \n",
    "# or if you want to do it all in one batch:\n",
    "def magdir_vectors(a, b):\n",
    "\n",
    "    \"\"\"\n",
    "    Given two vectors a, b, the function compute the magniture of a + b\n",
    "    as well as the direction between the two vectors\n",
    "    \"\"\"\n",
    "    magnitude = magnitude_vectors(a, b)\n",
    "    cos_theta = np.dot(a,b) / (np.linalg.norm(a) * np.linalg.norm(b))\n",
    "    degree = round( np.arccos(cos_theta)* 180/np.pi, 2 )\n",
    "\n",
    "    print(f'The magnitude of {a} + {b} is {magnitude} and the direction is {degree}°')\n",
    "\n",
    "\n",
    "\n",
    "# check\n",
    "magdir_vectors(x, y)\n",
    "    "
   ]
  },
  {
   "cell_type": "markdown",
   "metadata": {},
   "source": [
    "![title](./img/1_4.png)\n",
    "- What is the magnitude of αx⃗? \n",
    "- If α>0, will the direction of the resulting vector change?\n",
    "- If α<0, will the direction of the resulting vector change?\n",
    "- If −1<α<1, will ∥αx⃗∥  increase, decrease or stay the same?"
   ]
  },
  {
   "cell_type": "code",
   "execution_count": 29,
   "metadata": {},
   "outputs": [
    {
     "name": "stdout",
     "output_type": "stream",
     "text": [
      "Before scaler multiplication: 5.1 | Apter scaler multiplication 10.2\n"
     ]
    }
   ],
   "source": [
    "def alpha_magnitude(alpha, b):\n",
    "    return np.linalg.norm(alpha * b)\n",
    "\n",
    "\n",
    "\n",
    "# alpha > 0\n",
    "print(f'Before scaler multiplication: {round(np.linalg.norm(x), 2) } | Apter scaler multiplication {round(alpha_magnitude(2, x),2)}')"
   ]
  },
  {
   "cell_type": "markdown",
   "metadata": {},
   "source": [
    "For the above exercise, write down in markdown or in a comment if the direction has changed and what has happened to the vector."
   ]
  },
  {
   "cell_type": "markdown",
   "metadata": {},
   "source": [
    "Multipliying a vector by a non null scalar just rescale its magnitude, i.e., the vector can either increase of shrink in terms of magniture. The direction might only change, if the vector is multiply by a matrix."
   ]
  }
 ],
 "metadata": {
  "kernelspec": {
   "display_name": "Python 3",
   "language": "python",
   "name": "python3"
  },
  "language_info": {
   "codemirror_mode": {
    "name": "ipython",
    "version": 3
   },
   "file_extension": ".py",
   "mimetype": "text/x-python",
   "name": "python",
   "nbconvert_exporter": "python",
   "pygments_lexer": "ipython3",
   "version": "3.8.12"
  },
  "varInspector": {
   "cols": {
    "lenName": 16,
    "lenType": 16,
    "lenVar": 40
   },
   "kernels_config": {
    "python": {
     "delete_cmd_postfix": "",
     "delete_cmd_prefix": "del ",
     "library": "var_list.py",
     "varRefreshCmd": "print(var_dic_list())"
    },
    "r": {
     "delete_cmd_postfix": ") ",
     "delete_cmd_prefix": "rm(",
     "library": "var_list.r",
     "varRefreshCmd": "cat(var_dic_list()) "
    }
   },
   "types_to_exclude": [
    "module",
    "function",
    "builtin_function_or_method",
    "instance",
    "_Feature"
   ],
   "window_display": false
  }
 },
 "nbformat": 4,
 "nbformat_minor": 2
}
