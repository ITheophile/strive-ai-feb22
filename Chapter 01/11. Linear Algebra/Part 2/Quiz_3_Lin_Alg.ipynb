{
 "cells": [
  {
   "cell_type": "markdown",
   "metadata": {},
   "source": [
    "## Linear Algebra Quiz #3\n",
    "\n",
    "![title](./img/3_0.jpeg)\n",
    "\n",
    "We strongly suggest working with numpy :)"
   ]
  },
  {
   "cell_type": "code",
   "execution_count": 2,
   "metadata": {},
   "outputs": [],
   "source": [
    "import numpy as np"
   ]
  },
  {
   "cell_type": "markdown",
   "metadata": {},
   "source": [
    "![title](./img/3_2.png)\n",
    "![title](./img/3_3.png)\n",
    "Create a program that can output\n",
    "\n",
    "- What is the value of element c23​ of Matrix C where C=A x B ?\n",
    "- What is the value of element c23​ of Matrix C where C=B x A ?"
   ]
  },
  {
   "cell_type": "code",
   "execution_count": 14,
   "metadata": {},
   "outputs": [
    {
     "name": "stdout",
     "output_type": "stream",
     "text": [
      "[[ 23.   18.    4. ]\n",
      " [ 22.  -16.5   5. ]\n",
      " [-71.    2.  -35. ]]\n",
      "--------------------\n",
      "[[-25.   17.   13. ]\n",
      " [ -1.    8.   16. ]\n",
      " [ 27.5  24.  -11.5]]\n"
     ]
    }
   ],
   "source": [
    "A = np.array([0.6, -15, 2, 5, 98])\n",
    "B = np.array([ [2, 2, -4],\n",
    "                [9, -14, 0],\n",
    "                [13, -0.5, 44],\n",
    "                [1, 9, 4],\n",
    "                [0, 0, 5]])\n",
    "\n",
    "\n",
    "np.dot(A.reshape(1, 5), B)\n",
    "\n",
    "\n",
    "\n",
    "A = np.array([ [3, 1, 2],\n",
    "                [-5, 4, 1],\n",
    "                [0, 3, -8]\n",
    "                \n",
    "                ])\n",
    "\n",
    "B = np.array([ [0, 5, -1],\n",
    "                [3, 2, -1],\n",
    "                [10, 0.5, 4]\n",
    "                \n",
    "                ])\n",
    "\n",
    "\n",
    "\n",
    "C1 = np.dot(A,B)\n",
    "\n",
    "C2 = np.dot(B, A)\n",
    "\n",
    "print(C1)\n",
    "print('-'*20)\n",
    "print(C2)\n",
    "#the value of element c23​ of Matrix C where C=A x B is 5.0\n",
    "# the value of element c23​ of Matrix C where C=Bx A is 16.0"
   ]
  },
  {
   "cell_type": "code",
   "execution_count": null,
   "metadata": {},
   "outputs": [],
   "source": [
    "# okay numpy is great but... how would you inverse a matrix by hand?\n",
    "\n",
    "def inverse_matrix(A):\n",
    "    return \"\""
   ]
  },
  {
   "cell_type": "markdown",
   "metadata": {},
   "source": [
    "![title](./img/3_1.png)\n",
    "Create a program that can output\n",
    "\n",
    "- What is the value of the ijth element if i = 2 and j=3?\n",
    "- What is the value of the ijth element if i = 3 and j=1?"
   ]
  },
  {
   "cell_type": "code",
   "execution_count": null,
   "metadata": {},
   "outputs": [],
   "source": [
    "# Just answer using code --> easy stuff!\n",
    "\n",
    "# Harder\n",
    "# Can you build a matrix solver that can do output the result given n matrices and a sequence of operations such as [add subtract multiply transpose?]\n",
    "#Some ideas on valid operations: Multiplication Addition Subtraction Inverstion Transposed. "
   ]
  },
  {
   "cell_type": "markdown",
   "metadata": {},
   "source": [
    "![title](./img/3_3.png)\n",
    "Create a program that can output\n",
    "- How many rows will C have?\n",
    "- How many columns will C have?\n",
    "- What will be the value of c13​?"
   ]
  },
  {
   "cell_type": "code",
   "execution_count": 17,
   "metadata": {},
   "outputs": [
    {
     "data": {
      "text/plain": [
       "4.0"
      ]
     },
     "execution_count": 17,
     "metadata": {},
     "output_type": "execute_result"
    }
   ],
   "source": [
    "# numbers of rows\n",
    "C1.shape[0]\n",
    "\n",
    "# numbers of columns\n",
    "C1.shape[1],\n",
    "\n",
    "# C13\n",
    "C1[0,2]"
   ]
  }
 ],
 "metadata": {
  "kernelspec": {
   "display_name": "Python 3",
   "language": "python",
   "name": "python3"
  },
  "language_info": {
   "codemirror_mode": {
    "name": "ipython",
    "version": 3
   },
   "file_extension": ".py",
   "mimetype": "text/x-python",
   "name": "python",
   "nbconvert_exporter": "python",
   "pygments_lexer": "ipython3",
   "version": "3.8.12"
  },
  "varInspector": {
   "cols": {
    "lenName": 16,
    "lenType": 16,
    "lenVar": 40
   },
   "kernels_config": {
    "python": {
     "delete_cmd_postfix": "",
     "delete_cmd_prefix": "del ",
     "library": "var_list.py",
     "varRefreshCmd": "print(var_dic_list())"
    },
    "r": {
     "delete_cmd_postfix": ") ",
     "delete_cmd_prefix": "rm(",
     "library": "var_list.r",
     "varRefreshCmd": "cat(var_dic_list()) "
    }
   },
   "types_to_exclude": [
    "module",
    "function",
    "builtin_function_or_method",
    "instance",
    "_Feature"
   ],
   "window_display": false
  }
 },
 "nbformat": 4,
 "nbformat_minor": 2
}
