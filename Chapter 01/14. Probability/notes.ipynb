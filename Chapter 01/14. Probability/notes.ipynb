{
 "cells": [
  {
   "cell_type": "markdown",
   "metadata": {},
   "source": [
    "# Probability"
   ]
  },
  {
   "cell_type": "markdown",
   "metadata": {},
   "source": [
    "## 1. Sample space\n",
    "The sample space is a set of all the possible outcomes of a random experiment.  \n",
    "Eg. When throwing a die, we'll have a set of 6 possibles outcomes/results.  \n",
    "If we throw the die twice, then we'll a set made of 6*6 possible answers (eg. 1 and 5 or 1 and 3)"
   ]
  },
  {
   "cell_type": "markdown",
   "metadata": {},
   "source": [
    "## 2. Random variable"
   ]
  },
  {
   "cell_type": "markdown",
   "metadata": {},
   "source": [
    "It's a numerical description of the outcome we observe from a statistical experiment.  \n",
    "If we throw a die, then the outcome we get is random variable (in this case **discrete random variable**).  \n",
    "If on the other hand we interested in finding the probability of picking a person that a weight above a certain threshold, then what we're studying it's a height, which is in this a **continuous random variable**(other examples include the price, height, weight...)"
   ]
  },
  {
   "cell_type": "markdown",
   "metadata": {},
   "source": [
    "## 3. Event\n",
    "It is set of outcomes or in another words, a subset of the sample space.  \n",
    "Having an even number after throwing a die, which will be made of {2, 4, 6}, so in total 3 outcomes."
   ]
  },
  {
   "cell_type": "markdown",
   "metadata": {},
   "source": [
    "A complement event of E, is Ec such that $P(E_{c}) = 1 - P(E)$. In another the event E and Ec make up the sample space.  \n",
    "E.g. Not getting a 3 include all the outcomes (except 3) of throwing a die.  \n",
    "In which case $P(not 3) = 1 - P(3) = 1 - \\frac{1}{6}$"
   ]
  },
  {
   "cell_type": "markdown",
   "metadata": {},
   "source": [
    "## 4. Probability\n",
    "It's the likelihood that a specific event takes place.\n"
   ]
  },
  {
   "cell_type": "markdown",
   "metadata": {},
   "source": [
    "For any given event A:  \n",
    "$0 \\le P(A) \\le 1$"
   ]
  },
  {
   "cell_type": "markdown",
   "metadata": {},
   "source": [
    "### Union\n",
    "Either A or B happens.  \n",
    "$P(A\\cup B) = P(A) + P(B) - P(A\\cap B)$"
   ]
  }
 ],
 "metadata": {
  "interpreter": {
   "hash": "db4d94f7962dcc818ea238f62a69636fa41bd28f5daf8a9f9234f6ae986cf5d4"
  },
  "kernelspec": {
   "display_name": "Python 3.8.12 ('strive')",
   "language": "python",
   "name": "python3"
  },
  "language_info": {
   "name": "python",
   "version": "3.8.12"
  },
  "orig_nbformat": 4
 },
 "nbformat": 4,
 "nbformat_minor": 2
}
