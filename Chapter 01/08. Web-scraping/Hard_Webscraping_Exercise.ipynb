{
 "cells": [
  {
   "cell_type": "code",
   "execution_count": 251,
   "metadata": {},
   "outputs": [],
   "source": [
    "import requests\n",
    "from bs4  import BeautifulSoup\n",
    "import pandas as pd"
   ]
  },
  {
   "cell_type": "markdown",
   "metadata": {},
   "source": [
    "## 1. Web page"
   ]
  },
  {
   "cell_type": "code",
   "execution_count": 252,
   "metadata": {},
   "outputs": [
    {
     "name": "stdout",
     "output_type": "stream",
     "text": [
      "<Response [200]>\n"
     ]
    }
   ],
   "source": [
    "# Extract web page\n",
    "url = 'https://weather.com/weather/tenday/l/San+Francisco+CA?canonicalCityId=dfdaba8cbe3a4d12a8796e1f7b1ccc7174b4b0a2d5ddb1c8566ae9f154fa638c'\n",
    "response = requests.get(url)\n",
    "print(response)\n",
    "\n",
    "# Scraper\n",
    "soup = BeautifulSoup(response.content, 'html.parser') "
   ]
  },
  {
   "cell_type": "markdown",
   "metadata": {},
   "source": [
    "**Understading what the elements I need have in common**\n",
    "\n",
    "* Week day\n",
    "class =  `\"DailyContent--daypartDate--2A3Wi\"`\n",
    "\n",
    "* Weather description\n",
    "class = `\"DailyContent--narrative--hplRl\"`\n",
    "\n",
    "* Temperature (low and high)\n",
    "class = `\"DailyContent--temp--3d4dn\"`\n",
    "\n",
    "\n"
   ]
  },
  {
   "cell_type": "markdown",
   "metadata": {},
   "source": [
    "## 2. Extracting information"
   ]
  },
  {
   "cell_type": "code",
   "execution_count": 253,
   "metadata": {},
   "outputs": [],
   "source": [
    "# Class names\n",
    "weekday_class = 'DailyContent--daypartDate--2A3Wi'\n",
    "weather_description_class = 'DailyContent--narrative--hplRl'\n",
    "temperature_class = \"DailyContent--temp--3d4dn\"\n",
    "\n",
    "# Extracting information I need\n",
    "raw_data = {weekday_class: [],\n",
    "        weather_description_class: [],\n",
    "        temperature_class: []\n",
    "        }\n",
    "\n",
    "for tag_class in raw_data:\n",
    "    tags= soup.find_all(class_ = tag_class)\n",
    "    for element in tags:\n",
    "        raw_data[tag_class].append( element.text )\n",
    "            "
   ]
  },
  {
   "cell_type": "markdown",
   "metadata": {},
   "source": [
    "## 3. Cleaning data"
   ]
  },
  {
   "cell_type": "code",
   "execution_count": 254,
   "metadata": {},
   "outputs": [],
   "source": [
    "data = pd.DataFrame(raw_data)\n",
    "\n",
    "# reset column names to meaningful ones\n",
    "data.columns = ['weekday', 'description', 'temp_degree']\n"
   ]
  },
  {
   "cell_type": "code",
   "execution_count": 255,
   "metadata": {},
   "outputs": [],
   "source": [
    "# cleaning temperature\n",
    "data['temp_degree'] = (data['temp_degree']                  # grab `temp_degree` column\n",
    "                        .str.replace(\"°\", '')               # remove `°` symbol \n",
    "                        .apply(lambda x: pd.to_numeric(x))  # change string to number\n",
    "                        )\n"
   ]
  },
  {
   "cell_type": "markdown",
   "metadata": {},
   "source": [
    "## 4. Adding date and temperature state columns"
   ]
  },
  {
   "cell_type": "code",
   "execution_count": 256,
   "metadata": {},
   "outputs": [],
   "source": [
    "# Creating date\n",
    "\n",
    "date = (pd.date_range(start= pd.to_datetime(\"today\"), periods=15)       # generate a range of 15 datetime objets, starting from today.\n",
    "        .repeat(2)                                                      # repeat each datetime by 2 to account for day and night pattern\n",
    "        .date                                                           # extract only the date part from the datetime\n",
    "        )\n",
    "\n",
    "\n",
    "# Adding date to data\n",
    "data['date'] = date"
   ]
  },
  {
   "cell_type": "code",
   "execution_count": 257,
   "metadata": {},
   "outputs": [],
   "source": [
    "# temperature state (i.e. low or high)\n",
    "# this information is embedded in the description column\n",
    "\n",
    "\n",
    "temp_state = (data['description']                       # grab `description` column\n",
    "                    .str.lower()                        # lower all characters for each description (row)\n",
    "                    .str.contains('high')               # check for the presence of `high` within each description (True or False)\n",
    "                    .map({True:'high', False:'low'})    # change `True` -> 'high' and `False` -> `low`\n",
    "            )\n",
    "\n",
    "# Adding `temp_state` to data\n",
    "data['temp_state'] = temp_state"
   ]
  },
  {
   "cell_type": "code",
   "execution_count": 259,
   "metadata": {},
   "outputs": [
    {
     "data": {
      "text/html": [
       "<div>\n",
       "<style scoped>\n",
       "    .dataframe tbody tr th:only-of-type {\n",
       "        vertical-align: middle;\n",
       "    }\n",
       "\n",
       "    .dataframe tbody tr th {\n",
       "        vertical-align: top;\n",
       "    }\n",
       "\n",
       "    .dataframe thead th {\n",
       "        text-align: right;\n",
       "    }\n",
       "</style>\n",
       "<table border=\"1\" class=\"dataframe\">\n",
       "  <thead>\n",
       "    <tr style=\"text-align: right;\">\n",
       "      <th></th>\n",
       "      <th>date</th>\n",
       "      <th>weekday</th>\n",
       "      <th>temp_degree</th>\n",
       "      <th>temp_state</th>\n",
       "      <th>description</th>\n",
       "    </tr>\n",
       "  </thead>\n",
       "  <tbody>\n",
       "    <tr>\n",
       "      <th>20</th>\n",
       "      <td>2022-03-22</td>\n",
       "      <td>Tue 22</td>\n",
       "      <td>67</td>\n",
       "      <td>high</td>\n",
       "      <td>Mostly sunny skies. High 67F. Winds WNW at 10 ...</td>\n",
       "    </tr>\n",
       "    <tr>\n",
       "      <th>21</th>\n",
       "      <td>2022-03-22</td>\n",
       "      <td>Tue 22</td>\n",
       "      <td>47</td>\n",
       "      <td>low</td>\n",
       "      <td>Mainly clear skies. Low 47F. Winds WNW at 10 t...</td>\n",
       "    </tr>\n",
       "    <tr>\n",
       "      <th>22</th>\n",
       "      <td>2022-03-23</td>\n",
       "      <td>Wed 23</td>\n",
       "      <td>68</td>\n",
       "      <td>high</td>\n",
       "      <td>Intervals of clouds and sunshine. High 68F. Wi...</td>\n",
       "    </tr>\n",
       "    <tr>\n",
       "      <th>23</th>\n",
       "      <td>2022-03-23</td>\n",
       "      <td>Wed 23</td>\n",
       "      <td>46</td>\n",
       "      <td>low</td>\n",
       "      <td>Mainly clear skies. Low 46F. Winds WNW at 10 t...</td>\n",
       "    </tr>\n",
       "    <tr>\n",
       "      <th>24</th>\n",
       "      <td>2022-03-24</td>\n",
       "      <td>Thu 24</td>\n",
       "      <td>67</td>\n",
       "      <td>high</td>\n",
       "      <td>Partly cloudy skies. High 67F. Winds WNW at 10...</td>\n",
       "    </tr>\n",
       "    <tr>\n",
       "      <th>25</th>\n",
       "      <td>2022-03-24</td>\n",
       "      <td>Thu 24</td>\n",
       "      <td>46</td>\n",
       "      <td>low</td>\n",
       "      <td>Partly cloudy. Low 46F. Winds WNW at 10 to 15 ...</td>\n",
       "    </tr>\n",
       "    <tr>\n",
       "      <th>26</th>\n",
       "      <td>2022-03-25</td>\n",
       "      <td>Fri 25</td>\n",
       "      <td>65</td>\n",
       "      <td>high</td>\n",
       "      <td>Mostly sunny skies. High near 65F. Winds WNW a...</td>\n",
       "    </tr>\n",
       "    <tr>\n",
       "      <th>27</th>\n",
       "      <td>2022-03-25</td>\n",
       "      <td>Fri 25</td>\n",
       "      <td>45</td>\n",
       "      <td>low</td>\n",
       "      <td>Clear skies with a few passing clouds. Low nea...</td>\n",
       "    </tr>\n",
       "    <tr>\n",
       "      <th>28</th>\n",
       "      <td>2022-03-26</td>\n",
       "      <td>Sat 26</td>\n",
       "      <td>65</td>\n",
       "      <td>high</td>\n",
       "      <td>Partly cloudy. High around 65F. Winds WNW at 1...</td>\n",
       "    </tr>\n",
       "    <tr>\n",
       "      <th>29</th>\n",
       "      <td>2022-03-26</td>\n",
       "      <td>Sat 26</td>\n",
       "      <td>45</td>\n",
       "      <td>low</td>\n",
       "      <td>Mostly clear skies. Low near 45F. Winds WNW at...</td>\n",
       "    </tr>\n",
       "  </tbody>\n",
       "</table>\n",
       "</div>"
      ],
      "text/plain": [
       "          date weekday  temp_degree temp_state  \\\n",
       "20  2022-03-22  Tue 22           67       high   \n",
       "21  2022-03-22  Tue 22           47        low   \n",
       "22  2022-03-23  Wed 23           68       high   \n",
       "23  2022-03-23  Wed 23           46        low   \n",
       "24  2022-03-24  Thu 24           67       high   \n",
       "25  2022-03-24  Thu 24           46        low   \n",
       "26  2022-03-25  Fri 25           65       high   \n",
       "27  2022-03-25  Fri 25           45        low   \n",
       "28  2022-03-26  Sat 26           65       high   \n",
       "29  2022-03-26  Sat 26           45        low   \n",
       "\n",
       "                                          description  \n",
       "20  Mostly sunny skies. High 67F. Winds WNW at 10 ...  \n",
       "21  Mainly clear skies. Low 47F. Winds WNW at 10 t...  \n",
       "22  Intervals of clouds and sunshine. High 68F. Wi...  \n",
       "23  Mainly clear skies. Low 46F. Winds WNW at 10 t...  \n",
       "24  Partly cloudy skies. High 67F. Winds WNW at 10...  \n",
       "25  Partly cloudy. Low 46F. Winds WNW at 10 to 15 ...  \n",
       "26  Mostly sunny skies. High near 65F. Winds WNW a...  \n",
       "27  Clear skies with a few passing clouds. Low nea...  \n",
       "28  Partly cloudy. High around 65F. Winds WNW at 1...  \n",
       "29  Mostly clear skies. Low near 45F. Winds WNW at...  "
      ]
     },
     "execution_count": 259,
     "metadata": {},
     "output_type": "execute_result"
    }
   ],
   "source": [
    "# Reorder column positions and final overview for check\n",
    "\n",
    "data = data.reindex(columns= ['date', 'weekday', 'temp_degree', 'temp_state','description'])\n",
    "\n",
    "data.head(10)"
   ]
  }
 ],
 "metadata": {
  "interpreter": {
   "hash": "db4d94f7962dcc818ea238f62a69636fa41bd28f5daf8a9f9234f6ae986cf5d4"
  },
  "kernelspec": {
   "display_name": "Python 3.8.12 ('strive')",
   "language": "python",
   "name": "python3"
  },
  "language_info": {
   "codemirror_mode": {
    "name": "ipython",
    "version": 3
   },
   "file_extension": ".py",
   "mimetype": "text/x-python",
   "name": "python",
   "nbconvert_exporter": "python",
   "pygments_lexer": "ipython3",
   "version": "3.8.12"
  },
  "orig_nbformat": 4
 },
 "nbformat": 4,
 "nbformat_minor": 2
}
