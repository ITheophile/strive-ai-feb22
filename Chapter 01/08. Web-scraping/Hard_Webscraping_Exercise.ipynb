{
 "cells": [
  {
   "cell_type": "code",
   "execution_count": 43,
   "metadata": {},
   "outputs": [],
   "source": [
    "import requests\n",
    "from bs4  import BeautifulSoup\n",
    "import pandas as pd"
   ]
  },
  {
   "cell_type": "markdown",
   "metadata": {},
   "source": [
    "## 1. Web page"
   ]
  },
  {
   "cell_type": "code",
   "execution_count": 44,
   "metadata": {},
   "outputs": [
    {
     "name": "stdout",
     "output_type": "stream",
     "text": [
      "<Response [200]>\n"
     ]
    }
   ],
   "source": [
    "# Extract web page\n",
    "url = 'https://weather.com/weather/tenday/l/San+Francisco+CA?canonicalCityId=dfdaba8cbe3a4d12a8796e1f7b1ccc7174b4b0a2d5ddb1c8566ae9f154fa638c'\n",
    "response = requests.get(url)\n",
    "print(response)\n",
    "\n",
    "# Scraper\n",
    "soup = BeautifulSoup(response.content, 'html.parser') "
   ]
  },
  {
   "cell_type": "markdown",
   "metadata": {},
   "source": [
    "**Understading what the elements I need have in common**\n",
    "\n",
    "* Week day\n",
    "class =  `\"DailyContent--daypartDate--2A3Wi\"`\n",
    "\n",
    "* Weather description\n",
    "class = `\"DailyContent--narrative--hplRl\"`\n",
    "\n",
    "* Temperature (low and high)\n",
    "class = `\"DailyContent--temp--3d4dn\"`\n",
    "\n",
    "\n"
   ]
  },
  {
   "cell_type": "markdown",
   "metadata": {},
   "source": [
    "## 2. Extracting information"
   ]
  },
  {
   "cell_type": "code",
   "execution_count": 45,
   "metadata": {},
   "outputs": [],
   "source": [
    "# Class names\n",
    "weekday_class = 'DailyContent--daypartDate--2A3Wi'\n",
    "weather_description_class = 'DailyContent--narrative--hplRl'\n",
    "temperature_class = \"DailyContent--temp--3d4dn\"\n",
    "\n",
    "# Extracting information I need\n",
    "raw_data = {weekday_class: [],\n",
    "        weather_description_class: [],\n",
    "        temperature_class: []\n",
    "        }\n",
    "\n",
    "for tag_class in raw_data:\n",
    "    tags= soup.find_all(class_ = tag_class)\n",
    "    for element in tags:\n",
    "        raw_data[tag_class].append( element.text )\n",
    "            "
   ]
  },
  {
   "cell_type": "markdown",
   "metadata": {},
   "source": [
    "## 3. Cleaning data"
   ]
  },
  {
   "cell_type": "code",
   "execution_count": 46,
   "metadata": {},
   "outputs": [],
   "source": [
    "data = pd.DataFrame(raw_data)\n",
    "\n",
    "# reset column names to meaningful ones\n",
    "data.columns = ['weekday', 'description', 'temp_degree']\n"
   ]
  },
  {
   "cell_type": "code",
   "execution_count": 47,
   "metadata": {},
   "outputs": [],
   "source": [
    "# cleaning temperature\n",
    "data['temp_degree'] = (data['temp_degree']                  # grab `temp_degree` column\n",
    "                        .str.replace(\"°\", '')               # remove `°` symbol \n",
    "                        .apply(lambda x: pd.to_numeric(x))  # change string to number\n",
    "                        )\n"
   ]
  },
  {
   "cell_type": "markdown",
   "metadata": {},
   "source": [
    "## 4. Adding date and temperature state columns"
   ]
  },
  {
   "cell_type": "code",
   "execution_count": 48,
   "metadata": {},
   "outputs": [],
   "source": [
    "# Date column\n",
    "\n",
    "yesterday = pd.to_datetime(\"today\") - pd.Timedelta(1, unit = 'D')\n",
    "\n",
    "date = pd.Series((pd.date_range(start= yesterday, periods=15 )\n",
    "                .repeat(2)  # repeat each datetime by 2 to account for day and night pattern\n",
    "                .date))   \n",
    "\n",
    "# Comply with website change of weekday \n",
    "# In the morning, first weekday is yesterday, around noon this changes to current weekday\n",
    "\n",
    "first_value_week = soup.find(\"h2\", text = \"Tonight\").text.lower()\n",
    "if  first_value_week == 'tonight':\n",
    "    data['date'] = date[1:].reset_index(drop=True)\n",
    "    \n",
    "else:\n",
    "    data['date'] = date[2:]"
   ]
  },
  {
   "cell_type": "code",
   "execution_count": 49,
   "metadata": {},
   "outputs": [],
   "source": [
    "# temperature state (i.e. low or high)\n",
    "# this information is embedded in the description column\n",
    "\n",
    "\n",
    "temp_state = (data['description']                       # grab `description` column\n",
    "                    .str.lower()                        # lower all characters for each description (row)\n",
    "                    .str.contains('high')               # check for the presence of `high` within each description (True or False)\n",
    "                    .map({True:'high', False:'low'})    # change `True` -> 'high' and `False` -> `low`\n",
    "            )\n",
    "\n",
    "# Adding `temp_state` to data\n",
    "data['temp_state'] = temp_state"
   ]
  },
  {
   "cell_type": "code",
   "execution_count": 50,
   "metadata": {},
   "outputs": [
    {
     "data": {
      "text/html": [
       "<div>\n",
       "<style scoped>\n",
       "    .dataframe tbody tr th:only-of-type {\n",
       "        vertical-align: middle;\n",
       "    }\n",
       "\n",
       "    .dataframe tbody tr th {\n",
       "        vertical-align: top;\n",
       "    }\n",
       "\n",
       "    .dataframe thead th {\n",
       "        text-align: right;\n",
       "    }\n",
       "</style>\n",
       "<table border=\"1\" class=\"dataframe\">\n",
       "  <thead>\n",
       "    <tr style=\"text-align: right;\">\n",
       "      <th></th>\n",
       "      <th>date</th>\n",
       "      <th>weekday</th>\n",
       "      <th>temp_degree</th>\n",
       "      <th>temp_state</th>\n",
       "      <th>description</th>\n",
       "    </tr>\n",
       "  </thead>\n",
       "  <tbody>\n",
       "    <tr>\n",
       "      <th>0</th>\n",
       "      <td>2022-03-12</td>\n",
       "      <td>Sat 12</td>\n",
       "      <td>49</td>\n",
       "      <td>low</td>\n",
       "      <td>Cloudy with a few showers. Low 49F. Winds SW a...</td>\n",
       "    </tr>\n",
       "    <tr>\n",
       "      <th>1</th>\n",
       "      <td>2022-03-13</td>\n",
       "      <td>Sun 13</td>\n",
       "      <td>57</td>\n",
       "      <td>high</td>\n",
       "      <td>Cloudy early with partial sunshine expected la...</td>\n",
       "    </tr>\n",
       "    <tr>\n",
       "      <th>2</th>\n",
       "      <td>2022-03-13</td>\n",
       "      <td>Sun 13</td>\n",
       "      <td>44</td>\n",
       "      <td>low</td>\n",
       "      <td>Partly cloudy early with increasing clouds ove...</td>\n",
       "    </tr>\n",
       "    <tr>\n",
       "      <th>3</th>\n",
       "      <td>2022-03-14</td>\n",
       "      <td>Mon 14</td>\n",
       "      <td>61</td>\n",
       "      <td>high</td>\n",
       "      <td>Partly cloudy skies. High 61F. Winds SW at 10 ...</td>\n",
       "    </tr>\n",
       "    <tr>\n",
       "      <th>4</th>\n",
       "      <td>2022-03-14</td>\n",
       "      <td>Mon 14</td>\n",
       "      <td>53</td>\n",
       "      <td>low</td>\n",
       "      <td>Showers early becoming a steady light rain lat...</td>\n",
       "    </tr>\n",
       "    <tr>\n",
       "      <th>5</th>\n",
       "      <td>2022-03-15</td>\n",
       "      <td>Tue 15</td>\n",
       "      <td>59</td>\n",
       "      <td>high</td>\n",
       "      <td>Showers in the morning, then cloudy in the aft...</td>\n",
       "    </tr>\n",
       "    <tr>\n",
       "      <th>6</th>\n",
       "      <td>2022-03-15</td>\n",
       "      <td>Tue 15</td>\n",
       "      <td>46</td>\n",
       "      <td>low</td>\n",
       "      <td>Partly cloudy. Low 46F. Winds WNW at 10 to 15 ...</td>\n",
       "    </tr>\n",
       "    <tr>\n",
       "      <th>7</th>\n",
       "      <td>2022-03-16</td>\n",
       "      <td>Wed 16</td>\n",
       "      <td>62</td>\n",
       "      <td>high</td>\n",
       "      <td>Some clouds in the morning will give way to ma...</td>\n",
       "    </tr>\n",
       "    <tr>\n",
       "      <th>8</th>\n",
       "      <td>2022-03-16</td>\n",
       "      <td>Wed 16</td>\n",
       "      <td>48</td>\n",
       "      <td>low</td>\n",
       "      <td>Partly cloudy skies early will become overcast...</td>\n",
       "    </tr>\n",
       "    <tr>\n",
       "      <th>9</th>\n",
       "      <td>2022-03-17</td>\n",
       "      <td>Thu 17</td>\n",
       "      <td>61</td>\n",
       "      <td>high</td>\n",
       "      <td>Morning clouds will give way to sunshine for t...</td>\n",
       "    </tr>\n",
       "  </tbody>\n",
       "</table>\n",
       "</div>"
      ],
      "text/plain": [
       "         date weekday  temp_degree temp_state  \\\n",
       "0  2022-03-12  Sat 12           49        low   \n",
       "1  2022-03-13  Sun 13           57       high   \n",
       "2  2022-03-13  Sun 13           44        low   \n",
       "3  2022-03-14  Mon 14           61       high   \n",
       "4  2022-03-14  Mon 14           53        low   \n",
       "5  2022-03-15  Tue 15           59       high   \n",
       "6  2022-03-15  Tue 15           46        low   \n",
       "7  2022-03-16  Wed 16           62       high   \n",
       "8  2022-03-16  Wed 16           48        low   \n",
       "9  2022-03-17  Thu 17           61       high   \n",
       "\n",
       "                                         description  \n",
       "0  Cloudy with a few showers. Low 49F. Winds SW a...  \n",
       "1  Cloudy early with partial sunshine expected la...  \n",
       "2  Partly cloudy early with increasing clouds ove...  \n",
       "3  Partly cloudy skies. High 61F. Winds SW at 10 ...  \n",
       "4  Showers early becoming a steady light rain lat...  \n",
       "5  Showers in the morning, then cloudy in the aft...  \n",
       "6  Partly cloudy. Low 46F. Winds WNW at 10 to 15 ...  \n",
       "7  Some clouds in the morning will give way to ma...  \n",
       "8  Partly cloudy skies early will become overcast...  \n",
       "9  Morning clouds will give way to sunshine for t...  "
      ]
     },
     "execution_count": 50,
     "metadata": {},
     "output_type": "execute_result"
    }
   ],
   "source": [
    "# Reorder column positions and final overview for check\n",
    "\n",
    "data = data.reindex(columns= ['date', 'weekday', 'temp_degree', 'temp_state','description'])\n",
    "\n",
    "data.head(10)"
   ]
  }
 ],
 "metadata": {
  "interpreter": {
   "hash": "db4d94f7962dcc818ea238f62a69636fa41bd28f5daf8a9f9234f6ae986cf5d4"
  },
  "kernelspec": {
   "display_name": "Python 3.8.12 ('strive')",
   "language": "python",
   "name": "python3"
  },
  "language_info": {
   "codemirror_mode": {
    "name": "ipython",
    "version": 3
   },
   "file_extension": ".py",
   "mimetype": "text/x-python",
   "name": "python",
   "nbconvert_exporter": "python",
   "pygments_lexer": "ipython3",
   "version": "3.8.12"
  },
  "orig_nbformat": 4
 },
 "nbformat": 4,
 "nbformat_minor": 2
}
