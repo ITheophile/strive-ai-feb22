{
 "cells": [
  {
   "cell_type": "code",
   "execution_count": null,
   "metadata": {},
   "outputs": [],
   "source": [
    "from time import time"
   ]
  },
  {
   "cell_type": "markdown",
   "metadata": {},
   "source": [
    "The Fibonacci sequence is a sequence of numbers that starts with 1, followed by 1 again. Every next number is the sum of the two previous numbers. I.e., the sequence starts with 1, 1, 2, 3, 5, 8, 13, 21,... Write a function that calculates and prints the Fibonacci sequence until the numbers get higher than a maximum"
   ]
  },
  {
   "cell_type": "code",
   "execution_count": 22,
   "metadata": {},
   "outputs": [
    {
     "name": "stdout",
     "output_type": "stream",
     "text": [
      "[1, 1, 2, 3, 5, 8, 13, 21]\n"
     ]
    }
   ],
   "source": [
    "def fibonacci(maximum):\n",
    "    \"\"\"\n",
    "    Calculate and print the fibonacci sequence up to a given maximum\n",
    "    \"\"\"\n",
    "    fib = [1, 1]\n",
    "    while fib[-1] < maximum:\n",
    "        next_item = fib[-2] + fib[-1]  # add the last 2 elements in the fib list\n",
    "        fib.append(next_item)\n",
    "    \n",
    "    # remove the last element (> maximum) that was appended in the last loop\n",
    "    fib.pop() \n",
    "\n",
    "    print(fib) \n",
    "\n",
    "\n",
    "\n",
    "# Test\n",
    "fibonacci(22)"
   ]
  },
  {
   "cell_type": "code",
   "execution_count": 21,
   "metadata": {},
   "outputs": [],
   "source": [
    "# Not working yet\n",
    "\n",
    "def fibonacci2(n):\n",
    "\n",
    "    if n == 0:\n",
    "        return 1\n",
    "    elif n == 1:\n",
    "        return 1\n",
    "        \n",
    "    return fibonacci2(n - 2) + fibonacci2(n - 1)\n",
    "\n",
    "\n",
    "\n",
    "# fibonacci2(22)"
   ]
  }
 ],
 "metadata": {
  "interpreter": {
   "hash": "db4d94f7962dcc818ea238f62a69636fa41bd28f5daf8a9f9234f6ae986cf5d4"
  },
  "kernelspec": {
   "display_name": "Python 3.8.12 ('strive')",
   "language": "python",
   "name": "python3"
  },
  "language_info": {
   "codemirror_mode": {
    "name": "ipython",
    "version": 3
   },
   "file_extension": ".py",
   "mimetype": "text/x-python",
   "name": "python",
   "nbconvert_exporter": "python",
   "pygments_lexer": "ipython3",
   "version": "3.8.12"
  },
  "orig_nbformat": 4
 },
 "nbformat": 4,
 "nbformat_minor": 2
}
