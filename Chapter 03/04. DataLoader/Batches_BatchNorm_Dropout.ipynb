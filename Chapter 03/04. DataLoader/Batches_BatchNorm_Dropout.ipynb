{
 "cells": [
  {
   "cell_type": "markdown",
   "metadata": {},
   "source": [
    "### Batches, Batch Normalization and Dropout\n",
    "\n",
    "In this workbook you can experiment what you learnt about how to make batches out of your data, how to perform batch normalization and dropout"
   ]
  },
  {
   "cell_type": "code",
   "execution_count": 105,
   "metadata": {},
   "outputs": [],
   "source": [
    "import numpy as np\n",
    "import pandas as pd\n",
    "import matplotlib.pyplot as plt\n",
    "from sklearn.metrics import accuracy_score\n",
    "from tqdm import tqdm\n",
    "import torch\n",
    "import torch.nn as nn \n",
    "import torch.nn.functional as F\n",
    "import torch.optim as optim\n"
   ]
  },
  {
   "cell_type": "markdown",
   "metadata": {},
   "source": [
    "Load the data from data/batches_norm_drop.csv, then take a look at them."
   ]
  },
  {
   "cell_type": "code",
   "execution_count": 4,
   "metadata": {},
   "outputs": [
    {
     "data": {
      "text/html": [
       "<div>\n",
       "<style scoped>\n",
       "    .dataframe tbody tr th:only-of-type {\n",
       "        vertical-align: middle;\n",
       "    }\n",
       "\n",
       "    .dataframe tbody tr th {\n",
       "        vertical-align: top;\n",
       "    }\n",
       "\n",
       "    .dataframe thead th {\n",
       "        text-align: right;\n",
       "    }\n",
       "</style>\n",
       "<table border=\"1\" class=\"dataframe\">\n",
       "  <thead>\n",
       "    <tr style=\"text-align: right;\">\n",
       "      <th></th>\n",
       "      <th>0</th>\n",
       "      <th>1</th>\n",
       "      <th>2</th>\n",
       "    </tr>\n",
       "  </thead>\n",
       "  <tbody>\n",
       "    <tr>\n",
       "      <th>0</th>\n",
       "      <td>0.350140</td>\n",
       "      <td>4.248592</td>\n",
       "      <td>0</td>\n",
       "    </tr>\n",
       "    <tr>\n",
       "      <th>1</th>\n",
       "      <td>0.950728</td>\n",
       "      <td>3.528855</td>\n",
       "      <td>0</td>\n",
       "    </tr>\n",
       "    <tr>\n",
       "      <th>2</th>\n",
       "      <td>1.371517</td>\n",
       "      <td>3.149416</td>\n",
       "      <td>0</td>\n",
       "    </tr>\n",
       "    <tr>\n",
       "      <th>3</th>\n",
       "      <td>0.268221</td>\n",
       "      <td>4.337209</td>\n",
       "      <td>0</td>\n",
       "    </tr>\n",
       "    <tr>\n",
       "      <th>4</th>\n",
       "      <td>1.881996</td>\n",
       "      <td>1.515387</td>\n",
       "      <td>0</td>\n",
       "    </tr>\n",
       "  </tbody>\n",
       "</table>\n",
       "</div>"
      ],
      "text/plain": [
       "          0         1  2\n",
       "0  0.350140  4.248592  0\n",
       "1  0.950728  3.528855  0\n",
       "2  1.371517  3.149416  0\n",
       "3  0.268221  4.337209  0\n",
       "4  1.881996  1.515387  0"
      ]
     },
     "execution_count": 4,
     "metadata": {},
     "output_type": "execute_result"
    }
   ],
   "source": [
    "# YOUR CODE HERE\n",
    "data = pd.read_csv('data/batches_norm_drop.csv', header=None)\n",
    "data.head()"
   ]
  },
  {
   "cell_type": "code",
   "execution_count": 135,
   "metadata": {},
   "outputs": [
    {
     "data": {
      "text/plain": [
       "0    250\n",
       "1    250\n",
       "2    250\n",
       "Name: 2, dtype: int64"
      ]
     },
     "execution_count": 135,
     "metadata": {},
     "output_type": "execute_result"
    }
   ],
   "source": [
    "data[2].value_counts()"
   ]
  },
  {
   "cell_type": "markdown",
   "metadata": {},
   "source": [
    "Now you are ready to code your own function to create batches. If needed rewatch the video we provided in Eduflow.\n",
    "\n",
    "**Extra challange:**    Are you able to split between train and test _**without**_ using sklearn?"
   ]
  },
  {
   "cell_type": "code",
   "execution_count": 5,
   "metadata": {},
   "outputs": [
    {
     "data": {
      "text/plain": [
       "((600, 3), (150, 3))"
      ]
     },
     "execution_count": 5,
     "metadata": {},
     "output_type": "execute_result"
    }
   ],
   "source": [
    "def train_test_split(data, testsize = 0.2):\n",
    "    data  = data.copy()\n",
    "    idx = list(data.index)\n",
    "    np.random.shuffle(idx) # inplace transformation\n",
    "    test_idx = idx[:int(len(idx) * testsize)]\n",
    "    train_idx = idx[int(len(idx) * testsize):]\n",
    "    \n",
    "    return data.iloc[train_idx], data.iloc[test_idx]\n",
    "\n",
    "\n",
    "\n",
    "\n",
    "train_set, test_set = train_test_split(data)\n",
    "train_set.shape, test_set.shape"
   ]
  },
  {
   "cell_type": "code",
   "execution_count": 6,
   "metadata": {},
   "outputs": [],
   "source": [
    "x_train, y_train = train_set.drop(2, axis=1), train_set[2]\n",
    "\n",
    "x_test, y_test = test_set.drop(2, axis=1), test_set[2]"
   ]
  },
  {
   "cell_type": "code",
   "execution_count": 141,
   "metadata": {},
   "outputs": [
    {
     "data": {
      "text/plain": [
       "(torch.Size([37, 16, 2]), torch.Size([9, 16, 2]))"
      ]
     },
     "execution_count": 141,
     "metadata": {},
     "output_type": "execute_result"
    }
   ],
   "source": [
    "def batchify(x, y, batch_size):\n",
    "    x, y = x.values, y.values\n",
    "\n",
    "    n_batches = x.shape[0] // batch_size\n",
    "    idx = np.random.permutation(x.shape[0])\n",
    "    x, y = x[idx], y[idx]\n",
    "    x = x[: batch_size*n_batches].reshape(n_batches, batch_size, x.shape[1])\n",
    "    y = y[: batch_size*n_batches].reshape(n_batches, batch_size)\n",
    "\n",
    "    return torch.from_numpy(x).type(torch.float), torch.from_numpy(y).type(torch.long)\n",
    "\n",
    "\n",
    "\n",
    "\n",
    "x_train_batches, y_train_batches = batchify(x_train, y_train, 16)\n",
    "x_test_batches, y_test_batches = batchify(x_test, y_test, 16)\n",
    "\n",
    "\n",
    "x_train_batches.shape, x_test_batches.shape"
   ]
  },
  {
   "cell_type": "markdown",
   "metadata": {},
   "source": [
    "It's time to create your model! Remember to include the new tricks you learnt (batch normalization and dropout)!"
   ]
  },
  {
   "cell_type": "code",
   "execution_count": 144,
   "metadata": {},
   "outputs": [],
   "source": [
    "input_size = x_train.shape[1]\n",
    "hiddensizes = [400, 200, 100]\n",
    "output_size = 3\n",
    "percent_drop = 0.20\n",
    "neuralnet = nn.Sequential(\n",
    "                            nn.Linear(input_size, hiddensizes[0]),\n",
    "                            nn.Dropout(percent_drop), \n",
    "                            nn.BatchNorm1d(hiddensizes[0]), \n",
    "                            nn.ReLU(),\n",
    "\n",
    "                            nn.Linear(hiddensizes[0], hiddensizes[1]), \n",
    "                            nn.Dropout(percent_drop), \n",
    "                            nn.BatchNorm1d(hiddensizes[1]), \n",
    "                            nn.ReLU(),\n",
    "\n",
    "                            nn.Linear(hiddensizes[1], hiddensizes[2]), \n",
    "                            nn.Dropout(percent_drop), \n",
    "                            nn.BatchNorm1d(hiddensizes[2]), \n",
    "                            nn.ReLU(), \n",
    "                            \n",
    "                            nn.Linear(hiddensizes[2], output_size)\n",
    "                        )\n",
    "\n",
    "\n"
   ]
  },
  {
   "cell_type": "markdown",
   "metadata": {},
   "source": [
    "Train your model and evaluate it. **Extra challenge**: try to figure out how you can tell if batch norm and dropout are effective"
   ]
  },
  {
   "cell_type": "code",
   "execution_count": 145,
   "metadata": {},
   "outputs": [
    {
     "name": "stderr",
     "output_type": "stream",
     "text": [
      "100%|██████████| 100/100 [00:23<00:00,  4.19it/s]\n"
     ]
    },
    {
     "data": {
      "image/png": "[encoded data removed]",
      "text/plain": [
       "<Figure size 1080x432 with 2 Axes>"
      ]
     },
     "metadata": {
      "needs_background": "light"
     },
     "output_type": "display_data"
    }
   ],
   "source": [
    "learning_rate = 0.01\n",
    "epochs = 100\n",
    "criterion = nn.CrossEntropyLoss()\n",
    "optimizer = optim.Adam(neuralnet.parameters(), lr=learning_rate)\n",
    "\n",
    "train_losses = []\n",
    "test_losses = []\n",
    "accuracies = []\n",
    "for epoch in tqdm(range(epochs)):\n",
    "\n",
    "    running_loss = 0\n",
    "    # training\n",
    "    for x_train_batch, y_train_batch in zip(x_train_batches, y_train_batches):\n",
    "\n",
    "        optimizer.zero_grad()\n",
    "        # forward pass\n",
    "        logits = neuralnet(x_train_batch)\n",
    "\n",
    "        # loss\n",
    "        train_loss = criterion(logits, y_train_batch)\n",
    "        running_loss += train_loss.item()\n",
    "\n",
    "        # backward pass\n",
    "        train_loss.backward()\n",
    "\n",
    "        optimizer.step()\n",
    "\n",
    "        \n",
    "    # mean loss (all batches losses divided by the total number of batches)\n",
    "    train_losses.append(running_loss/x_train_batches.shape[0])\n",
    "\n",
    "\n",
    "    #validation\n",
    "    neuralnet.eval()\n",
    "    with torch.no_grad():\n",
    "        running_accuracy = 0\n",
    "        running_loss = 0\n",
    "        \n",
    "        for x_test_batch, y_test_batch in zip(x_test_batches, y_test_batches):\n",
    "\n",
    "            # logits\n",
    "            test_logits = neuralnet(x_test_batch)\n",
    "\n",
    "            # predictions\n",
    "            test_preds = torch.argmax(test_logits, dim=1)\n",
    "\n",
    "            \n",
    "            # running accuracy\n",
    "            running_accuracy += accuracy_score(y_test_batch, test_preds)\n",
    "\n",
    "            # loss\n",
    "            test_loss = criterion(test_logits, y_test_batch)\n",
    "            running_loss += test_loss.item()\n",
    "\n",
    "        # mean accuracy for each epoch\n",
    "        accuracies.append(running_accuracy/x_test_batches.shape[0])\n",
    "\n",
    "        # mean loss for each epoch\n",
    "        test_losses.append(running_loss/x_test_batches.shape[0])\n",
    "\n",
    "    neuralnet.train()\n",
    "\n",
    "\n",
    "# Plots\n",
    "x_epochs = list(range(epochs))\n",
    "plt.figure(figsize=(15, 6))\n",
    "plt.subplot(1, 2, 1)\n",
    "plt.plot(x_epochs, train_losses, marker='o', label='train')\n",
    "plt.plot(x_epochs, test_losses, marker='o', label='test')\n",
    "plt.xlabel('Epoch')\n",
    "plt.ylabel('Loss')\n",
    "plt.legend()\n",
    "\n",
    "plt.subplot(1, 2, 2)\n",
    "plt.plot(x_epochs, accuracies, marker='o',\n",
    "         c='red', label='test_accuracy')\n",
    "plt.xlabel('Epoch')\n",
    "plt.ylabel('Accuracy')\n",
    "plt.legend()\n",
    "\n",
    "plt.show()\n",
    "    "
   ]
  }
 ],
 "metadata": {
  "interpreter": {
   "hash": "3080be2b87ff0d857dbfbcaf267fa7c1d85c8462d4345ac96479e3abc9788765"
  },
  "kernelspec": {
   "display_name": "Python 3.9.12 ('envpytorch')",
   "language": "python",
   "name": "python3"
  },
  "language_info": {
   "codemirror_mode": {
    "name": "ipython",
    "version": 3
   },
   "file_extension": ".py",
   "mimetype": "text/x-python",
   "name": "python",
   "nbconvert_exporter": "python",
   "pygments_lexer": "ipython3",
   "version": "3.9.12"
  },
  "orig_nbformat": 4
 },
 "nbformat": 4,
 "nbformat_minor": 2
}
