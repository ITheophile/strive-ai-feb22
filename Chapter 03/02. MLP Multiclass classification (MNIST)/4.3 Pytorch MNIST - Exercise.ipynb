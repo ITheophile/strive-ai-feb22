{
 "cells": [
  {
   "cell_type": "markdown",
   "metadata": {},
   "source": [
    "## Imports"
   ]
  },
  {
   "cell_type": "code",
   "execution_count": 83,
   "metadata": {},
   "outputs": [],
   "source": [
    "%matplotlib inline\n",
    "%config InlineBackend.figure_format = 'retina'\n",
    "\n",
    "from collections import OrderedDict\n",
    "\n",
    "import numpy as np\n",
    "import matplotlib.pyplot as plt\n",
    "import time\n",
    "\n",
    "import torch\n",
    "from torch import nn # for Model building, loss functions, activation functions\n",
    "from torch import optim\n",
    "import torch.nn.functional as F # activations functions\n",
    "\n",
    "from torchvision import datasets, transforms"
   ]
  },
  {
   "cell_type": "markdown",
   "metadata": {},
   "source": [
    "## Auxliary plotting function"
   ]
  },
  {
   "cell_type": "code",
   "execution_count": 84,
   "metadata": {},
   "outputs": [],
   "source": [
    "# https://discuss.pytorch.org/t/view-classify-in-module-helper/30279/6\n",
    "\n",
    "def view_classify(img, ps):\n",
    "\n",
    "    ps = ps.data.numpy().squeeze()\n",
    "\n",
    "    fig, (ax1, ax2) = plt.subplots(figsize=(6,9), ncols=2)\n",
    "    ax1.imshow(img.resize_(1, 28, 28).numpy().squeeze())\n",
    "    ax1.axis('off')\n",
    "    ax2.barh(np.arange(10), ps)\n",
    "    ax2.set_aspect(0.1)\n",
    "    ax2.set_yticks(np.arange(10))\n",
    "    ax2.set_yticklabels(np.arange(10))\n",
    "    ax2.set_title('Class Probability')\n",
    "    ax2.set_xlim(0, 1.1)"
   ]
  },
  {
   "cell_type": "markdown",
   "metadata": {},
   "source": [
    "# Load MNIST Dataset\n",
    "First up, we need to get our dataset. This is provided through the `torchvision` package. The code below will download the MNIST dataset, then create training and test datasets for us. Don't worry too much about the details here, you'll learn more about this later."
   ]
  },
  {
   "cell_type": "code",
   "execution_count": 85,
   "metadata": {},
   "outputs": [],
   "source": [
    "# Define a transform to normalize the data (Preprocessing)\n",
    "transform = transforms.Compose([transforms.ToTensor(), transforms.Normalize((0.5), (0.5)) ])\n",
    "\n",
    "# Download and load the training data\n",
    "trainset    = datasets.MNIST('MNIST_data/', download=True, train=True, transform=transform)\n",
    "trainloader = torch.utils.data.DataLoader(trainset, batch_size=64, shuffle=True)\n",
    "\n",
    "# Download and load the test data\n",
    "testset    = datasets.MNIST('MNIST_data/', download=True, train=False, transform=transform)\n",
    "testloader = torch.utils.data.DataLoader(testset, batch_size=64, shuffle=True)"
   ]
  },
  {
   "cell_type": "code",
   "execution_count": 86,
   "metadata": {},
   "outputs": [],
   "source": [
    "dataiter = iter(trainloader)\n",
    "images, labels = dataiter.next()"
   ]
  },
  {
   "cell_type": "markdown",
   "metadata": {},
   "source": [
    "We have the training data loaded into `trainloader` and we make that an iterator with `iter(trainloader)`. We'd use this to loop through the dataset for training, but here I'm just grabbing the first batch so we can check out the data. We can see below that `images` is just a tensor with size (64, 1, 28, 28). So, 64 images per batch, 1 color channel, and 28x28 images."
   ]
  },
  {
   "cell_type": "code",
   "execution_count": 87,
   "metadata": {},
   "outputs": [
    {
     "data": {
      "image/png": "[encoded data removed]",
      "text/plain": [
       "<Figure size 432x288 with 1 Axes>"
      ]
     },
     "metadata": {
      "image/png": {
       "height": 248,
       "width": 251
      },
      "needs_background": "light"
     },
     "output_type": "display_data"
    }
   ],
   "source": [
    "plt.imshow(images[0].numpy().squeeze(), cmap='Greys_r');"
   ]
  },
  {
   "cell_type": "markdown",
   "metadata": {},
   "source": [
    "## Building networks with PyTorch\n",
    "\n",
    "Here I'll use PyTorch to build a simple feedfoward network to classify the MNIST images. That is, the network will receive a digit image as input and predict the digit in the image.\n",
    "\n",
    "<img src=\"assets/mlp_mnist.png\" width=600px>\n",
    "\n",
    "To build a neural network with PyTorch, you use the `torch.nn` module. The network itself is a class inheriting from `torch.nn.Module`. You define each of the operations separately, like `nn.Linear(784, 128)` for a fully connected linear layer with 784 inputs and 128 units.\n",
    "\n",
    "The class needs to include a `forward` method that implements the forward pass through the network. In this method, you pass some input tensor `x` through each of the operations you defined earlier. The `torch.nn` module also has functional equivalents for things like ReLUs in `torch.nn.functional`. This module is usually imported as `F`. Then to use a ReLU activation on some layer (which is just a tensor), you'd do `F.relu(x)`. Below are a few different commonly used activation functions.\n",
    "\n",
    "<img src=\"assets/activation.png\" width=700px>\n",
    "\n",
    "So, for this network, I'll build it with three fully connected layers, then a softmax output for predicting classes. The softmax function is similar to the sigmoid in that it squashes inputs between 0 and 1, but it's also normalized so that all the values sum to one like a proper probability distribution."
   ]
  },
  {
   "cell_type": "code",
   "execution_count": 88,
   "metadata": {},
   "outputs": [
    {
     "data": {
      "text/plain": [
       "Network(\n",
       "  (fc1): Linear(in_features=784, out_features=128, bias=True)\n",
       "  (fc2): Linear(in_features=128, out_features=64, bias=True)\n",
       "  (fc3): Linear(in_features=64, out_features=10, bias=True)\n",
       ")"
      ]
     },
     "execution_count": 88,
     "metadata": {},
     "output_type": "execute_result"
    }
   ],
   "source": [
    "class Network(nn.Module):\n",
    "    \n",
    "    # Defining the layers, 128, 64, 10 units each\n",
    "    def __init__(self):\n",
    "        super().__init__()\n",
    "        self.fc1 = nn.Linear(784, 128)\n",
    "        self.fc2 = nn.Linear(128, 64)\n",
    "        self.fc3 = nn.Linear(64, 10)\n",
    "        \n",
    "    # Forward pass through the network, returns the output logits\n",
    "    def forward(self, x):\n",
    "        x = self.fc1(x)\n",
    "        x = F.relu(x)\n",
    "        x = self.fc2(x)\n",
    "        x = F.relu(x)\n",
    "        x = self.fc3(x)\n",
    "        x = F.softmax(x, dim=1)\n",
    "        return x\n",
    "\n",
    "model = Network()\n",
    "model"
   ]
  },
  {
   "cell_type": "markdown",
   "metadata": {},
   "source": [
    "### Sequential API\n",
    "PyTorch provides a convenient way to build networks like this where a tensor is passed sequentially through operations, `nn.Sequential` ([documentation](https://pytorch.org/docs/master/nn.html#torch.nn.Sequential)). Using this to build the equivalent network:"
   ]
  },
  {
   "cell_type": "code",
   "execution_count": 89,
   "metadata": {},
   "outputs": [
    {
     "name": "stdout",
     "output_type": "stream",
     "text": [
      "Sequential(\n",
      "  (0): Linear(in_features=784, out_features=128, bias=True)\n",
      "  (1): ReLU()\n",
      "  (2): Linear(in_features=128, out_features=64, bias=True)\n",
      "  (3): ReLU()\n",
      "  (4): Linear(in_features=64, out_features=10, bias=True)\n",
      "  (5): Softmax(dim=1)\n",
      ")\n"
     ]
    }
   ],
   "source": [
    "# Hyperparameters for our network\n",
    "input_size   = 784\n",
    "hidden_sizes = [128, 64]\n",
    "output_size   = 10\n",
    "\n",
    "# Build a feed-forward network\n",
    "model = nn.Sequential(nn.Linear(input_size, hidden_sizes[0]),\n",
    "                      nn.ReLU(),\n",
    "                      nn.Linear(hidden_sizes[0], hidden_sizes[1]),\n",
    "                      nn.ReLU(),\n",
    "                      nn.Linear(hidden_sizes[1], output_size),\n",
    "                      nn.Softmax(dim=1))\n",
    "print(model)"
   ]
  },
  {
   "cell_type": "markdown",
   "metadata": {},
   "source": [
    "You can also pass in an `OrderedDict` to name the individual layers and operations. Note that a dictionary keys must be unique, so _each operation must have a different name_."
   ]
  },
  {
   "cell_type": "code",
   "execution_count": 90,
   "metadata": {},
   "outputs": [
    {
     "data": {
      "text/plain": [
       "Sequential(\n",
       "  (fc1): Linear(in_features=784, out_features=128, bias=True)\n",
       "  (relu1): ReLU()\n",
       "  (fc2): Linear(in_features=128, out_features=64, bias=True)\n",
       "  (relu2): ReLU()\n",
       "  (output): Linear(in_features=64, out_features=10, bias=True)\n",
       "  (softmax): Softmax(dim=1)\n",
       ")"
      ]
     },
     "execution_count": 90,
     "metadata": {},
     "output_type": "execute_result"
    }
   ],
   "source": [
    "model = nn.Sequential(OrderedDict([\n",
    "          ('fc1',   nn.Linear(input_size, hidden_sizes[0])),\n",
    "          ('relu1', nn.ReLU()),\n",
    "          ('fc2',   nn.Linear(hidden_sizes[0], hidden_sizes[1])),\n",
    "          ('relu2', nn.ReLU()),\n",
    "          ('output', nn.Linear(hidden_sizes[1], output_size)),\n",
    "          ('softmax', nn.Softmax(dim=1))]))\n",
    "model"
   ]
  },
  {
   "cell_type": "markdown",
   "metadata": {},
   "source": [
    "### Initializing weights and biases\n",
    "\n",
    "The weights and such are automatically initialized for you, but it's possible to customize how they are initialized. The weights and biases are tensors attached to the layer you defined, you can get them with `model.fc1.weight` for instance."
   ]
  },
  {
   "cell_type": "code",
   "execution_count": 91,
   "metadata": {},
   "outputs": [
    {
     "name": "stdout",
     "output_type": "stream",
     "text": [
      "Parameter containing:\n",
      "tensor([[-0.0186, -0.0037,  0.0014,  ...,  0.0003,  0.0281, -0.0234],\n",
      "        [-0.0047,  0.0226,  0.0113,  ...,  0.0104, -0.0141, -0.0260],\n",
      "        [-0.0065,  0.0289, -0.0284,  ...,  0.0166, -0.0006,  0.0308],\n",
      "        ...,\n",
      "        [ 0.0079,  0.0352, -0.0157,  ..., -0.0222, -0.0094, -0.0210],\n",
      "        [ 0.0158,  0.0271,  0.0185,  ..., -0.0086, -0.0234,  0.0282],\n",
      "        [ 0.0114,  0.0100,  0.0337,  ..., -0.0153,  0.0322,  0.0224]],\n",
      "       requires_grad=True)\n",
      "Parameter containing:\n",
      "tensor([-0.0317,  0.0062,  0.0130, -0.0199, -0.0055,  0.0150,  0.0306,  0.0061,\n",
      "         0.0326,  0.0242,  0.0043,  0.0270,  0.0162, -0.0054,  0.0019,  0.0293,\n",
      "        -0.0333,  0.0119, -0.0009, -0.0186,  0.0074,  0.0068,  0.0267, -0.0044,\n",
      "        -0.0104, -0.0010,  0.0348,  0.0282, -0.0025,  0.0246, -0.0007, -0.0183,\n",
      "         0.0254, -0.0008,  0.0096, -0.0221, -0.0092, -0.0273, -0.0321,  0.0267,\n",
      "        -0.0351,  0.0013, -0.0226, -0.0326,  0.0240, -0.0136,  0.0164,  0.0303,\n",
      "         0.0084,  0.0033, -0.0014, -0.0028, -0.0182,  0.0122, -0.0067, -0.0106,\n",
      "         0.0173,  0.0351,  0.0149, -0.0307,  0.0151, -0.0094, -0.0104, -0.0274,\n",
      "         0.0293,  0.0104, -0.0339, -0.0286,  0.0225,  0.0159,  0.0305,  0.0257,\n",
      "        -0.0271, -0.0175, -0.0235, -0.0048,  0.0269, -0.0232,  0.0016,  0.0185,\n",
      "        -0.0044,  0.0018,  0.0339, -0.0110, -0.0278,  0.0219,  0.0137,  0.0046,\n",
      "        -0.0129, -0.0295,  0.0345, -0.0217, -0.0289,  0.0309, -0.0257, -0.0047,\n",
      "        -0.0263,  0.0291,  0.0090,  0.0088, -0.0059, -0.0327, -0.0007, -0.0179,\n",
      "        -0.0060,  0.0017,  0.0313,  0.0095,  0.0278,  0.0227, -0.0349,  0.0087,\n",
      "        -0.0069,  0.0319, -0.0031, -0.0230, -0.0090, -0.0089,  0.0220, -0.0352,\n",
      "        -0.0183,  0.0022, -0.0255,  0.0077, -0.0216, -0.0017,  0.0145, -0.0098],\n",
      "       requires_grad=True)\n"
     ]
    }
   ],
   "source": [
    "print(model.fc1.weight)\n",
    "print(model.fc1.bias)"
   ]
  },
  {
   "cell_type": "markdown",
   "metadata": {},
   "source": [
    "For custom initialization, we want to modify these tensors in place. These are actually autograd *Variables*, so we need to get back the actual tensors with `model.fc1.weight.data`. Once we have the tensors, we can fill them with zeros (for biases) or random normal values."
   ]
  },
  {
   "cell_type": "code",
   "execution_count": 92,
   "metadata": {},
   "outputs": [
    {
     "data": {
      "text/plain": [
       "tensor([0., 0., 0., 0., 0., 0., 0., 0., 0., 0., 0., 0., 0., 0., 0., 0., 0., 0., 0., 0., 0., 0., 0., 0.,\n",
       "        0., 0., 0., 0., 0., 0., 0., 0., 0., 0., 0., 0., 0., 0., 0., 0., 0., 0., 0., 0., 0., 0., 0., 0.,\n",
       "        0., 0., 0., 0., 0., 0., 0., 0., 0., 0., 0., 0., 0., 0., 0., 0., 0., 0., 0., 0., 0., 0., 0., 0.,\n",
       "        0., 0., 0., 0., 0., 0., 0., 0., 0., 0., 0., 0., 0., 0., 0., 0., 0., 0., 0., 0., 0., 0., 0., 0.,\n",
       "        0., 0., 0., 0., 0., 0., 0., 0., 0., 0., 0., 0., 0., 0., 0., 0., 0., 0., 0., 0., 0., 0., 0., 0.,\n",
       "        0., 0., 0., 0., 0., 0., 0., 0.])"
      ]
     },
     "execution_count": 92,
     "metadata": {},
     "output_type": "execute_result"
    }
   ],
   "source": [
    "# Set biases to all zeros\n",
    "model.fc1.bias.data.fill_(0)"
   ]
  },
  {
   "cell_type": "code",
   "execution_count": 93,
   "metadata": {},
   "outputs": [
    {
     "data": {
      "text/plain": [
       "tensor([[-1.6921e-03,  8.2262e-05, -8.3231e-03,  ..., -4.0471e-03,\n",
       "          4.9516e-03, -2.6036e-03],\n",
       "        [-3.1055e-03, -7.3742e-03, -4.5987e-03,  ..., -3.4338e-03,\n",
       "         -1.8198e-02,  3.3130e-03],\n",
       "        [-2.6346e-03, -1.7878e-02,  1.8966e-02,  ...,  1.5563e-02,\n",
       "         -2.5668e-03, -1.9649e-02],\n",
       "        ...,\n",
       "        [-5.1738e-03,  4.7488e-03,  5.5330e-03,  ..., -8.0147e-03,\n",
       "          1.8254e-03,  3.2652e-03],\n",
       "        [ 1.0646e-02, -1.3358e-02, -1.7543e-02,  ..., -6.2288e-03,\n",
       "          1.2758e-02, -1.4827e-03],\n",
       "        [-1.0138e-02,  3.1060e-03, -4.0338e-03,  ...,  1.1126e-02,\n",
       "          6.6376e-03, -3.1359e-03]])"
      ]
     },
     "execution_count": 93,
     "metadata": {},
     "output_type": "execute_result"
    }
   ],
   "source": [
    "# sample from random normal with standard dev = 0.01\n",
    "model.fc1.weight.data.normal_(std=0.01)"
   ]
  },
  {
   "cell_type": "markdown",
   "metadata": {},
   "source": [
    "### STEP 1: Forward pass\n",
    "\n",
    "Now that we have a network, let's see what happens when we pass in an image. This is called the forward pass. We're going to convert the image data into a tensor, then pass it through the operations defined by the network architecture."
   ]
  },
  {
   "cell_type": "code",
   "execution_count": 94,
   "metadata": {},
   "outputs": [
    {
     "data": {
      "image/png": "[encoded data removed]",
      "text/plain": [
       "<Figure size 432x648 with 2 Axes>"
      ]
     },
     "metadata": {
      "image/png": {
       "height": 195,
       "width": 349
      },
      "needs_background": "light"
     },
     "output_type": "display_data"
    }
   ],
   "source": [
    "# Grab some data \n",
    "dataiter = iter(trainloader)\n",
    "images, labels = dataiter.next()\n",
    "\n",
    "# Resize images into a 1D vector, new shape is (batch size, color channels, image pixels) \n",
    "images.resize_(64, 1, 784)\n",
    "# or images.resize_(images.shape[0], 1, 784) to not automatically get batch size\n",
    "\n",
    "# Forward pass through the network\n",
    "img_idx = 0\n",
    "ps = model.forward(images[img_idx,:])\n",
    "\n",
    "img = images[img_idx]\n",
    "view_classify(img.view(1, 28, 28), ps)"
   ]
  },
  {
   "cell_type": "markdown",
   "metadata": {},
   "source": [
    "As you can see above, our network has basically no idea what this digit is. It's because we haven't trained it yet, all the weights are random!"
   ]
  },
  {
   "cell_type": "markdown",
   "metadata": {},
   "source": [
    "# Training Neural Networks\n",
    "\n",
    "The network we built isn't so smart, it doesn't know anything about our handwritten digits. Neural networks with non-linear activations work like universal function approximators. There is some function that maps your input to the output. For example, images of handwritten digits to class probabilities. The power of neural networks is that we can train them to approximate this function, and basically any function given enough data and compute time.\n",
    "\n",
    "<img src=\"assets/function_approx.png\" width=500px>\n",
    "\n",
    "At first the network is naive, it doesn't know the function mapping the inputs to the outputs. We train the network by showing it examples of real data, then adjusting the network parameters such that it approximates this function.\n",
    "\n",
    "To find these parameters, we need to know how poorly the network is predicting the real outputs. For this we calculate a **loss function** (also called the cost), a measure of our prediction error. For example, the mean squared loss is often used in regression and binary classification problems\n",
    "\n",
    "$$\n",
    "\\ell = \\frac{1}{2n}\\sum_i^n{\\left(y_i - \\hat{y}_i\\right)^2}\n",
    "$$\n",
    "\n",
    "where $n$ is the number of training examples, $y_i$ are the true labels, and $\\hat{y}_i$ are the predicted labels.\n",
    "\n",
    "By minimizing this loss with respect to the network parameters, we can find configurations where the loss is at a minimum and the network is able to predict the correct labels with high accuracy. We find this minimum using a process called **gradient descent**. The gradient is the slope of the loss function and points in the direction of fastest change. To get to the minimum in the least amount of time, we then want to follow the gradient (downwards). You can think of this like descending a mountain by following the steepest slope to the base.\n",
    "\n",
    "<img src='assets/gradient_descent.png' width=350px>"
   ]
  },
  {
   "cell_type": "markdown",
   "metadata": {},
   "source": [
    "## Backpropagation\n",
    "\n",
    "For single layer networks, gradient descent is simple to implement. However, it's more complicated for deeper, multilayer neural networks like the one we've built. Complicated enough that it took about 30 years before researchers figured out how to train multilayer networks, although it's straightforward once you learn about it. \n",
    "\n",
    "This is done through **backpropagation** which is really just an application of the chain rule from calculus. It's easiest to understand if we convert a two layer network into a graph representation.\n",
    "\n",
    "<img src='assets/w1_backprop_graph.png' width=400px>\n",
    "\n",
    "In the forward pass through the network, our data and operations go from right to left here. To train the weights with gradient descent, we propagate the gradient of the cost backwards through the network. Mathematically, this is really just calculating the gradient of the loss with respect to the weights using the chain rule.\n",
    "\n",
    "$$\n",
    "\\frac{\\partial \\ell}{\\partial w_1} = \\frac{\\partial l_1}{\\partial w_1} \\frac{\\partial s}{\\partial l_1} \\frac{\\partial l_2}{\\partial s} \\frac{\\partial \\ell}{\\partial l_2}\n",
    "$$\n",
    "\n",
    "We update our weights using this gradient with some learning rate $\\alpha$. \n",
    "\n",
    "$$\n",
    "w^\\prime = w - \\alpha \\frac{\\partial \\ell}{\\partial w}\n",
    "$$\n",
    "\n",
    "The learning rate is set such that the weight update steps are small enough that the iterative method settles in a minimum.\n",
    "\n",
    "The first thing we need to do for training is define our loss function. In PyTorch, you'll usually see this as `criterion`. Here we're using softmax output, so we want to use `criterion = nn.CrossEntropyLoss()` as our loss. Later when training, you use `loss = criterion(output, targets)` to calculate the actual loss.\n",
    "\n",
    "We also need to define the optimizer we're using, SGD or Adam, or something along those lines. Here I'll just use SGD with `torch.optim.SGD`, passing in the network parameters and the learning rate."
   ]
  },
  {
   "cell_type": "markdown",
   "metadata": {},
   "source": [
    "## Autograd\n",
    "\n",
    "Torch provides a module, `autograd`, for automatically calculating the gradient of tensors. It does this by keeping track of operations performed on tensors. To make sure PyTorch keeps track of operations on a tensor and calculates the gradients, you need to set `requires_grad` on a tensor. You can do this at creation with the `requires_grad` keyword, or at any time with `x.requires_grad_(True)`.\n",
    "\n",
    "You can turn off gradients for a block of code with the `torch.no_grad()` content:\n",
    "```python\n",
    "x = torch.zeros(1, requires_grad=True)\n",
    ">>> with torch.no_grad():\n",
    "...     y = x * 2\n",
    ">>> y.requires_grad\n",
    "False\n",
    "```\n",
    "\n",
    "Also, you can turn on or off gradients altogether with `torch.set_grad_enabled(True|False)`.\n",
    "\n",
    "The gradients are computed with respect to some variable `z` with `z.backward()`. This does a backward pass through the operations that created `z`."
   ]
  },
  {
   "cell_type": "code",
   "execution_count": 95,
   "metadata": {},
   "outputs": [
    {
     "name": "stdout",
     "output_type": "stream",
     "text": [
      "tensor([[-0.2018, -0.1819],\n",
      "        [ 1.1219,  1.4242]], requires_grad=True)\n"
     ]
    }
   ],
   "source": [
    "x = torch.randn(2,2, requires_grad=True)\n",
    "print(x)"
   ]
  },
  {
   "cell_type": "code",
   "execution_count": 96,
   "metadata": {},
   "outputs": [
    {
     "name": "stdout",
     "output_type": "stream",
     "text": [
      "tensor([[0.0407, 0.0331],\n",
      "        [1.2587, 2.0283]], grad_fn=<PowBackward0>)\n"
     ]
    }
   ],
   "source": [
    "y = x**2\n",
    "print(y)"
   ]
  },
  {
   "cell_type": "markdown",
   "metadata": {},
   "source": [
    "Below we can see the operation that created `y`, a power operation `PowBackward0`."
   ]
  },
  {
   "cell_type": "code",
   "execution_count": 97,
   "metadata": {},
   "outputs": [
    {
     "name": "stdout",
     "output_type": "stream",
     "text": [
      "<PowBackward0 object at 0x00000229E8661460>\n"
     ]
    }
   ],
   "source": [
    "## grad_fn shows the function that generated this variable\n",
    "print(y.grad_fn)"
   ]
  },
  {
   "cell_type": "markdown",
   "metadata": {},
   "source": [
    "The autgrad module keeps track of these operations and knows how to calculate the gradient for each one. In this way, it's able to calculate the gradients for a chain of operations, with respect to any one tensor. Let's reduce the tensor `y` to a scalar value, the mean."
   ]
  },
  {
   "cell_type": "code",
   "execution_count": 98,
   "metadata": {},
   "outputs": [
    {
     "name": "stdout",
     "output_type": "stream",
     "text": [
      "tensor(0.8402, grad_fn=<MeanBackward0>)\n"
     ]
    }
   ],
   "source": [
    "z = y.mean()\n",
    "print(z)"
   ]
  },
  {
   "cell_type": "markdown",
   "metadata": {},
   "source": [
    "You can check the gradients for `x` and `y` but they are empty currently."
   ]
  },
  {
   "cell_type": "code",
   "execution_count": 99,
   "metadata": {},
   "outputs": [
    {
     "name": "stdout",
     "output_type": "stream",
     "text": [
      "None\n"
     ]
    }
   ],
   "source": [
    "print(x.grad)"
   ]
  },
  {
   "cell_type": "markdown",
   "metadata": {},
   "source": [
    "To calculate the gradients, you need to run the `.backward` method on a Variable, `z` for example. This will calculate the gradient for `z` with respect to `x`\n",
    "\n",
    "$$\n",
    "\\frac{\\partial z}{\\partial x} = \\frac{\\partial}{\\partial x}\\left[\\frac{1}{n}\\sum_i^n x_i^2\\right] = \\frac{x}{2}\n",
    "$$"
   ]
  },
  {
   "cell_type": "code",
   "execution_count": 100,
   "metadata": {},
   "outputs": [
    {
     "name": "stdout",
     "output_type": "stream",
     "text": [
      "tensor([[-0.1009, -0.0910],\n",
      "        [ 0.5610,  0.7121]])\n",
      "tensor([[-0.1009, -0.0910],\n",
      "        [ 0.5610,  0.7121]], grad_fn=<DivBackward0>)\n"
     ]
    }
   ],
   "source": [
    "z.backward()\n",
    "print(x.grad)\n",
    "print(x/2)"
   ]
  },
  {
   "cell_type": "markdown",
   "metadata": {},
   "source": [
    "These gradients calculations are particularly useful for neural networks. For training we need the gradients of the weights with respect to the cost. With PyTorch, we run data forward through the network to calculate the cost, then, go backwards to calculate the gradients with respect to the cost. Once we have the gradients we can make a gradient descent step. "
   ]
  },
  {
   "cell_type": "markdown",
   "metadata": {},
   "source": [
    "I'll build a network with `nn.Sequential` here. Only difference from the last part is I'm not actually using softmax on the output, but instead just using the raw output from the last layer. This is because the output from softmax is a probability distribution. Often, the output will have values really close to zero or really close to one. Due to [inaccuracies with representing numbers as floating points](https://docs.python.org/3/tutorial/floatingpoint.html), computations with a softmax output can lose accuracy and become unstable. To get around this, we'll use the raw output, called the **logits**, to calculate the loss."
   ]
  },
  {
   "cell_type": "code",
   "execution_count": 101,
   "metadata": {},
   "outputs": [],
   "source": [
    "# Hyperparameters for our network\n",
    "input_size   = 784\n",
    "hidden_sizes = [128, 64]\n",
    "output_size  = 10\n",
    "\n",
    "# Build a feed-forward network\n",
    "model = nn.Sequential(OrderedDict([\n",
    "          ('fc1', nn.Linear(input_size, hidden_sizes[0])),\n",
    "          ('relu1', nn.ReLU()),\n",
    "          ('fc2', nn.Linear(hidden_sizes[0], hidden_sizes[1])),\n",
    "          ('relu2', nn.ReLU()),\n",
    "          ('logits', nn.Linear(hidden_sizes[1], output_size))]))"
   ]
  },
  {
   "cell_type": "markdown",
   "metadata": {},
   "source": [
    "## Training the network!\n",
    "\n",
    "The first thing we need to do for training is define our loss function. In PyTorch, you'll usually see this as `criterion`. Here we're using softmax output, so we want to use `criterion = nn.CrossEntropyLoss()` as our loss. Later when training, you use `loss = criterion(output, targets)` to calculate the actual loss.\n",
    "\n",
    "We also need to define the optimizer we're using, SGD or Adam, or something along those lines. Here I'll just use SGD with `torch.optim.SGD`, passing in the network parameters and the learning rate."
   ]
  },
  {
   "cell_type": "code",
   "execution_count": 102,
   "metadata": {},
   "outputs": [],
   "source": [
    "criterion = nn.CrossEntropyLoss()\n",
    "optimizer = optim.SGD(model.parameters(), lr=0.01)"
   ]
  },
  {
   "cell_type": "markdown",
   "metadata": {},
   "source": [
    "First, let's consider just one learning step before looping through all the data. The general process with PyTorch:\n",
    "\n",
    "* Make a forward pass through the network to get the logits \n",
    "* Use the logits to calculate the loss\n",
    "* Perform a backward pass through the network with `loss.backward()` to calculate the gradients\n",
    "* Take a step with the optimizer to update the weights\n",
    "\n",
    "Below I'll go through one training step and print out the weights and gradients so you can see how it changes."
   ]
  },
  {
   "cell_type": "code",
   "execution_count": 103,
   "metadata": {},
   "outputs": [
    {
     "name": "stdout",
     "output_type": "stream",
     "text": [
      "Initial weights -  Parameter containing:\n",
      "tensor([[-0.0048, -0.0195,  0.0354,  ..., -0.0049,  0.0040,  0.0124],\n",
      "        [ 0.0267, -0.0090,  0.0188,  ..., -0.0248,  0.0200,  0.0345],\n",
      "        [ 0.0197, -0.0248,  0.0212,  ...,  0.0293,  0.0318,  0.0046],\n",
      "        ...,\n",
      "        [-0.0118, -0.0061, -0.0197,  ...,  0.0053, -0.0177,  0.0150],\n",
      "        [-0.0034, -0.0330, -0.0356,  ...,  0.0238,  0.0040,  0.0059],\n",
      "        [-0.0034, -0.0231,  0.0140,  ...,  0.0171, -0.0315,  0.0183]],\n",
      "       requires_grad=True)\n",
      "Gradient - tensor([[-0.0017, -0.0017, -0.0017,  ..., -0.0017, -0.0017, -0.0017],\n",
      "        [ 0.0006,  0.0006,  0.0006,  ...,  0.0006,  0.0006,  0.0006],\n",
      "        [-0.0017, -0.0017, -0.0017,  ..., -0.0017, -0.0017, -0.0017],\n",
      "        ...,\n",
      "        [-0.0034, -0.0034, -0.0034,  ..., -0.0034, -0.0034, -0.0034],\n",
      "        [ 0.0004,  0.0004,  0.0004,  ...,  0.0004,  0.0004,  0.0004],\n",
      "        [-0.0014, -0.0014, -0.0014,  ..., -0.0014, -0.0014, -0.0014]])\n"
     ]
    }
   ],
   "source": [
    "print('Initial weights - ', model.fc1.weight)\n",
    "\n",
    "images, labels = next(iter(trainloader))\n",
    "images.resize_(64, 784)\n",
    "\n",
    "# Clear the gradients, do this because gradients are accumulated\n",
    "optimizer.zero_grad()\n",
    "\n",
    "# Forward pass, then backward pass, then update weights\n",
    "output = model.forward(images)\n",
    "loss = criterion(output, labels)\n",
    "loss.backward()\n",
    "print('Gradient -', model.fc1.weight.grad)\n",
    "optimizer.step()"
   ]
  },
  {
   "cell_type": "code",
   "execution_count": 104,
   "metadata": {},
   "outputs": [
    {
     "name": "stdout",
     "output_type": "stream",
     "text": [
      "Updated weights -  Parameter containing:\n",
      "tensor([[-0.0048, -0.0195,  0.0354,  ..., -0.0049,  0.0040,  0.0124],\n",
      "        [ 0.0267, -0.0090,  0.0187,  ..., -0.0248,  0.0200,  0.0345],\n",
      "        [ 0.0197, -0.0248,  0.0213,  ...,  0.0294,  0.0318,  0.0046],\n",
      "        ...,\n",
      "        [-0.0118, -0.0061, -0.0197,  ...,  0.0054, -0.0176,  0.0150],\n",
      "        [-0.0034, -0.0330, -0.0356,  ...,  0.0238,  0.0040,  0.0059],\n",
      "        [-0.0034, -0.0231,  0.0140,  ...,  0.0171, -0.0314,  0.0183]],\n",
      "       requires_grad=True)\n"
     ]
    }
   ],
   "source": [
    "print('Updated weights - ', model.fc1.weight)"
   ]
  },
  {
   "cell_type": "markdown",
   "metadata": {},
   "source": [
    "### Training for real\n",
    "\n",
    "Now we'll put this algorithm into a loop so we can go through all the images. This is fairly straightforward. We'll loop through the mini-batches in our dataset, pass the data through the network to calculate the losses, get the gradients, then run the optimizer."
   ]
  },
  {
   "cell_type": "code",
   "execution_count": 105,
   "metadata": {},
   "outputs": [],
   "source": [
    "optimizer = optim.SGD(model.parameters(), lr=0.003)"
   ]
  },
  {
   "cell_type": "code",
   "execution_count": 106,
   "metadata": {},
   "outputs": [
    {
     "name": "stdout",
     "output_type": "stream",
     "text": [
      "Epoch: 1/3\n",
      "\tIteration: 0\t Loss: 0.0580\n",
      "\tIteration: 40\t Loss: 2.2854\n",
      "\tIteration: 80\t Loss: 2.2580\n",
      "\tIteration: 120\t Loss: 2.2361\n",
      "\tIteration: 160\t Loss: 2.2065\n",
      "\tIteration: 200\t Loss: 2.1784\n",
      "\tIteration: 240\t Loss: 2.1469\n",
      "\tIteration: 280\t Loss: 2.1200\n",
      "\tIteration: 320\t Loss: 2.0792\n",
      "\tIteration: 360\t Loss: 2.0288\n",
      "\tIteration: 400\t Loss: 1.9875\n",
      "\tIteration: 440\t Loss: 1.9360\n",
      "\tIteration: 480\t Loss: 1.8877\n",
      "\tIteration: 520\t Loss: 1.8110\n",
      "\tIteration: 560\t Loss: 1.7591\n",
      "\tIteration: 600\t Loss: 1.6997\n",
      "\tIteration: 640\t Loss: 1.6496\n",
      "\tIteration: 680\t Loss: 1.5570\n",
      "\tIteration: 720\t Loss: 1.5056\n",
      "\tIteration: 760\t Loss: 1.4091\n",
      "\tIteration: 800\t Loss: 1.3749\n",
      "\tIteration: 840\t Loss: 1.3046\n",
      "\tIteration: 880\t Loss: 1.2652\n",
      "\tIteration: 920\t Loss: 1.1705\n",
      "Epoch: 2/3\n",
      "\tIteration: 0\t Loss: 0.0283\n",
      "\tIteration: 40\t Loss: 1.0967\n",
      "\tIteration: 80\t Loss: 1.0734\n",
      "\tIteration: 120\t Loss: 1.0303\n",
      "\tIteration: 160\t Loss: 0.9995\n",
      "\tIteration: 200\t Loss: 0.9453\n",
      "\tIteration: 240\t Loss: 0.9063\n",
      "\tIteration: 280\t Loss: 0.8807\n",
      "\tIteration: 320\t Loss: 0.8395\n",
      "\tIteration: 360\t Loss: 0.8365\n",
      "\tIteration: 400\t Loss: 0.8135\n",
      "\tIteration: 440\t Loss: 0.7557\n",
      "\tIteration: 480\t Loss: 0.7529\n",
      "\tIteration: 520\t Loss: 0.7502\n",
      "\tIteration: 560\t Loss: 0.7208\n",
      "\tIteration: 600\t Loss: 0.6995\n",
      "\tIteration: 640\t Loss: 0.7036\n",
      "\tIteration: 680\t Loss: 0.6924\n",
      "\tIteration: 720\t Loss: 0.6560\n",
      "\tIteration: 760\t Loss: 0.6551\n",
      "\tIteration: 800\t Loss: 0.6243\n",
      "\tIteration: 840\t Loss: 0.6184\n",
      "\tIteration: 880\t Loss: 0.6007\n",
      "\tIteration: 920\t Loss: 0.6137\n",
      "Epoch: 3/3\n",
      "\tIteration: 0\t Loss: 0.0168\n",
      "\tIteration: 40\t Loss: 0.5658\n",
      "\tIteration: 80\t Loss: 0.5541\n",
      "\tIteration: 120\t Loss: 0.5456\n",
      "\tIteration: 160\t Loss: 0.5787\n",
      "\tIteration: 200\t Loss: 0.5631\n",
      "\tIteration: 240\t Loss: 0.5673\n",
      "\tIteration: 280\t Loss: 0.5235\n",
      "\tIteration: 320\t Loss: 0.5117\n",
      "\tIteration: 360\t Loss: 0.5149\n",
      "\tIteration: 400\t Loss: 0.5241\n",
      "\tIteration: 440\t Loss: 0.5175\n",
      "\tIteration: 480\t Loss: 0.4748\n",
      "\tIteration: 520\t Loss: 0.5185\n",
      "\tIteration: 560\t Loss: 0.5048\n",
      "\tIteration: 600\t Loss: 0.5002\n",
      "\tIteration: 640\t Loss: 0.4890\n",
      "\tIteration: 680\t Loss: 0.4848\n",
      "\tIteration: 720\t Loss: 0.4755\n",
      "\tIteration: 760\t Loss: 0.4498\n",
      "\tIteration: 800\t Loss: 0.4821\n",
      "\tIteration: 840\t Loss: 0.4691\n",
      "\tIteration: 880\t Loss: 0.4853\n",
      "\tIteration: 920\t Loss: 0.4590\n"
     ]
    }
   ],
   "source": [
    "epochs = 3\n",
    "print_every = 40\n",
    "\n",
    "for e in range(epochs):\n",
    "    running_loss = 0\n",
    "    print(f\"Epoch: {e+1}/{epochs}\")\n",
    "\n",
    "    for i, (images, labels) in enumerate(iter(trainloader)):\n",
    "\n",
    "        # Flatten MNIST images into a 784 long vector\n",
    "        images.resize_(images.size()[0], 784)\n",
    "        \n",
    "        optimizer.zero_grad()\n",
    "        \n",
    "        output = model.forward(images)   # 1) Forward pass\n",
    "        loss = criterion(output, labels) # 2) Compute loss\n",
    "        loss.backward()                  # 3) Backward pass\n",
    "        optimizer.step()                 # 4) Update model\n",
    "        \n",
    "        running_loss += loss.item()\n",
    "        \n",
    "        if i % print_every == 0:\n",
    "            print(f\"\\tIteration: {i}\\t Loss: {running_loss/print_every:.4f}\")\n",
    "            running_loss = 0"
   ]
  },
  {
   "cell_type": "markdown",
   "metadata": {},
   "source": [
    "With the network trained, we can check out it's predictions."
   ]
  },
  {
   "cell_type": "code",
   "execution_count": 107,
   "metadata": {},
   "outputs": [
    {
     "data": {
      "image/png": "[encoded data removed]",
      "text/plain": [
       "<Figure size 432x648 with 2 Axes>"
      ]
     },
     "metadata": {
      "image/png": {
       "height": 195,
       "width": 349
      },
      "needs_background": "light"
     },
     "output_type": "display_data"
    }
   ],
   "source": [
    "images, labels = next(iter(trainloader))\n",
    "\n",
    "img = images[0].view(1, 784)\n",
    "# Turn off gradients to speed up this part\n",
    "with torch.no_grad():\n",
    "    logits = model.forward(img)\n",
    "\n",
    "# Output of the network are logits, need to take softmax for probabilities\n",
    "ps = F.softmax(logits, dim=1)\n",
    "view_classify(img.view(1, 28, 28), ps)"
   ]
  },
  {
   "cell_type": "markdown",
   "metadata": {},
   "source": [
    "Now our network is brilliant. It can accurately predict the digits in our images."
   ]
  },
  {
   "cell_type": "markdown",
   "metadata": {},
   "source": [
    "<div style=\"background:#222222; color:#ffffff; padding:20px\">\n",
    "    <h2 align=\"center\" style=\"color:#01ff84\">MNIST Clasification: Exercise</h2>\n",
    "<div>"
   ]
  },
  {
   "cell_type": "markdown",
   "metadata": {},
   "source": [
    "<div style=\"background:#222222; color:#ffffff; padding:20px\">\n",
    "  <h3 style=\"color:#01ff84; margin-top:4px\">Exercise 1:</h3>\n",
    "  <p>Now it's your turn to build a simple network, use any method I've covered so far. In the next notebook, you'll learn how to train a network so it can make good predictions.</p>\n",
    "  <p>Build a network to classify the MNIST images with 3 hidden layers. Use 400 units in the first hidden layer, 200 units in the second layer, and 100 units in the third layer. Each hidden layer should have a ReLU activation function, and use softmax on the output layer.</p>\n",
    "<div>"
   ]
  },
  {
   "cell_type": "code",
   "execution_count": 217,
   "metadata": {},
   "outputs": [],
   "source": [
    "## TODO: Your network here\n",
    "\n",
    "n_features = 28*28\n",
    "hidden_sizes = [400, 200, 100]\n",
    "output_size = 10\n",
    "neuralnet = nn.Sequential(\n",
    "                            nn.Linear(n_features,hidden_sizes[0]), # 1st hidden layer\n",
    "                            nn.ReLU(), \n",
    "                            nn.Linear(hidden_sizes[0], hidden_sizes[1]), # 2nd hidden layer\n",
    "                            nn.ReLU(), \n",
    "                            nn.Linear(hidden_sizes[1], hidden_sizes[2]), # 3rd hidden layer\n",
    "                            nn.ReLU(),\n",
    "                            nn.Linear(hidden_sizes[2], output_size), # output layer\n",
    "                            # nn.LogSoftmax(dim=1)                      \n",
    "                            )\n"
   ]
  },
  {
   "cell_type": "code",
   "execution_count": 218,
   "metadata": {},
   "outputs": [
    {
     "data": {
      "image/png": "[encoded data removed]",
      "text/plain": [
       "<Figure size 432x648 with 2 Axes>"
      ]
     },
     "metadata": {
      "image/png": {
       "height": 195,
       "width": 349
      },
      "needs_background": "light"
     },
     "output_type": "display_data"
    }
   ],
   "source": [
    "# Run this cell with your model to make sure it works\n",
    "# Forward pass through the network and display output\n",
    "images, labels = next(iter(trainloader))\n",
    "images.resize_(images.shape[0], 1, 784)\n",
    "ps = F.softmax(neuralnet.forward(images[0,:]), dim=1)\n",
    "view_classify(images[0].view(1, 28, 28), ps)"
   ]
  },
  {
   "cell_type": "markdown",
   "metadata": {},
   "source": [
    "<div style=\"background:#222222; color:#ffffff; padding:20px\">\n",
    "  <h3 style=\"color:#01ff84; margin-top:4px\">Exercise 2:</h3>\n",
    "  <p>Train your network implementing the Pytorch training loop and <strong style=\"color:#01ff84\">after each epoch, use the model for predicting the test (validation) MNIST data.</strong></p>\n",
    "  <p>Note: If your model does not fit with the final softmax layer, you can remove this layer.</p>\n",
    "  <p>Hint: <a href=\"https://discuss.pytorch.org/t/training-loop-checking-validation-accuracy/78399\">Training loop checking validation accuracy\n",
    "</a></p>\n",
    "  <p>Research about <code>model.train()</code>, <code>model.eval()</code> and <code>with torch.no_grad()</code> in Pytorch.\n",
    "<div>"
   ]
  },
  {
   "cell_type": "code",
   "execution_count": 216,
   "metadata": {},
   "outputs": [],
   "source": [
    "\n",
    "# with torch.no_grad():\n",
    "#     for i, (images, labels) in enumerate(testloader):\n",
    "#         # resize to 2D tensor\n",
    "#         images.resize_(images.size()[0], 784)\n",
    "\n",
    "#         # predictions\n",
    "#         probs = F.softmax(neuralnet(images), dim=1)\n",
    "        \n",
    "#         preds = probs.argmax(dim=1)\n",
    "\n",
    "#         acc = (preds == labels).sum() / len(labels) * 100\n",
    "\n",
    "#         accuracies.append(acc)\n",
    "\n",
    "#     plt.plot(list(range(len(testloader))), accuracies)\n",
    "#     plt.axhline(np.array(accuracies).mean(), c = 'r')\n",
    "#     plt.title('Val accuracy after epoch')\n",
    "\n",
    "\n",
    "        \n"
   ]
  },
  {
   "cell_type": "code",
   "execution_count": 222,
   "metadata": {},
   "outputs": [
    {
     "name": "stdout",
     "output_type": "stream",
     "text": [
      "Epoch: 1/6\n",
      "\tIteration: 0\t Loss: 0.0037\n",
      "\tIteration: 40\t Loss: 0.2332\n",
      "\tIteration: 80\t Loss: 0.2480\n",
      "\tIteration: 120\t Loss: 0.3097\n",
      "\tIteration: 160\t Loss: 0.2666\n",
      "\tIteration: 200\t Loss: 0.2542\n",
      "\tIteration: 240\t Loss: 0.2553\n",
      "\tIteration: 280\t Loss: 0.2445\n",
      "\tIteration: 320\t Loss: 0.2218\n",
      "\tIteration: 360\t Loss: 0.2429\n",
      "\tIteration: 400\t Loss: 0.2534\n",
      "\tIteration: 440\t Loss: 0.2398\n",
      "\tIteration: 480\t Loss: 0.2508\n",
      "\tIteration: 520\t Loss: 0.2318\n",
      "\tIteration: 560\t Loss: 0.2350\n",
      "\tIteration: 600\t Loss: 0.2101\n",
      "\tIteration: 640\t Loss: 0.1834\n",
      "\tIteration: 680\t Loss: 0.3186\n",
      "\tIteration: 720\t Loss: 0.2904\n",
      "\tIteration: 760\t Loss: 0.2223\n",
      "\tIteration: 800\t Loss: 0.3667\n",
      "\tIteration: 840\t Loss: 0.5597\n",
      "\tIteration: 880\t Loss: 0.3113\n",
      "\tIteration: 920\t Loss: 0.2106\n",
      "mean validation accuracy = 93.60071563720703 after Epoch 1\n",
      "Epoch: 2/6\n",
      "\tIteration: 0\t Loss: 0.0045\n",
      "\tIteration: 40\t Loss: 0.2103\n",
      "\tIteration: 80\t Loss: 0.2011\n",
      "\tIteration: 120\t Loss: 0.2189\n",
      "\tIteration: 160\t Loss: 0.2289\n",
      "\tIteration: 200\t Loss: 0.2034\n",
      "\tIteration: 240\t Loss: 0.1913\n",
      "\tIteration: 280\t Loss: 0.1940\n",
      "\tIteration: 320\t Loss: 0.1866\n",
      "\tIteration: 360\t Loss: 0.1954\n",
      "\tIteration: 400\t Loss: 0.2131\n",
      "\tIteration: 440\t Loss: 0.2351\n",
      "\tIteration: 480\t Loss: 0.2042\n",
      "\tIteration: 520\t Loss: 0.2350\n",
      "\tIteration: 560\t Loss: 0.2090\n",
      "\tIteration: 600\t Loss: 0.1945\n",
      "\tIteration: 640\t Loss: 0.1784\n",
      "\tIteration: 680\t Loss: 0.2049\n",
      "\tIteration: 720\t Loss: 0.2264\n",
      "\tIteration: 760\t Loss: 0.2022\n",
      "\tIteration: 800\t Loss: 0.1916\n",
      "\tIteration: 840\t Loss: 0.1758\n",
      "\tIteration: 880\t Loss: 0.2670\n",
      "\tIteration: 920\t Loss: 0.1975\n",
      "mean validation accuracy = 94.91441345214844 after Epoch 2\n",
      "Epoch: 3/6\n",
      "\tIteration: 0\t Loss: 0.0079\n",
      "\tIteration: 40\t Loss: 0.1968\n",
      "\tIteration: 80\t Loss: 0.2052\n",
      "\tIteration: 120\t Loss: 0.1834\n",
      "\tIteration: 160\t Loss: 0.2139\n",
      "\tIteration: 200\t Loss: 0.2003\n",
      "\tIteration: 240\t Loss: 0.1972\n",
      "\tIteration: 280\t Loss: 0.2272\n",
      "\tIteration: 320\t Loss: 0.1841\n",
      "\tIteration: 360\t Loss: 0.1865\n",
      "\tIteration: 400\t Loss: 0.1949\n",
      "\tIteration: 440\t Loss: 0.2493\n",
      "\tIteration: 480\t Loss: 0.1814\n",
      "\tIteration: 520\t Loss: 0.2258\n",
      "\tIteration: 560\t Loss: 0.2130\n",
      "\tIteration: 600\t Loss: 0.2089\n",
      "\tIteration: 640\t Loss: 0.1663\n",
      "\tIteration: 680\t Loss: 0.1924\n",
      "\tIteration: 720\t Loss: 0.2690\n",
      "\tIteration: 760\t Loss: 0.2155\n",
      "\tIteration: 800\t Loss: 0.2387\n",
      "\tIteration: 840\t Loss: 0.2301\n",
      "\tIteration: 880\t Loss: 0.1940\n",
      "\tIteration: 920\t Loss: 0.2029\n",
      "mean validation accuracy = 94.04856872558594 after Epoch 3\n",
      "Epoch: 4/6\n",
      "\tIteration: 0\t Loss: 0.0053\n",
      "\tIteration: 40\t Loss: 0.2329\n",
      "\tIteration: 80\t Loss: 0.2161\n",
      "\tIteration: 120\t Loss: 0.2017\n",
      "\tIteration: 160\t Loss: 0.2374\n",
      "\tIteration: 200\t Loss: 0.2091\n",
      "\tIteration: 240\t Loss: 0.2183\n",
      "\tIteration: 280\t Loss: 0.1860\n",
      "\tIteration: 320\t Loss: 0.1649\n",
      "\tIteration: 360\t Loss: 0.1998\n",
      "\tIteration: 400\t Loss: 0.2146\n",
      "\tIteration: 440\t Loss: 0.2126\n",
      "\tIteration: 480\t Loss: 0.1844\n",
      "\tIteration: 520\t Loss: 0.1851\n",
      "\tIteration: 560\t Loss: 0.2315\n",
      "\tIteration: 600\t Loss: 0.2048\n",
      "\tIteration: 640\t Loss: 0.2031\n",
      "\tIteration: 680\t Loss: 0.2177\n",
      "\tIteration: 720\t Loss: 0.2046\n",
      "\tIteration: 760\t Loss: 0.2203\n",
      "\tIteration: 800\t Loss: 0.2617\n",
      "\tIteration: 840\t Loss: 0.2301\n",
      "\tIteration: 880\t Loss: 0.1965\n",
      "\tIteration: 920\t Loss: 0.2333\n",
      "mean validation accuracy = 94.52627563476562 after Epoch 4\n",
      "Epoch: 5/6\n",
      "\tIteration: 0\t Loss: 0.0065\n",
      "\tIteration: 40\t Loss: 0.2281\n",
      "\tIteration: 80\t Loss: 0.2167\n",
      "\tIteration: 120\t Loss: 0.1687\n",
      "\tIteration: 160\t Loss: 0.1695\n",
      "\tIteration: 200\t Loss: 0.2118\n",
      "\tIteration: 240\t Loss: 0.1721\n",
      "\tIteration: 280\t Loss: 0.2140\n",
      "\tIteration: 320\t Loss: 0.2412\n",
      "\tIteration: 360\t Loss: 0.2015\n",
      "\tIteration: 400\t Loss: 0.2680\n",
      "\tIteration: 440\t Loss: 0.2246\n",
      "\tIteration: 480\t Loss: 0.1926\n",
      "\tIteration: 520\t Loss: 0.1787\n",
      "\tIteration: 560\t Loss: 0.2847\n",
      "\tIteration: 600\t Loss: 0.2441\n",
      "\tIteration: 640\t Loss: 0.2559\n",
      "\tIteration: 680\t Loss: 0.2245\n",
      "\tIteration: 720\t Loss: 0.2349\n",
      "\tIteration: 760\t Loss: 0.2094\n",
      "\tIteration: 800\t Loss: 0.2496\n",
      "\tIteration: 840\t Loss: 0.2452\n",
      "\tIteration: 880\t Loss: 0.2039\n",
      "\tIteration: 920\t Loss: 0.2143\n",
      "mean validation accuracy = 94.15804290771484 after Epoch 5\n",
      "Epoch: 6/6\n",
      "\tIteration: 0\t Loss: 0.0051\n",
      "\tIteration: 40\t Loss: 0.1938\n",
      "\tIteration: 80\t Loss: 0.2407\n",
      "\tIteration: 120\t Loss: 0.2172\n",
      "\tIteration: 160\t Loss: 0.4019\n",
      "\tIteration: 200\t Loss: 0.2329\n",
      "\tIteration: 240\t Loss: 0.2258\n",
      "\tIteration: 280\t Loss: 0.2138\n",
      "\tIteration: 320\t Loss: 0.1995\n",
      "\tIteration: 360\t Loss: 0.1983\n",
      "\tIteration: 400\t Loss: 0.2060\n",
      "\tIteration: 440\t Loss: 0.2055\n",
      "\tIteration: 480\t Loss: 0.1931\n",
      "\tIteration: 520\t Loss: 0.1990\n",
      "\tIteration: 560\t Loss: 0.1842\n",
      "\tIteration: 600\t Loss: 0.1743\n",
      "\tIteration: 640\t Loss: 0.2175\n",
      "\tIteration: 680\t Loss: 0.2137\n",
      "\tIteration: 720\t Loss: 0.1818\n",
      "\tIteration: 760\t Loss: 0.2649\n",
      "\tIteration: 800\t Loss: 0.2414\n",
      "\tIteration: 840\t Loss: 0.2066\n",
      "\tIteration: 880\t Loss: 0.2107\n",
      "\tIteration: 920\t Loss: 0.2053\n",
      "mean validation accuracy = 92.04817199707031 after Epoch 6\n"
     ]
    }
   ],
   "source": [
    "## TODO: Your training loop here\n",
    "learning_rate = 0.01\n",
    "optimizer = optim.Adam(neuralnet.parameters(), lr= learning_rate)\n",
    "epochs = 6\n",
    "print_every = 40\n",
    "# accuracies_dict = {}\n",
    "criterion = nn.CrossEntropyLoss()\n",
    "train_losses = []\n",
    "val_losses = []\n",
    "# criterion = nn.NLLLoss()\n",
    "for epoch in range(epochs):\n",
    "    running_loss = 0\n",
    "    print(f\"Epoch: {epoch+1}/{epochs}\")\n",
    "\n",
    "    for i, (images, labels) in enumerate(iter(trainloader)):\n",
    "\n",
    "        # 2D Tensor\n",
    "        images.resize_(images.size()[0], 784)\n",
    "        \n",
    "        optimizer.zero_grad()\n",
    "        \n",
    "        output = neuralnet.forward(images)\n",
    "        loss = criterion(output, labels) \n",
    "        loss.backward()                  \n",
    "        optimizer.step()                \n",
    "        \n",
    "        running_loss += loss.item()\n",
    "        \n",
    "        if i % print_every == 0:\n",
    "            print(f\"\\tIteration: {i}\\t Loss: {running_loss/print_every:.4f}\")\n",
    "            running_loss = 0\n",
    "\n",
    "\n",
    "    # validation\n",
    "    neuralnet.eval()\n",
    "    accuracies = []\n",
    "    with torch.no_grad():\n",
    "        for i, (images, labels) in enumerate(testloader):\n",
    "            # resize to 2D tensor\n",
    "            images.resize_(images.size()[0], 784)\n",
    "\n",
    "            # predictions\n",
    "            # probs = F.softmax(neuralnet(images), dim=1)\n",
    "            probs = neuralnet(images)\n",
    "            \n",
    "            preds = probs.argmax(dim=1)\n",
    "\n",
    "            acc = (preds == labels).sum() / len(labels) * 100\n",
    "\n",
    "            # if epoch not in accuracies_dict:\n",
    "            #     accuracies_dict[epoch] = []\n",
    "            #     accuracies_dict[epoch].append(acc)\n",
    "            \n",
    "            # else:\n",
    "            #     accuracies_dict[epoch].append(acc)\n",
    "\n",
    "            accuracies.append(acc)\n",
    "    print(f'mean validation accuracy = {np.array(accuracies).mean()} after Epoch {epoch+1}')\n",
    "    \n",
    "    neuralnet.train()\n"
   ]
  },
  {
   "cell_type": "code",
   "execution_count": 186,
   "metadata": {},
   "outputs": [
    {
     "data": {
      "text/plain": [
       "157"
      ]
     },
     "execution_count": 186,
     "metadata": {},
     "output_type": "execute_result"
    }
   ],
   "source": [
    "len(list(accuracies_dict.values())[0])"
   ]
  },
  {
   "cell_type": "code",
   "execution_count": 210,
   "metadata": {},
   "outputs": [
    {
     "data": {
      "image/png": "[encoded data removed]",
      "text/plain": [
       "<Figure size 432x648 with 2 Axes>"
      ]
     },
     "metadata": {
      "image/png": {
       "height": 195,
       "width": 349
      },
      "needs_background": "light"
     },
     "output_type": "display_data"
    }
   ],
   "source": [
    "# Run this cell with your model to make sure it works and predicts well for the validation data\n",
    "images, labels = next(iter(testloader))\n",
    "images.resize_(images.shape[0], 1, 784)\n",
    "ps = F.softmax(neuralnet.forward(images[0,:]), dim=1)\n",
    "view_classify(images[0].view(1, 28, 28), ps)"
   ]
  },
  {
   "cell_type": "markdown",
   "metadata": {},
   "source": [
    "<div style=\"background:#222222; color:#ffffff; padding:20px\">\n",
    "  <h3 style=\"color:#01ff84; margin-top:4px\">Exercise 3:</h3>\n",
    "  <p>Write the code for adding <strong style=\"color:#01ff84\">Early Stopping with patience = 2</strong> to the training loop from scratch.</p>\n",
    "  <p><strong style=\"color:#01ff84\">Hint:</strong> Monitor the Validation loss every epoch, and if in 2 epochs, the validation loss does not improve, stop the training loop with <code>break</code>.</p>\n",
    "<div>"
   ]
  },
  {
   "cell_type": "code",
   "execution_count": null,
   "metadata": {},
   "outputs": [],
   "source": [
    "## TODO: Your training loop here"
   ]
  }
 ],
 "metadata": {
  "interpreter": {
   "hash": "3080be2b87ff0d857dbfbcaf267fa7c1d85c8462d4345ac96479e3abc9788765"
  },
  "kernelspec": {
   "display_name": "Python 3.9.12 ('envpytorch')",
   "language": "python",
   "name": "python3"
  },
  "language_info": {
   "codemirror_mode": {
    "name": "ipython",
    "version": 3
   },
   "file_extension": ".py",
   "mimetype": "text/x-python",
   "name": "python",
   "nbconvert_exporter": "python",
   "pygments_lexer": "ipython3",
   "version": "3.9.12"
  }
 },
 "nbformat": 4,
 "nbformat_minor": 2
}
