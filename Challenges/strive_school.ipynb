{
 "cells": [
  {
   "cell_type": "code",
   "execution_count": 26,
   "metadata": {},
   "outputs": [],
   "source": [
    "def strive_school(list_of_numbers):\n",
    "    \"\"\"\n",
    "    Given a list of numbers, return a list containing the following:\n",
    "    * Strive if the number is divisible by 3\n",
    "    * School if the number is divisible by 5\n",
    "    * Strive School if the number is divisible by 3 and 5\n",
    "    * the number itself otherwise.\n",
    "\n",
    "    \"\"\"\n",
    "\n",
    "    output_list = []\n",
    "    \n",
    "    for number in list_of_numbers:\n",
    "\n",
    "        if number % 3 == 0 and number % 5 == 0:\n",
    "            output_list.append(\"Strive School\")\n",
    "            \n",
    "        elif number % 3 == 0:\n",
    "            output_list.append(\"Strive\")\n",
    "\n",
    "        elif number % 5 == 0:\n",
    "            output_list.append(\"School\") \n",
    "\n",
    "\n",
    "        else:\n",
    "            output_list.append(number)\n",
    "\n",
    "    return output_list      "
   ]
  },
  {
   "cell_type": "code",
   "execution_count": 27,
   "metadata": {},
   "outputs": [
    {
     "name": "stdout",
     "output_type": "stream",
     "text": [
      "[1, 2, 'Strive', 'School', 'Strive School']\n"
     ]
    }
   ],
   "source": [
    "# Test\n",
    "number_list = [1, 2, 3, 5, 15]\n",
    "print( strive_school(number_list) )"
   ]
  }
 ],
 "metadata": {
  "interpreter": {
   "hash": "db4d94f7962dcc818ea238f62a69636fa41bd28f5daf8a9f9234f6ae986cf5d4"
  },
  "kernelspec": {
   "display_name": "Python 3.8.12 ('strive')",
   "language": "python",
   "name": "python3"
  },
  "language_info": {
   "codemirror_mode": {
    "name": "ipython",
    "version": 3
   },
   "file_extension": ".py",
   "mimetype": "text/x-python",
   "name": "python",
   "nbconvert_exporter": "python",
   "pygments_lexer": "ipython3",
   "version": "3.8.12"
  },
  "orig_nbformat": 4
 },
 "nbformat": 4,
 "nbformat_minor": 2
}
