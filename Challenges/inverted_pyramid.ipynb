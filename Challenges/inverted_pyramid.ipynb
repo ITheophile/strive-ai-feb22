    "    for i in range(number + 1):\n",
