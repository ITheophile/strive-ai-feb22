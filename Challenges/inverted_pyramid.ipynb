{
 "cells": [
  {
   "cell_type": "code",
   "execution_count": 49,
   "metadata": {},
   "outputs": [],
   "source": [
    "def inverted_pyramid(number):\n",
    "    \"\"\"\n",
    "    draw an inverted pyramid , whose height depends on the input number\n",
    "    \"\"\"\n",
    "    for i in range(1, number + 1):\n",
    "\n",
    "        # increase hashs throughout the loop\n",
    "        hashs = i * \"#\"\n",
    "\n",
    "        # decrease space throughout the loop\n",
    "        space = ( (number + 1) - i ) * \" \"\n",
    "        print( \"{}{}\".format(space,hashs) )"
   ]
  },
  {
   "cell_type": "code",
   "execution_count": 50,
   "metadata": {},
   "outputs": [
    {
     "name": "stdout",
     "output_type": "stream",
     "text": [
      "          #\n",
      "         ##\n",
      "        ###\n",
      "       ####\n",
      "      #####\n",
      "     ######\n",
      "    #######\n",
      "   ########\n",
      "  #########\n",
      " ##########\n"
     ]
    }
   ],
   "source": [
    "# Test\n",
    "inverted_pyramid(10)"
   ]
  }
 ],
 "metadata": {
  "interpreter": {
   "hash": "db4d94f7962dcc818ea238f62a69636fa41bd28f5daf8a9f9234f6ae986cf5d4"
  },
  "kernelspec": {
   "display_name": "Python 3.8.12 ('strive')",
   "language": "python",
   "name": "python3"
  },
  "language_info": {
   "codemirror_mode": {
    "name": "ipython",
    "version": 3
   },
   "file_extension": ".py",
   "mimetype": "text/x-python",
   "name": "python",
   "nbconvert_exporter": "python",
   "pygments_lexer": "ipython3",
   "version": "3.8.12"
  },
  "orig_nbformat": 4
 },
 "nbformat": 4,
 "nbformat_minor": 2
}
