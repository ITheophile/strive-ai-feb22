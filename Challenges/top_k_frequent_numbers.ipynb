{
 "cells": [
  {
   "cell_type": "code",
   "execution_count": 42,
   "metadata": {},
   "outputs": [],
   "source": [
    "# Calculate frequencies\n",
    "\n",
    "def counts(list_of_numbers):\n",
    "    \"\"\"\n",
    "    given a list of numbers, return dictionary of those numbers with their counts\n",
    "    \"\"\"\n",
    "    counts_dict = {}\n",
    "    \n",
    "    for number in list_of_numbers:\n",
    "        if number in counts_dict:\n",
    "            counts_dict[number] += 1\n",
    "        else:\n",
    "            counts_dict[number] = 1\n",
    "    \n",
    "    return counts_dict\n",
    "\n",
    "\n",
    "\n",
    "# Top k frequents\n",
    "\n",
    "def topKNumbers(list_of_numbers, k):\n",
    "    \"\"\"\n",
    "    given a list of numbers, return the top k most frequent numbers\n",
    "    \"\"\"\n",
    "    \n",
    "    # dictionary of numbers frequencies\n",
    "    freq_dict = counts(list_of_numbers)\n",
    "    \n",
    "    # flipping number:count pairs to count:number\n",
    "    flipped_pairs = []\n",
    "    \n",
    "    for number, count in freq_dict.items():\n",
    "        flipped_pairs.append((count,number))\n",
    "\n",
    "    # sorting on first element (count) in the tuple, from highest to lowest counts\n",
    "    sorted_flipped_pairs = sorted(flipped_pairs, reverse = True)\n",
    "\n",
    "    # extracting corresponding k most frequent numbers\n",
    "    sorted_numbers = []\n",
    "    for i in range(k):\n",
    "        number  = sorted_flipped_pairs[i][1]\n",
    "        sorted_numbers.append(number)\n",
    "       \n",
    "    \n",
    "    return sorted(sorted_numbers)\n"
   ]
  },
  {
   "cell_type": "code",
   "execution_count": 43,
   "metadata": {},
   "outputs": [
    {
     "name": "stdout",
     "output_type": "stream",
     "text": [
      "[1, 4, 5]\n"
     ]
    }
   ],
   "source": [
    "# Test\n",
    "k = 3\n",
    "a_list = [1,1,2,3,4,4,4,4,1,5,5,5,3,5,5]\n",
    "\n",
    "print(topKNumbers(a_list, k))"
   ]
  }
 ],
 "metadata": {
  "kernelspec": {
   "display_name": "Python 3",
   "language": "python",
   "name": "python3"
  },
  "language_info": {
   "codemirror_mode": {
    "name": "ipython",
    "version": 3
   },
   "file_extension": ".py",
   "mimetype": "text/x-python",
   "name": "python",
   "nbconvert_exporter": "python",
   "pygments_lexer": "ipython3",
   "version": "3.8.12"
  }
 },
 "nbformat": 4,
 "nbformat_minor": 4
}
