{
 "cells": [
  {
   "cell_type": "code",
   "execution_count": 26,
   "metadata": {},
   "outputs": [],
   "source": [
    "# Helper function to compute frequencies\n",
    "\n",
    "def counts(list_of_numbers):\n",
    "    \"\"\"\n",
    "    given a list of numbers, return a dictionary of those numbers with their counts\n",
    "    \"\"\"\n",
    "    counts_dict = {}\n",
    "    \n",
    "    for number in list_of_numbers:\n",
    "        if number in counts_dict:\n",
    "            counts_dict[number] += 1\n",
    "        else:\n",
    "            counts_dict[number] = 1\n",
    "    \n",
    "    return counts_dict\n",
    "\n",
    "\n",
    "\n",
    "# Version 1: Spot the non duplicated number\n",
    "\n",
    "def non_duplicated(list_of_numbers):\n",
    "    \"\"\"\n",
    "    Given a list of numbers, find and output the non duplicated number (i.e. with frequency == 1)\n",
    "    \"\"\"\n",
    "\n",
    "    # frequencies\n",
    "    counts_dict = counts(list_of_numbers)\n",
    "\n",
    "    # check which number has count == 1\n",
    "    non_duplicated_number = None\n",
    "\n",
    "    for number in counts_dict:\n",
    "\n",
    "        if counts_dict[number] == 1:\n",
    "            non_duplicated_number =  number\n",
    "\n",
    "    return non_duplicated_number\n",
    "\n",
    "\n",
    "\n",
    "\n",
    "# Version 2: Spot ALL the non duplicated numbers\n",
    "\n",
    "def non_duplicated2(list_of_numbers):\n",
    "    \"\"\"\n",
    "    Given a list of numbers, find and output in a list all the non duplicated numbers (i.e. with frequency == 1).\n",
    "    If all numbers are duplicated, an empty list is returned\n",
    "    \"\"\"\n",
    "\n",
    "    # frequencies\n",
    "    counts_dict = counts(list_of_numbers)\n",
    "\n",
    "    # check which number has count == 1, if is the case append it to the non_duplicated_numbers list\n",
    "    non_duplicated_numbers = []\n",
    "    for number in counts_dict:\n",
    "\n",
    "        if counts_dict[number] == 1:\n",
    "            non_duplicated_numbers.append(number)\n",
    "\n",
    "    \n",
    "    return non_duplicated_numbers\n"
   ]
  },
  {
   "cell_type": "code",
   "execution_count": 35,
   "metadata": {},
   "outputs": [
    {
     "name": "stdout",
     "output_type": "stream",
     "text": [
      "3\n",
      "1\n",
      "[1, 3]\n"
     ]
    }
   ],
   "source": [
    "# Version1 Test1\n",
    "list1 = [1, 1, 2, 2, 3, 5, 5, 6, 6]\n",
    "\n",
    "print( non_duplicated(list1) )\n",
    "\n",
    "# Version1 Test2\n",
    "list2 = [1, 2, 2, 3, 3]\n",
    "\n",
    "print( non_duplicated(list2) )\n",
    "\n",
    "# Version2 Test\n",
    "list3 = [1, 2, 2, 3, 5, 5, 6, 6]\n",
    "\n",
    "print( non_duplicated2(list3))"
   ]
  }
 ],
 "metadata": {
  "interpreter": {
   "hash": "db4d94f7962dcc818ea238f62a69636fa41bd28f5daf8a9f9234f6ae986cf5d4"
  },
  "kernelspec": {
   "display_name": "Python 3.8.12 ('strive')",
   "language": "python",
   "name": "python3"
  },
  "language_info": {
   "codemirror_mode": {
    "name": "ipython",
    "version": 3
   },
   "file_extension": ".py",
   "mimetype": "text/x-python",
   "name": "python",
   "nbconvert_exporter": "python",
   "pygments_lexer": "ipython3",
   "version": "3.8.12"
  },
  "orig_nbformat": 4
 },
 "nbformat": 4,
 "nbformat_minor": 2
}
