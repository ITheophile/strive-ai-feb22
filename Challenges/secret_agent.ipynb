{
 "cells": [
  {
   "cell_type": "code",
   "execution_count": 59,
   "metadata": {},
   "outputs": [],
   "source": [
    "# who is secret agent\n",
    "def who_secret_agent(number_of_people, list_of_pairs):\n",
    "    \"\"\"\n",
    "    Take as arguments:\n",
    "    * The total number of people,\n",
    "    * A list of pairs of individuals. Each pair is within its own list or tuple.\n",
    "        The first element in pair has information on the second element.\n",
    "\n",
    "    Return one the following:\n",
    "    * The name of the secret agent, if any. The secret agent has information on everybody, but no one\n",
    "        has information on him/her. Meaning its position in a pair can only be first, never second. \n",
    "    * 0 if there's no secret agent.\n",
    "    * -1, if the number of people is zero or negative;\n",
    "          or the number of pairs is > number of people;\n",
    "          or the number of people in pairs is different from 2\n",
    "          \n",
    "    \"\"\"\n",
    "\n",
    "    # Take care of wrong entries\n",
    "        \n",
    "        # Is there any pair with a number of people different from 2\n",
    "    for pair in list_of_pairs:\n",
    "        if len(pair) != 2:         \n",
    "            return -1 \n",
    "\n",
    "        # Is the number of people zero or negative, or the number of pairs is > number of people\n",
    "    if number_of_people <= 0 or len(list_of_pairs) > number_of_people:\n",
    "        return -1\n",
    "    \n",
    "\n",
    "    # Find the secret agent\n",
    "    else:\n",
    "\n",
    "        # A dictionary containing the names of people that  have information on \n",
    "            # others (i.e. located at the first place in each pair), together with the\n",
    "            # number of people they have information about.\n",
    "\n",
    "        potential_secret_agents = {}\n",
    "\n",
    "        # Number of people to have information about in order to be considered secret agent\n",
    "        info_on_how_many = number_of_people - 1\n",
    "\n",
    "        for pair in list_of_pairs:\n",
    "            first_person_pair = pair[0]\n",
    "\n",
    "            if first_person_pair not in potential_secret_agents:\n",
    "                potential_secret_agents[ first_person_pair ] = 1\n",
    "            else:\n",
    "                potential_secret_agents[ first_person_pair ] += 1\n",
    "\n",
    "        \n",
    "        # Who in 'potential_secret_agents' has information on a number of people equals to 'info_on_how_many'?\n",
    "\n",
    "        for person in potential_secret_agents:\n",
    "            if potential_secret_agents[person] == info_on_how_many:\n",
    "\n",
    "                return person\n",
    "\n",
    "        else:\n",
    "            return 0\n",
    "        \n"
   ]
  },
  {
   "cell_type": "code",
   "execution_count": 60,
   "metadata": {},
   "outputs": [
    {
     "name": "stdout",
     "output_type": "stream",
     "text": [
      "scenario1:  felix\n",
      "scenario2:  lara\n",
      "scenario3:  0\n",
      "scenario4:  -1\n",
      "scenario5:  -1\n",
      "scenario6:  -1\n"
     ]
    }
   ],
   "source": [
    "# Tests\n",
    "scenarios = {\n",
    "    \"scenario1\": [3, [['felix','lara'], ['felix', 'jeno'], ['lara','jeno']] ],                   # felix is secret agent\n",
    "    \"scenario2\": [3, [['felix','jeno'], ['lara','jeno'], ['lara', 'felix']] ],                   # lara is secret agent\n",
    "    \"scenario3\": [3, [['felix','lara'], ['lara','jeno'], ['jeno', 'felix']] ],                   # no secret agent\n",
    "    \"scenario4\": [0, [['felix','jeno'], ['lara','jeno'], ['lara', 'felix']] ],                   # bad entry (number of people)\n",
    "    \"scenario5\": [3, [['felix','jeno'], ['lara','jeno'], ['lara', 'felix', 'peter']] ],          # bad entry (wrong pair > 2)\n",
    "    \"scenario6\": [3, [['felix','jeno'], ['lara','jeno'], ['lara', 'felix'], ['felix','lara']] ], # bad entry (number pairs > number of people)\n",
    "            }\n",
    "\n",
    "for scenario in scenarios:\n",
    "    number_of_people = scenarios[scenario][0]\n",
    "    list_of_pairs = scenarios[scenario][1]\n",
    "    output = who_secret_agent(number_of_people, list_of_pairs)\n",
    "\n",
    "    print( f\"{scenario}:  {output}\")\n"
   ]
  }
 ],
 "metadata": {
  "interpreter": {
   "hash": "db4d94f7962dcc818ea238f62a69636fa41bd28f5daf8a9f9234f6ae986cf5d4"
  },
  "kernelspec": {
   "display_name": "Python 3.8.12 ('strive')",
   "language": "python",
   "name": "python3"
  },
  "language_info": {
   "codemirror_mode": {
    "name": "ipython",
    "version": 3
   },
   "file_extension": ".py",
   "mimetype": "text/x-python",
   "name": "python",
   "nbconvert_exporter": "python",
   "pygments_lexer": "ipython3",
   "version": "3.8.12"
  },
  "orig_nbformat": 4
 },
 "nbformat": 4,
 "nbformat_minor": 2
}
